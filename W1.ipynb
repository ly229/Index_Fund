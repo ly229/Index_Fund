{
 "cells": [
  {
   "cell_type": "markdown",
   "id": "5989bb62-e64a-40fd-ab62-b2a74b059d8d",
   "metadata": {
    "tags": []
   },
   "source": [
    "# WEEK 1 Practice"
   ]
  },
  {
   "cell_type": "markdown",
   "id": "4e471263-22df-43b1-b0cd-c7ede695a999",
   "metadata": {},
   "source": [
    "## plusMinus Function -- find the ratio of positive and negative, zeros in an array of intergers"
   ]
  },
  {
   "cell_type": "code",
   "execution_count": 4,
   "id": "7d51acc3-5b39-4bc6-9c92-1535bae5d994",
   "metadata": {},
   "outputs": [],
   "source": [
    "# Import the 'array' class from the 'array' module\n",
    "from array import array"
   ]
  },
  {
   "cell_type": "code",
   "execution_count": 5,
   "id": "bddd0d87-68f7-483a-864e-c5509e6b1b4f",
   "metadata": {},
   "outputs": [],
   "source": [
    "# Define a function 'plusMinus' to take a list of integers as inputs and \n",
    "def plusMinus(_nums):\n",
    "    # Get length of the input list\n",
    "    n = len(_nums)\n",
    "    # Initialize counters for positive, negative, and zeros\n",
    "    n1 = n2 = n3 = 0\n",
    "    \n",
    "    # Check the integers in the list\n",
    "    for x in _nums:\n",
    "        if x > 0:\n",
    "            n1 += 1\n",
    "        elif x < 0:\n",
    "            n2 += 1\n",
    "        else:\n",
    "            n3  += 1\n",
    "            \n",
    "    # Return the ratio of pos,neg,zeros, rounded to 2 decimals\n",
    "    return round(n1/n, 2), round(n2/n, 2), round(n3/n,2)\n"
   ]
  },
  {
   "cell_type": "code",
   "execution_count": 3,
   "id": "bdcff6cb-7079-4d8d-af2c-17d2bb885256",
   "metadata": {},
   "outputs": [
    {
     "data": {
      "text/plain": [
       "(0.54, 0.31, 0.15)"
      ]
     },
     "execution_count": 3,
     "metadata": {},
     "output_type": "execute_result"
    }
   ],
   "source": [
    "### demo data\n",
    "# Create an array 'nums' pf type 'i' (signed integer) with specified elemens\n",
    "nums = array('i', [0, 1, 2, -1, -5, 6, 0, -3, -2, 3, 4, 6, 8])\n",
    "\n",
    "# Convert 'num' array to a list and store as 'num_arr'\n",
    "num_arr = list(map(int,nums))\n",
    "\n",
    "## Main\n",
    "plusMinus(num_arr)"
   ]
  },
  {
   "cell_type": "code",
   "execution_count": 6,
   "id": "0cc686ec-a833-4821-962c-8b1d51c46ee2",
   "metadata": {},
   "outputs": [
    {
     "data": {
      "text/plain": [
       "(0.69, 0.31, 0.0)"
      ]
     },
     "execution_count": 6,
     "metadata": {},
     "output_type": "execute_result"
    }
   ],
   "source": [
    "### demo data\n",
    "nums2 = array('i', [2, 1, 2, -1, -5, 6, 4, -3, -2, 3, 4, 6, 8])\n",
    "num_arr2 = list(map(int, nums2))\n",
    "\n",
    "plusMinus(num_arr2)"
   ]
  }
 ],
 "metadata": {
  "kernelspec": {
   "display_name": "Python 3 (ipykernel)",
   "language": "python",
   "name": "python3"
  },
  "language_info": {
   "codemirror_mode": {
    "name": "ipython",
    "version": 3
   },
   "file_extension": ".py",
   "mimetype": "text/x-python",
   "name": "python",
   "nbconvert_exporter": "python",
   "pygments_lexer": "ipython3",
   "version": "3.12.2"
  }
 },
 "nbformat": 4,
 "nbformat_minor": 5
}
