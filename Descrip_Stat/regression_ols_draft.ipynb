{
 "cells": [
  {
   "cell_type": "code",
   "execution_count": 1,
   "id": "fec6f3a4-bba6-4ae5-9995-9bba27c535c8",
   "metadata": {},
   "outputs": [],
   "source": [
    "import pandas as pd\n",
    "import numpy as np\n",
    "import statsmodels.api as sm\n",
    "import wrds"
   ]
  },
  {
   "cell_type": "code",
   "execution_count": 2,
   "id": "62de3a85-473d-489f-bf3e-d83e0628056b",
   "metadata": {},
   "outputs": [],
   "source": [
    "from datetime import datetime\n",
    "import time"
   ]
  },
  {
   "cell_type": "code",
   "execution_count": 207,
   "id": "91683187-d17b-43f1-bf8c-8e5368ac5dc5",
   "metadata": {},
   "outputs": [],
   "source": [
    "import matplotlib.pyplot as plt"
   ]
  },
  {
   "cell_type": "code",
   "execution_count": 3,
   "id": "11775a8f-a4ab-46fe-b4ca-3dbcc75e56df",
   "metadata": {},
   "outputs": [
    {
     "name": "stdin",
     "output_type": "stream",
     "text": [
      "Enter your WRDS username [ec2-user]: ly229\n",
      "Enter your password: ········\n"
     ]
    },
    {
     "name": "stdout",
     "output_type": "stream",
     "text": [
      "WRDS recommends setting up a .pgpass file.\n"
     ]
    },
    {
     "name": "stdin",
     "output_type": "stream",
     "text": [
      "Create .pgpass file now [y/n]?:  y\n"
     ]
    },
    {
     "name": "stdout",
     "output_type": "stream",
     "text": [
      "Created .pgpass file successfully.\n",
      "You can create this file yourself at any time with the create_pgpass_file() function.\n",
      "Loading library list...\n",
      "Done\n"
     ]
    }
   ],
   "source": [
    "###################\n",
    "# Connect to WRDS #\n",
    "###################\n",
    "conn=wrds.Connection()"
   ]
  },
  {
   "cell_type": "markdown",
   "id": "89329b3e-3f86-46b2-a731-c52aae254160",
   "metadata": {},
   "source": [
    "## 1. Prepare Data for Regression"
   ]
  },
  {
   "cell_type": "markdown",
   "id": "d1fac2e5-018d-48e5-898e-c5c35fdbd518",
   "metadata": {},
   "source": [
    "### i) Loading CRSP daily stock data"
   ]
  },
  {
   "cell_type": "markdown",
   "id": "307cb2cb-adb0-41f2-b00b-891070b1e138",
   "metadata": {},
   "source": [
    "#### Testing\n",
    "- (see a lot higher vol to shrout) so check for stocks that trading volume is smaller than share of outstanding to see whether there is a mistake"
   ]
  },
  {
   "cell_type": "code",
   "execution_count": 22,
   "id": "4e9c97ce-c8ad-4091-a7df-dd098090d803",
   "metadata": {},
   "outputs": [
    {
     "name": "stdout",
     "output_type": "stream",
     "text": [
      "           cusip        date    return    bid    ask     volume  \\\n",
      "0       00032Q10  2023-09-01 -0.069841   5.85   5.86   136489.0   \n",
      "1       00036020  2023-09-01  0.041231  65.65  65.66   460862.0   \n",
      "2       00036110  2023-09-01 -0.001461  61.49  61.51   144170.0   \n",
      "3       00038020  2023-09-01  0.009284  22.82  22.84  8055326.0   \n",
      "4       00039J10  2023-09-01 -0.000378  50.04  50.06    20292.0   \n",
      "...          ...         ...       ...    ...    ...        ...   \n",
      "281498  Y8897Y23  2023-12-29  0.000000  15.31  15.62    24892.0   \n",
      "281499  Y8900D10  2023-12-29 -0.019920   4.92   4.95    36927.0   \n",
      "281500  Y9233510  2023-12-29  0.008163   2.46   2.47    42984.0   \n",
      "281501  Y9390M10  2023-12-29 -0.031250   8.37   8.38  2808199.0   \n",
      "281502  Y9530810  2023-12-29 -0.001976   5.04   5.05   693952.0   \n",
      "\n",
      "        shares_outstanding    price  \n",
      "0                  24520.0   5.8600  \n",
      "1                  81609.0  65.6600  \n",
      "2                  34989.0  61.5100  \n",
      "3                 214632.0  22.8300  \n",
      "4                   9826.0  50.0547  \n",
      "...                    ...      ...  \n",
      "281498              4626.0  15.6200  \n",
      "281499              9461.0   4.9200  \n",
      "281500              8881.0   2.4700  \n",
      "281501           2307171.0   8.3700  \n",
      "281502             99054.0   5.0500  \n",
      "\n",
      "[781503 rows x 8 columns]\n",
      "Execution time for test query: 13.0611 seconds\n"
     ]
    }
   ],
   "source": [
    "start_time_ins = time.time()\n",
    "test_query = \"\"\"\n",
    "        SELECT DISTINCT \n",
    "            cusip, \n",
    "            date AS date,\n",
    "            ret AS return,\n",
    "            bid,ask,\n",
    "            vol as volume,\n",
    "            shrout AS shares_outstanding,\n",
    "            ABS(prc) AS price            \n",
    "            \n",
    "    \n",
    "        FROM \n",
    "            crsp.dsf\n",
    "\n",
    "        WHERE \n",
    "            date BETWEEN '2023-09-01' AND '2023-12-31'\n",
    "        \n",
    "        ORDER BY\n",
    "            date;\n",
    "\"\"\"\n",
    "\n",
    "try:\n",
    "    test_result = conn.raw_sql(test_query)\n",
    "    print(test_result)\n",
    "except Exception as e:\n",
    "    print(\"Error executing test query:\", e)\n",
    "\n",
    "end_time_ins = time.time()\n",
    "execution_time_ins = end_time_ins - start_time_ins\n",
    "\n",
    "print(f\"Execution time for test query: {execution_time_ins:.4f} seconds\")"
   ]
  },
  {
   "cell_type": "code",
   "execution_count": 27,
   "id": "5ffa0562-b840-47e2-bf15-f4006e3e12f4",
   "metadata": {},
   "outputs": [
    {
     "name": "stdout",
     "output_type": "stream",
     "text": [
      "           cusip        date    return     bid     ask     volume  \\\n",
      "0       78463X47  2023-10-31  0.005486   48.79   48.86    47084.0   \n",
      "1       82489W10  2023-09-07 -0.008479   19.88   19.89  2943534.0   \n",
      "2       50189K10  2023-10-02  0.001363  117.58  117.59   256282.0   \n",
      "3       74347R17  2023-11-29  0.029091   19.77   19.82   108286.0   \n",
      "4       65481N10  2023-10-09 -0.058140    2.42    2.43   216516.0   \n",
      "...          ...         ...       ...     ...     ...        ...   \n",
      "280675  39957D20  2023-10-13 -0.160622    1.57    1.62   195424.0   \n",
      "280676  00174410  2023-12-07  0.004380   68.76   68.77   397947.0   \n",
      "280677  03071H10  2023-11-08 -0.004318   50.67   50.75    59276.0   \n",
      "280678  46435U36  2023-11-16 -0.026110   33.56   33.72    62440.0   \n",
      "280679  12950010  2023-10-16  0.030022   27.78   27.79   371983.0   \n",
      "\n",
      "        shares_outstanding   price  \n",
      "0                  12150.0   48.88  \n",
      "1                 169940.0   19.88  \n",
      "2                  25324.0  117.58  \n",
      "3                   3975.0   19.81  \n",
      "4                  50773.0    2.43  \n",
      "...                    ...     ...  \n",
      "280675             29334.0    1.62  \n",
      "280676             37789.0   68.80  \n",
      "280677             19182.0   50.73  \n",
      "280678             10400.0   33.57  \n",
      "280679             35539.0   27.79  \n",
      "\n",
      "[780680 rows x 8 columns]\n",
      "Execution time for test query: 9.8921 seconds\n"
     ]
    }
   ],
   "source": [
    "start_time_ins = time.time()\n",
    "test_query_1 = \"\"\"\n",
    "        SELECT DISTINCT \n",
    "            cusip, \n",
    "            date AS date,\n",
    "            ret AS return,\n",
    "            bid,ask,\n",
    "            vol as volume,\n",
    "            shrout AS shares_outstanding,\n",
    "            ABS(prc) AS price            \n",
    "            \n",
    "    \n",
    "        FROM \n",
    "            crsp.dsf\n",
    "\n",
    "        WHERE \n",
    "            date BETWEEN '2023-09-01' AND '2023-12-31'\n",
    "            AND prc IS NOT NULL\n",
    "            AND ret IS NOT NULL\n",
    "            AND shrout IS NOT NULL\n",
    "            AND bid IS NOT NULL\n",
    "            AND ask IS NOT NULL\n",
    "\"\"\"\n",
    "\n",
    "try:\n",
    "    test_result_1 = conn.raw_sql(test_query_1)\n",
    "    print(test_result_1)\n",
    "except Exception as e:\n",
    "    print(\"Error executing test query:\", e)\n",
    "\n",
    "end_time_ins = time.time()\n",
    "execution_time_ins = end_time_ins - start_time_ins\n",
    "\n",
    "print(f\"Execution time for test query: {execution_time_ins:.4f} seconds\")"
   ]
  },
  {
   "cell_type": "code",
   "execution_count": 13,
   "id": "7e17cf59-7ab1-4358-bd8e-6ae3cf4e81c9",
   "metadata": {},
   "outputs": [
    {
     "data": {
      "text/plain": [
       "3056"
      ]
     },
     "execution_count": 13,
     "metadata": {},
     "output_type": "execute_result"
    }
   ],
   "source": [
    "len(test_result.cusip.unique())"
   ]
  },
  {
   "cell_type": "code",
   "execution_count": 11,
   "id": "42cf10d7-12a4-4bc5-b24b-6b624d374339",
   "metadata": {},
   "outputs": [
    {
     "name": "stdout",
     "output_type": "stream",
     "text": [
      "          cusip        date    return    bid    ask  volume  \\\n",
      "2214   37954Y18  2023-12-29 -0.003916  16.33  16.39   530.0   \n",
      "18805  37954Y18  2023-12-28 -0.002801  16.39  16.45  1343.0   \n",
      "\n",
      "       shares_outstanding    price  \n",
      "2214                610.0  16.3557  \n",
      "18805               610.0  16.4200  \n"
     ]
    }
   ],
   "source": [
    "print(test_result.loc[test_result['cusip'] == '37954Y18'])"
   ]
  },
  {
   "cell_type": "code",
   "execution_count": 26,
   "id": "c2e76fe6-af07-45bc-b899-a21cd44610e7",
   "metadata": {},
   "outputs": [
    {
     "name": "stdout",
     "output_type": "stream",
     "text": [
      "Downloading data for the year 1993...\n",
      "Data for year 1993 appended to 'crsp_daily.csv'\n",
      "Downloading data for the year 1994...\n",
      "Data for year 1994 appended to 'crsp_daily.csv'\n",
      "Downloading data for the year 1995...\n",
      "Data for year 1995 appended to 'crsp_daily.csv'\n",
      "Downloading data for the year 1996...\n",
      "Data for year 1996 appended to 'crsp_daily.csv'\n",
      "Downloading data for the year 1997...\n",
      "Data for year 1997 appended to 'crsp_daily.csv'\n",
      "Downloading data for the year 1998...\n",
      "Data for year 1998 appended to 'crsp_daily.csv'\n",
      "Downloading data for the year 1999...\n",
      "Data for year 1999 appended to 'crsp_daily.csv'\n",
      "Downloading data for the year 2000...\n",
      "Data for year 2000 appended to 'crsp_daily.csv'\n",
      "Downloading data for the year 2001...\n",
      "Data for year 2001 appended to 'crsp_daily.csv'\n",
      "Downloading data for the year 2002...\n",
      "Data for year 2002 appended to 'crsp_daily.csv'\n",
      "Downloading data for the year 2003...\n",
      "Data for year 2003 appended to 'crsp_daily.csv'\n",
      "Downloading data for the year 2004...\n",
      "Data for year 2004 appended to 'crsp_daily.csv'\n",
      "Downloading data for the year 2005...\n",
      "Data for year 2005 appended to 'crsp_daily.csv'\n",
      "Downloading data for the year 2006...\n",
      "Data for year 2006 appended to 'crsp_daily.csv'\n",
      "Downloading data for the year 2007...\n",
      "Data for year 2007 appended to 'crsp_daily.csv'\n",
      "Downloading data for the year 2008...\n",
      "Data for year 2008 appended to 'crsp_daily.csv'\n",
      "Downloading data for the year 2009...\n",
      "Data for year 2009 appended to 'crsp_daily.csv'\n",
      "Downloading data for the year 2010...\n",
      "Data for year 2010 appended to 'crsp_daily.csv'\n",
      "Downloading data for the year 2011...\n",
      "Data for year 2011 appended to 'crsp_daily.csv'\n",
      "Downloading data for the year 2012...\n",
      "Data for year 2012 appended to 'crsp_daily.csv'\n",
      "Downloading data for the year 2013...\n",
      "Data for year 2013 appended to 'crsp_daily.csv'\n",
      "Downloading data for the year 2014...\n",
      "Data for year 2014 appended to 'crsp_daily.csv'\n",
      "Downloading data for the year 2015...\n",
      "Data for year 2015 appended to 'crsp_daily.csv'\n",
      "Downloading data for the year 2016...\n",
      "Data for year 2016 appended to 'crsp_daily.csv'\n",
      "Downloading data for the year 2017...\n",
      "Data for year 2017 appended to 'crsp_daily.csv'\n",
      "Downloading data for the year 2018...\n",
      "Data for year 2018 appended to 'crsp_daily.csv'\n",
      "Downloading data for the year 2019...\n",
      "Data for year 2019 appended to 'crsp_daily.csv'\n",
      "Downloading data for the year 2020...\n",
      "Data for year 2020 appended to 'crsp_daily.csv'\n",
      "Downloading data for the year 2021...\n",
      "Data for year 2021 appended to 'crsp_daily.csv'\n",
      "Downloading data for the year 2022...\n",
      "Data for year 2022 appended to 'crsp_daily.csv'\n",
      "Downloading data for the year 2023...\n",
      "Data for year 2023 appended to 'crsp_daily.csv'\n",
      "Downloading data for the year 2024...\n",
      "Data for year 2024 appended to 'crsp_daily.csv'\n"
     ]
    }
   ],
   "source": [
    "file_name = \"crsp_daily.csv\"\n",
    "\n",
    "start_year = 1993\n",
    "current_year = datetime.now().year\n",
    "\n",
    "for year in range(start_year, current_year + 1):\n",
    "    \n",
    "    print(f\"Downloading data for the year {year}...\")\n",
    "    start_date = f'{year}-01-01'\n",
    "    end_date = f'{year}-12-31'\n",
    "    \n",
    "    query = f\"\"\"\n",
    "        SELECT DISTINCT \n",
    "            cusip, \n",
    "            date AS date,\n",
    "            ret AS return,\n",
    "            bid,ask,\n",
    "            vol as volume,\n",
    "            shrout AS shares_outstanding,\n",
    "            ABS(prc) AS price            \n",
    "            \n",
    "    \n",
    "        FROM \n",
    "            crsp.dsf\n",
    "\n",
    "        WHERE \n",
    "            date BETWEEN '{start_date}' AND '{end_date}'\n",
    "            AND prc IS NOT NULL\n",
    "            AND ret IS NOT NULL\n",
    "            AND shrout IS NOT NULL\n",
    "            AND bid IS NOT NULL\n",
    "            AND ask IS NOT NULL\n",
    "        \n",
    "    \"\"\"\n",
    "    \n",
    "    # Fetch data for the current year\n",
    "    year_data = conn.raw_sql(query)\n",
    "    \n",
    "    # Append the data to the CSV file\n",
    "    if year == start_year:\n",
    "        # Write with header if it's the first year\n",
    "        year_data.to_csv(file_name, mode='w', header=True, index=False)\n",
    "    else:\n",
    "        # Append without header if it's not the first year\n",
    "        year_data.to_csv(file_name, mode='a', header=False, index=False)\n",
    "    \n",
    "    print(f\"Data for year {year} appended to '{file_name}'\")"
   ]
  },
  {
   "cell_type": "markdown",
   "id": "ccf8f8c8-af16-45bf-b091-aaf29e88f417",
   "metadata": {},
   "source": [
    "### ii) Resampling - daily to quarterly"
   ]
  },
  {
   "cell_type": "code",
   "execution_count": 115,
   "id": "1a3b94d4-35a2-4081-86cd-cfe2b8274e34",
   "metadata": {},
   "outputs": [],
   "source": [
    "crsp_daily = pd.read_csv(\"crsp_daily.csv\")"
   ]
  },
  {
   "cell_type": "markdown",
   "id": "bb582ea0-2fc3-4122-b116-f4930caa1d0b",
   "metadata": {},
   "source": [
    "#### Testing of Resampling"
   ]
  },
  {
   "cell_type": "code",
   "execution_count": 15,
   "id": "470591cf-9438-469d-b3b0-aa0bb5555154",
   "metadata": {},
   "outputs": [],
   "source": [
    "sample_crsp = crsp_daily.sample(n=100000, random_state=42)"
   ]
  },
  {
   "cell_type": "code",
   "execution_count": 20,
   "id": "6237bfac-d7cf-4f41-af46-2f3cb3d3d4ed",
   "metadata": {},
   "outputs": [
    {
     "name": "stdout",
     "output_type": "stream",
     "text": [
      "             cusip       date    return    bid    ask    volume  \\\n",
      "37068003  00037520 2013-03-12 -0.005245  22.75  22.76  916300.0   \n",
      "\n",
      "          shares_outstanding  price  \n",
      "37068003            133827.0  22.76  \n"
     ]
    }
   ],
   "source": [
    "print(sample_crsp.loc[sample_crsp['cusip'] == '00037520'])"
   ]
  },
  {
   "cell_type": "code",
   "execution_count": 24,
   "id": "6286932f-9ee3-4251-bb98-d146775cab0b",
   "metadata": {},
   "outputs": [
    {
     "name": "stdout",
     "output_type": "stream",
     "text": [
      "      index     cusip       date     ask      bid    price      volume  \\\n",
      "0         0  00036020 2007-03-31  27.920  27.8800  27.9200     24346.0   \n",
      "1         1  00037520 2013-03-31  22.760  22.7500  22.7600    916300.0   \n",
      "2         2  00039J20 2023-06-30  24.930  24.9100  24.9150     29833.0   \n",
      "3         3  00057310 1993-06-30   3.875   3.6875   3.6875    404250.0   \n",
      "4         4  00078110 1993-03-31  17.000  16.2500  17.0000     21150.0   \n",
      "...     ...       ...        ...     ...      ...      ...         ...   \n",
      "9948   9948  Y8564W10 2011-03-31  35.840  35.8300  35.8000    643900.0   \n",
      "9949   9949  Y8565N30 2010-06-30  12.380  12.3700  12.4000    318400.0   \n",
      "9950   9950  Y8897Y23 2009-09-30   1.730   1.7100   1.7100     52018.0   \n",
      "9951   9951  Y8897Y23 2021-03-31   1.960   1.9500   1.9700  12342754.0   \n",
      "9952   9952  Y9530810 2022-09-30   3.380   3.3600   3.3600    129291.0   \n",
      "\n",
      "      shares_outstanding    return  \n",
      "0                12339.0  0.002154  \n",
      "1               133827.0 -0.005245  \n",
      "2                 6852.0 -0.000401  \n",
      "3                13842.0  0.134615  \n",
      "4                 2526.0  0.133333  \n",
      "...                  ...       ...  \n",
      "9948             72993.0  0.013016  \n",
      "9949             19500.0  0.015561  \n",
      "9950             29538.0 -0.005814  \n",
      "9951             39832.0  0.201220  \n",
      "9952             86820.0 -0.045455  \n",
      "\n",
      "[9953 rows x 9 columns]\n"
     ]
    }
   ],
   "source": [
    "sample_crsp['date'] = pd.to_datetime(sample_crsp['date'])\n",
    "\n",
    "def geometric_mean(x):\n",
    "   return np.exp(np.log(1+x).mean()) - 1\n",
    "\n",
    "#Group by year and quarter, aggregating the desired columns\n",
    "sample_quarterly = sample_crsp.groupby(['cusip', pd.Grouper(key='date', freq='QE')]).agg({\n",
    "    'ask': 'mean',               # Average ask price\n",
    "    'bid': 'mean',               # Average bid price\n",
    "    'price': 'mean',             # Average price\n",
    "    'volume': 'sum',             # Total trading volume\n",
    "    'shares_outstanding': 'last', # Last value of shares outstanding\n",
    "    'return': geometric_mean  # Cumulative return\n",
    "}).reset_index()\n",
    "\n",
    "#Reset index if needed (optional)\n",
    "sample_quarterly.reset_index(inplace=True)\n",
    "\n",
    "print(sample_quarterly)"
   ]
  },
  {
   "cell_type": "code",
   "execution_count": 26,
   "id": "1ef4cffb-692e-4530-abdc-875d25864466",
   "metadata": {},
   "outputs": [
    {
     "name": "stdout",
     "output_type": "stream",
     "text": [
      "         index     cusip       date       ask       bid     price      volume  \\\n",
      "0            0  00002130 1993-03-31  1.108871  0.933972  1.015625    820439.0   \n",
      "1            1  00002130 1993-06-30  1.321925  1.173115  1.243056   4598634.0   \n",
      "2            2  00002130 1993-09-30  3.105469  2.971191  3.049805   6395409.0   \n",
      "3            3  00002130 1993-12-31  2.686523  2.548340  2.621582   3166675.0   \n",
      "4            4  00002130 1994-03-31  2.394841  2.244048  2.321925   2519814.0   \n",
      "...        ...       ...        ...       ...       ...       ...         ...   \n",
      "957766  957766  Y9530810 2022-12-31  4.619206  4.601905  4.607778  43426321.0   \n",
      "957767  957767  Y9530810 2023-03-31  4.591613  4.576774  4.581855  27327539.0   \n",
      "957768  957768  Y9530810 2023-06-30  4.043387  4.029194  4.038790  26489301.0   \n",
      "957769  957769  Y9530810 2023-09-30  4.571746  4.559048  4.564921  18258199.0   \n",
      "957770  957770  Y9530810 2023-12-31  5.346825  5.334762  5.344841  35502283.0   \n",
      "\n",
      "        shares_outstanding    return  \n",
      "0                   7714.0 -0.010492  \n",
      "1                   7714.0  0.016741  \n",
      "2                   7897.0  0.001983  \n",
      "3                   7897.0  0.001422  \n",
      "4                   8398.0 -0.008422  \n",
      "...                    ...       ...  \n",
      "957766             86901.0  0.010567  \n",
      "957767             98105.0 -0.007718  \n",
      "957768             98437.0 -0.002796  \n",
      "957769             98983.0  0.007284  \n",
      "957770             99054.0 -0.002058  \n",
      "\n",
      "[957771 rows x 9 columns]\n"
     ]
    }
   ],
   "source": [
    "crsp_daily['date'] = pd.to_datetime(crsp_daily['date'])\n",
    "\n",
    "def geometric_mean(x):\n",
    "   return np.exp(np.log(1+x).mean()) - 1\n",
    "\n",
    "#Group by year and quarter, aggregating the desired columns\n",
    "crsp_quarterly = crsp_daily.groupby(['cusip', pd.Grouper(key='date', freq='QE')]).agg({\n",
    "    'ask': 'mean',               # Average ask price\n",
    "    'bid': 'mean',               # Average bid price\n",
    "    'price': 'mean',             # Average price\n",
    "    'volume': 'sum',             # Total trading volume\n",
    "    'shares_outstanding': 'last', # Last value of shares outstanding\n",
    "    'return': geometric_mean  # Cumulative return\n",
    "}).reset_index()\n",
    "\n",
    "# Step 6: Reset index if needed (optional)\n",
    "crsp_quarterly.reset_index(inplace=True)\n",
    "\n",
    "# Step 7: Display the result\n",
    "print(crsp_quarterly)"
   ]
  },
  {
   "cell_type": "code",
   "execution_count": 30,
   "id": "ded78c61-90cd-4a92-bce1-ea8b3971f69b",
   "metadata": {},
   "outputs": [],
   "source": [
    "file_path_1 = 'crsp_quarterly.csv' \n",
    "crsp_quarterly.to_csv(file_path_1, index=False)"
   ]
  },
  {
   "cell_type": "markdown",
   "id": "050bf5eb-659f-4396-84c2-dd2f11d2c501",
   "metadata": {},
   "source": [
    "## 2) Baseline OLS Regression"
   ]
  },
  {
   "cell_type": "markdown",
   "id": "ebd00e97-ddec-4bf4-96b7-a17894f36394",
   "metadata": {},
   "source": [
    "### i) Construct Dependent Varaibles - Market Quality\n",
    "- price efficiency\n",
    "- liquidity\n",
    "- volatility"
   ]
  },
  {
   "cell_type": "markdown",
   "id": "61f55ddf-82fa-4812-a9a2-7196925cac9d",
   "metadata": {},
   "source": [
    "### i-1) Liquidity and Volatility"
   ]
  },
  {
   "cell_type": "code",
   "execution_count": 5,
   "id": "225b988c-3a65-4bbe-ad51-99ebe0fecc3b",
   "metadata": {},
   "outputs": [],
   "source": [
    "crsp_quarterly = pd.read_csv('crsp_quarterly.csv') \n",
    "df_regression = pd.read_csv(\"df_regression.csv\")"
   ]
  },
  {
   "cell_type": "code",
   "execution_count": 77,
   "id": "0357d31a-c8c6-4f52-ab51-0cc4f4667481",
   "metadata": {},
   "outputs": [],
   "source": [
    "#prepare an empty dataframe for regression variables\n",
    "\n",
    "columns = [\n",
    "    'cusip',             # CUSIP identifier\n",
    "    'date',              # end of the quarter\n",
    "    'bas',               # bid-ask spread\n",
    "    'tno',               # turnover ratio/share turnover\n",
    "    'illiq',             # average Amihud illiquidity for the quarter\n",
    "    'volatility',        # idiosyncratic volatility over the quarter\n",
    "    'synch',             # stock synchronicity\n",
    "    'autocorr',          # autocorrelation of returns\n",
    "    'ind_own',           # index ownership\n",
    "    'mktcap'             # maket capitalization in million\n",
    "    'price_ind',         # 1/average price for the quarter\n",
    "    'volume',            # total trading volume in million\n",
    "    'act_own',           # active ownership\n",
    "    'ins_own'            # instituinal ownership\n",
    "]\n",
    "\n",
    "# Create an empty DataFrame with the specified columns\n",
    "df_regression = pd.DataFrame(columns=columns)"
   ]
  },
  {
   "cell_type": "code",
   "execution_count": 45,
   "id": "f0576f51-81bc-4e6e-ba4c-712ecd0aaf35",
   "metadata": {},
   "outputs": [],
   "source": [
    "# Liquidity: bid-ask spread, turnover ratio/share turnover\n",
    "crsp_quarterly['bas'] = crsp_quarterly['ask'] - crsp_quarterly['bid']\n",
    "crsp_quarterly['tno'] = crsp_quarterly['volume'] / crsp_quarterly['shares_outstanding']\n",
    "crsp_quarterly['mktcap'] = crsp_quarterly['price'] * crsp_quarterly['volume']/1000000\n",
    "crsp_quarterly['price_ind'] = 1 / crsp_quarterly['price']"
   ]
  },
  {
   "cell_type": "code",
   "execution_count": 52,
   "id": "16a4246e-b366-4ce8-b2ca-0e82cb0b5f7f",
   "metadata": {},
   "outputs": [],
   "source": [
    "crsp_quarterly_merge = crsp_quarterly.copy()"
   ]
  },
  {
   "cell_type": "code",
   "execution_count": 53,
   "id": "f8243aa3-8c72-4d89-8483-cc9797fc562d",
   "metadata": {},
   "outputs": [],
   "source": [
    "selected_columns = ['cusip', 'date', 'bas', 'tno', 'mktcap', 'price_ind','volume']\n",
    "crsp_quarterly_merge = crsp_quarterly_merge[selected_columns]"
   ]
  },
  {
   "cell_type": "code",
   "execution_count": 55,
   "id": "ff422e30-4910-4eb0-8762-8199893062cc",
   "metadata": {},
   "outputs": [],
   "source": [
    "crsp_quarterly_merge.loc[:,'volume'] = crsp_quarterly_merge['volume']/1000000"
   ]
  },
  {
   "cell_type": "markdown",
   "id": "f98ae93f-4da8-4630-acab-00274f680baf",
   "metadata": {},
   "source": [
    "#### obtain easy calculation ones and leave others as nans"
   ]
  },
  {
   "cell_type": "code",
   "execution_count": 78,
   "id": "6cc978dc-7854-4db7-a912-8cd17715d903",
   "metadata": {},
   "outputs": [],
   "source": [
    "df_regression = crsp_quarterly_merge.assign(illiq=np.nan, \n",
    "                                             volatility=np.nan,\n",
    "                                             synch=np.nan,\n",
    "                                             autocorr=np.nan,\n",
    "                                             ind_own=np.nan,\n",
    "                                             act_own=np.nan,\n",
    "                                             ins_own=np.nan)"
   ]
  },
  {
   "cell_type": "markdown",
   "id": "6ae899e7-3d90-43fc-81a8-c7feb848e2a8",
   "metadata": {},
   "source": [
    "#### Amihud Illiqudity Measure"
   ]
  },
  {
   "cell_type": "code",
   "execution_count": 41,
   "id": "746e9342-5b00-48f2-92c2-fabbe089fd97",
   "metadata": {},
   "outputs": [],
   "source": [
    "def amihud_illiquidity(daily_data):\n",
    "\n",
    "    # Ensure the date column is in datetime format\n",
    "    daily_data['date'] = pd.to_datetime(daily_data['date'])\n",
    "    \n",
    "    # Calculate the Amihud illiquidity for each day, scaled up by 100 million for better readability    \n",
    "    daily_data['illiquidity'] = np.abs(daily_data['return']) / (daily_data['price'] * daily_data['volume'])*100000000\n",
    "    \n",
    "    # Step 2: Group by CUSIP and quarter, and calculate the average illiquidity measure\n",
    "    illiquidity = daily_data.groupby(['cusip', pd.Grouper(key='date', freq='QE')]).agg(\n",
    "        illiquidity=('illiquidity', 'mean')  # Average illiquidity over the quarter\n",
    "    ).reset_index()\n",
    "    \n",
    "    return illiquidity"
   ]
  },
  {
   "cell_type": "code",
   "execution_count": 21,
   "id": "9689cfab-346c-4be7-a417-895185dcf0c8",
   "metadata": {},
   "outputs": [],
   "source": [
    "crsp_daily_amihud = crsp_daily[crsp_daily['volume'] != 0].reset_index(drop=True)"
   ]
  },
  {
   "cell_type": "code",
   "execution_count": 42,
   "id": "e4d86cbb-b172-46f5-bdeb-72afc5570f4c",
   "metadata": {},
   "outputs": [
    {
     "data": {
      "text/html": [
       "<div>\n",
       "<style scoped>\n",
       "    .dataframe tbody tr th:only-of-type {\n",
       "        vertical-align: middle;\n",
       "    }\n",
       "\n",
       "    .dataframe tbody tr th {\n",
       "        vertical-align: top;\n",
       "    }\n",
       "\n",
       "    .dataframe thead th {\n",
       "        text-align: right;\n",
       "    }\n",
       "</style>\n",
       "<table border=\"1\" class=\"dataframe\">\n",
       "  <thead>\n",
       "    <tr style=\"text-align: right;\">\n",
       "      <th></th>\n",
       "      <th>cusip</th>\n",
       "      <th>date</th>\n",
       "      <th>illiquidity</th>\n",
       "    </tr>\n",
       "  </thead>\n",
       "  <tbody>\n",
       "    <tr>\n",
       "      <th>0</th>\n",
       "      <td>00002130</td>\n",
       "      <td>1993-03-31</td>\n",
       "      <td>3206.893230</td>\n",
       "    </tr>\n",
       "    <tr>\n",
       "      <th>1</th>\n",
       "      <td>00002130</td>\n",
       "      <td>1993-06-30</td>\n",
       "      <td>2962.366077</td>\n",
       "    </tr>\n",
       "    <tr>\n",
       "      <th>2</th>\n",
       "      <td>00002130</td>\n",
       "      <td>1993-09-30</td>\n",
       "      <td>20.606325</td>\n",
       "    </tr>\n",
       "    <tr>\n",
       "      <th>3</th>\n",
       "      <td>00002130</td>\n",
       "      <td>1993-12-31</td>\n",
       "      <td>57.773551</td>\n",
       "    </tr>\n",
       "    <tr>\n",
       "      <th>4</th>\n",
       "      <td>00002130</td>\n",
       "      <td>1994-03-31</td>\n",
       "      <td>146.438422</td>\n",
       "    </tr>\n",
       "    <tr>\n",
       "      <th>...</th>\n",
       "      <td>...</td>\n",
       "      <td>...</td>\n",
       "      <td>...</td>\n",
       "    </tr>\n",
       "    <tr>\n",
       "      <th>956177</th>\n",
       "      <td>Y9530810</td>\n",
       "      <td>2022-12-31</td>\n",
       "      <td>3.353258</td>\n",
       "    </tr>\n",
       "    <tr>\n",
       "      <th>956178</th>\n",
       "      <td>Y9530810</td>\n",
       "      <td>2023-03-31</td>\n",
       "      <td>1.842007</td>\n",
       "    </tr>\n",
       "    <tr>\n",
       "      <th>956179</th>\n",
       "      <td>Y9530810</td>\n",
       "      <td>2023-06-30</td>\n",
       "      <td>2.416159</td>\n",
       "    </tr>\n",
       "    <tr>\n",
       "      <th>956180</th>\n",
       "      <td>Y9530810</td>\n",
       "      <td>2023-09-30</td>\n",
       "      <td>2.952670</td>\n",
       "    </tr>\n",
       "    <tr>\n",
       "      <th>956181</th>\n",
       "      <td>Y9530810</td>\n",
       "      <td>2023-12-31</td>\n",
       "      <td>1.648876</td>\n",
       "    </tr>\n",
       "  </tbody>\n",
       "</table>\n",
       "<p>956182 rows × 3 columns</p>\n",
       "</div>"
      ],
      "text/plain": [
       "           cusip       date  illiquidity\n",
       "0       00002130 1993-03-31  3206.893230\n",
       "1       00002130 1993-06-30  2962.366077\n",
       "2       00002130 1993-09-30    20.606325\n",
       "3       00002130 1993-12-31    57.773551\n",
       "4       00002130 1994-03-31   146.438422\n",
       "...          ...        ...          ...\n",
       "956177  Y9530810 2022-12-31     3.353258\n",
       "956178  Y9530810 2023-03-31     1.842007\n",
       "956179  Y9530810 2023-06-30     2.416159\n",
       "956180  Y9530810 2023-09-30     2.952670\n",
       "956181  Y9530810 2023-12-31     1.648876\n",
       "\n",
       "[956182 rows x 3 columns]"
      ]
     },
     "execution_count": 42,
     "metadata": {},
     "output_type": "execute_result"
    }
   ],
   "source": [
    "df_illiquidity = amihud_illiquidity(crsp_daily_amihud)\n",
    "df_illiquidity"
   ]
  },
  {
   "cell_type": "code",
   "execution_count": 86,
   "id": "a81e02f3-47e9-4da6-b858-94fb5c88875e",
   "metadata": {},
   "outputs": [],
   "source": [
    "df_illiquidity.rename(columns={'illiq': 'illiq_m'}, inplace=True)"
   ]
  },
  {
   "cell_type": "code",
   "execution_count": 66,
   "id": "2a587a4b-9f2f-4cad-906b-c181b13cf56f",
   "metadata": {},
   "outputs": [
    {
     "name": "stdout",
     "output_type": "stream",
     "text": [
      "'date' column is of datetime type: True\n"
     ]
    }
   ],
   "source": [
    "'''# Check if 'date' column is of datetime type\n",
    "is_datetime = pd.api.types.is_datetime64_any_dtype(df_illiquidity['date'])\n",
    "print(f\"'date' column is of datetime type: {is_datetime}\")'''"
   ]
  },
  {
   "cell_type": "code",
   "execution_count": 68,
   "id": "a304574c-2577-4dc8-b369-32ebc05a54de",
   "metadata": {},
   "outputs": [],
   "source": [
    "df_regression['date'] = pd.to_datetime(df_regression['date'])"
   ]
  },
  {
   "cell_type": "code",
   "execution_count": 69,
   "id": "7d990cfa-8644-4e00-a148-8e1d7c7dc577",
   "metadata": {},
   "outputs": [
    {
     "ename": "NameError",
     "evalue": "name 'df_illiquidity' is not defined",
     "output_type": "error",
     "traceback": [
      "\u001b[0;31m---------------------------------------------------------------------------\u001b[0m",
      "\u001b[0;31mNameError\u001b[0m                                 Traceback (most recent call last)",
      "Cell \u001b[0;32mIn[69], line 1\u001b[0m\n\u001b[0;32m----> 1\u001b[0m df_merge \u001b[38;5;241m=\u001b[39m pd\u001b[38;5;241m.\u001b[39mmerge(df_regression, df_illiquidity,\n\u001b[1;32m      2\u001b[0m                          on\u001b[38;5;241m=\u001b[39m[\u001b[38;5;124m'\u001b[39m\u001b[38;5;124mcusip\u001b[39m\u001b[38;5;124m'\u001b[39m, \u001b[38;5;124m'\u001b[39m\u001b[38;5;124mdate\u001b[39m\u001b[38;5;124m'\u001b[39m], how\u001b[38;5;241m=\u001b[39m\u001b[38;5;124m'\u001b[39m\u001b[38;5;124mleft\u001b[39m\u001b[38;5;124m'\u001b[39m)\n",
      "\u001b[0;31mNameError\u001b[0m: name 'df_illiquidity' is not defined"
     ]
    }
   ],
   "source": [
    "df_merge = pd.merge(df_regression, df_illiquidity,\n",
    "                         on=['cusip', 'date'], how='left')"
   ]
  },
  {
   "cell_type": "code",
   "execution_count": 90,
   "id": "238f84b1-bc64-4d1b-8fdb-8cde81d815f1",
   "metadata": {},
   "outputs": [],
   "source": [
    "df_regression['illiq'] = df_merge['illiq_m']"
   ]
  },
  {
   "cell_type": "markdown",
   "id": "3d4ffebb-0058-4e70-8a03-3d956d8dbbe4",
   "metadata": {},
   "source": [
    "#### Volatility - calculate daily and convert to quarterly"
   ]
  },
  {
   "cell_type": "code",
   "execution_count": 20,
   "id": "494eb687-e0ba-4d61-9f4e-0dc54a9be006",
   "metadata": {},
   "outputs": [
    {
     "name": "stdout",
     "output_type": "stream",
     "text": [
      "          cusip       date  trading_days  quarterly_volatility\n",
      "0      00002130 1996-09-30             2              0.113553\n",
      "1      00030710 2017-03-31             1                   NaN\n",
      "2      00032Q10 2022-06-30             1                   NaN\n",
      "3      00036020 1999-03-31             1                   NaN\n",
      "4      00036020 1999-06-30             1                   NaN\n",
      "...         ...        ...           ...                   ...\n",
      "94997  Y9369110 2010-12-31             1                   NaN\n",
      "94998  Y9384M10 2014-12-31             1                   NaN\n",
      "94999  Y9530810 2022-09-30             1                   NaN\n",
      "95000  Y9530810 2023-06-30             1                   NaN\n",
      "95001  Y9530810 2023-12-31             1                   NaN\n",
      "\n",
      "[95002 rows x 4 columns]\n"
     ]
    }
   ],
   "source": [
    "def quarterly_volatility(daily_data):\n",
    "    \n",
    "    daily_data['date'] = pd.to_datetime(daily_data['date'])\n",
    "    \n",
    "    # Calculate the standard deviation of daily returns within each quarter\n",
    "    quarterly_volatility = daily_data.groupby(['cusip', pd.Grouper(key='date', freq='QE')]) \\\n",
    "        .agg(daily_std=('return', 'std'), trading_days=('return', 'count')).reset_index()\n",
    "    \n",
    "    # Calculate quarterly volatility by scaling daily std dev to quarterly\n",
    "    quarterly_volatility['quarterly_volatility'] = quarterly_volatility['daily_std'] * np.sqrt(quarterly_volatility['trading_days'])\n",
    "    \n",
    "    return quarterly_volatility[['cusip', 'date', 'trading_days', 'quarterly_volatility']]"
   ]
  },
  {
   "cell_type": "code",
   "execution_count": 22,
   "id": "3c562333-52a3-48e8-9403-96a1f8852afd",
   "metadata": {},
   "outputs": [
    {
     "name": "stdout",
     "output_type": "stream",
     "text": [
      "           cusip       date  trading_days  quarterly_volatility\n",
      "0       00002130 1993-03-31            62              0.954526\n",
      "1       00002130 1993-06-30            63              1.258872\n",
      "2       00002130 1993-09-30            64              0.392466\n",
      "3       00002130 1993-12-31            64              0.462112\n",
      "4       00002130 1994-03-31            63              0.602037\n",
      "...          ...        ...           ...                   ...\n",
      "957766  Y9530810 2022-12-31            63              0.649561\n",
      "957767  Y9530810 2023-03-31            62              0.375254\n",
      "957768  Y9530810 2023-06-30            62              0.302115\n",
      "957769  Y9530810 2023-09-30            63              0.345499\n",
      "957770  Y9530810 2023-12-31            63              0.440173\n",
      "\n",
      "[957771 rows x 4 columns]\n"
     ]
    }
   ],
   "source": [
    "df_vol = quarterly_volatility(crsp_daily)\n",
    "\n",
    "print(df_vol)\n",
    "#trading days is around 60 per quarter"
   ]
  },
  {
   "cell_type": "code",
   "execution_count": 63,
   "id": "60809582-9702-4e74-b4fa-1f84cf0a32ed",
   "metadata": {},
   "outputs": [],
   "source": [
    "df_regression['date'] = pd.to_datetime(df_regression['date'])"
   ]
  },
  {
   "cell_type": "code",
   "execution_count": 66,
   "id": "67f35edb-f2b0-410a-ae60-0ec21f556566",
   "metadata": {},
   "outputs": [],
   "source": [
    "df_vol_1 = df_vol.drop(columns=['trading_days'])\n",
    "df_vol_1.rename(columns={'quarterly_volatility': 'volatility'}, inplace=True)"
   ]
  },
  {
   "cell_type": "code",
   "execution_count": 70,
   "id": "7fb50209-27e2-4860-9258-588e49447bf4",
   "metadata": {},
   "outputs": [],
   "source": [
    "df_merge = pd.merge(df_regression, df_vol_1,\n",
    "                         on=['cusip', 'date'], how='left')"
   ]
  },
  {
   "cell_type": "code",
   "execution_count": 75,
   "id": "ad1fd0c2-140b-4245-a00f-42e8173b8620",
   "metadata": {},
   "outputs": [
    {
     "data": {
      "text/html": [
       "<div>\n",
       "<style scoped>\n",
       "    .dataframe tbody tr th:only-of-type {\n",
       "        vertical-align: middle;\n",
       "    }\n",
       "\n",
       "    .dataframe tbody tr th {\n",
       "        vertical-align: top;\n",
       "    }\n",
       "\n",
       "    .dataframe thead th {\n",
       "        text-align: right;\n",
       "    }\n",
       "</style>\n",
       "<table border=\"1\" class=\"dataframe\">\n",
       "  <thead>\n",
       "    <tr style=\"text-align: right;\">\n",
       "      <th></th>\n",
       "      <th>cusip</th>\n",
       "      <th>date</th>\n",
       "      <th>bas</th>\n",
       "      <th>tno</th>\n",
       "      <th>mktcap</th>\n",
       "      <th>price_ind</th>\n",
       "      <th>volume</th>\n",
       "      <th>illiq</th>\n",
       "      <th>volatility</th>\n",
       "      <th>synch</th>\n",
       "      <th>autocorr</th>\n",
       "      <th>ind_own</th>\n",
       "      <th>act_own</th>\n",
       "      <th>ins_own</th>\n",
       "    </tr>\n",
       "  </thead>\n",
       "  <tbody>\n",
       "    <tr>\n",
       "      <th>0</th>\n",
       "      <td>00002130</td>\n",
       "      <td>1993-03-31</td>\n",
       "      <td>0.174899</td>\n",
       "      <td>106.357143</td>\n",
       "      <td>0.833258</td>\n",
       "      <td>0.984615</td>\n",
       "      <td>0.820439</td>\n",
       "      <td>3206.893230</td>\n",
       "      <td>0.954526</td>\n",
       "      <td>NaN</td>\n",
       "      <td>NaN</td>\n",
       "      <td>NaN</td>\n",
       "      <td>NaN</td>\n",
       "      <td>NaN</td>\n",
       "    </tr>\n",
       "    <tr>\n",
       "      <th>1</th>\n",
       "      <td>00002130</td>\n",
       "      <td>1993-06-30</td>\n",
       "      <td>0.148810</td>\n",
       "      <td>596.141302</td>\n",
       "      <td>5.716358</td>\n",
       "      <td>0.804469</td>\n",
       "      <td>4.598634</td>\n",
       "      <td>2962.366077</td>\n",
       "      <td>1.258872</td>\n",
       "      <td>NaN</td>\n",
       "      <td>NaN</td>\n",
       "      <td>NaN</td>\n",
       "      <td>NaN</td>\n",
       "      <td>NaN</td>\n",
       "    </tr>\n",
       "    <tr>\n",
       "      <th>2</th>\n",
       "      <td>00002130</td>\n",
       "      <td>1993-09-30</td>\n",
       "      <td>0.134277</td>\n",
       "      <td>809.852982</td>\n",
       "      <td>19.504748</td>\n",
       "      <td>0.327890</td>\n",
       "      <td>6.395409</td>\n",
       "      <td>20.606325</td>\n",
       "      <td>0.392466</td>\n",
       "      <td>NaN</td>\n",
       "      <td>NaN</td>\n",
       "      <td>NaN</td>\n",
       "      <td>NaN</td>\n",
       "      <td>NaN</td>\n",
       "    </tr>\n",
       "    <tr>\n",
       "      <th>3</th>\n",
       "      <td>00002130</td>\n",
       "      <td>1993-12-31</td>\n",
       "      <td>0.138184</td>\n",
       "      <td>400.997214</td>\n",
       "      <td>8.301698</td>\n",
       "      <td>0.381449</td>\n",
       "      <td>3.166675</td>\n",
       "      <td>57.773551</td>\n",
       "      <td>0.462112</td>\n",
       "      <td>NaN</td>\n",
       "      <td>NaN</td>\n",
       "      <td>NaN</td>\n",
       "      <td>NaN</td>\n",
       "      <td>NaN</td>\n",
       "    </tr>\n",
       "    <tr>\n",
       "      <th>4</th>\n",
       "      <td>00002130</td>\n",
       "      <td>1994-03-31</td>\n",
       "      <td>0.150794</td>\n",
       "      <td>300.049297</td>\n",
       "      <td>5.850818</td>\n",
       "      <td>0.430677</td>\n",
       "      <td>2.519814</td>\n",
       "      <td>146.438422</td>\n",
       "      <td>0.602037</td>\n",
       "      <td>NaN</td>\n",
       "      <td>NaN</td>\n",
       "      <td>NaN</td>\n",
       "      <td>NaN</td>\n",
       "      <td>NaN</td>\n",
       "    </tr>\n",
       "    <tr>\n",
       "      <th>...</th>\n",
       "      <td>...</td>\n",
       "      <td>...</td>\n",
       "      <td>...</td>\n",
       "      <td>...</td>\n",
       "      <td>...</td>\n",
       "      <td>...</td>\n",
       "      <td>...</td>\n",
       "      <td>...</td>\n",
       "      <td>...</td>\n",
       "      <td>...</td>\n",
       "      <td>...</td>\n",
       "      <td>...</td>\n",
       "      <td>...</td>\n",
       "      <td>...</td>\n",
       "    </tr>\n",
       "    <tr>\n",
       "      <th>957766</th>\n",
       "      <td>Y9530810</td>\n",
       "      <td>2022-12-31</td>\n",
       "      <td>0.017302</td>\n",
       "      <td>499.721764</td>\n",
       "      <td>200.098837</td>\n",
       "      <td>0.217024</td>\n",
       "      <td>43.426321</td>\n",
       "      <td>3.353258</td>\n",
       "      <td>0.649561</td>\n",
       "      <td>NaN</td>\n",
       "      <td>NaN</td>\n",
       "      <td>NaN</td>\n",
       "      <td>NaN</td>\n",
       "      <td>NaN</td>\n",
       "    </tr>\n",
       "    <tr>\n",
       "      <th>957767</th>\n",
       "      <td>Y9530810</td>\n",
       "      <td>2023-03-31</td>\n",
       "      <td>0.014839</td>\n",
       "      <td>278.553988</td>\n",
       "      <td>125.210817</td>\n",
       "      <td>0.218252</td>\n",
       "      <td>27.327539</td>\n",
       "      <td>1.842007</td>\n",
       "      <td>0.375254</td>\n",
       "      <td>NaN</td>\n",
       "      <td>NaN</td>\n",
       "      <td>NaN</td>\n",
       "      <td>NaN</td>\n",
       "      <td>NaN</td>\n",
       "    </tr>\n",
       "    <tr>\n",
       "      <th>957768</th>\n",
       "      <td>Y9530810</td>\n",
       "      <td>2023-06-30</td>\n",
       "      <td>0.014194</td>\n",
       "      <td>269.099028</td>\n",
       "      <td>106.984733</td>\n",
       "      <td>0.247599</td>\n",
       "      <td>26.489301</td>\n",
       "      <td>2.416159</td>\n",
       "      <td>0.302115</td>\n",
       "      <td>NaN</td>\n",
       "      <td>NaN</td>\n",
       "      <td>NaN</td>\n",
       "      <td>NaN</td>\n",
       "      <td>NaN</td>\n",
       "    </tr>\n",
       "    <tr>\n",
       "      <th>957769</th>\n",
       "      <td>Y9530810</td>\n",
       "      <td>2023-09-30</td>\n",
       "      <td>0.012698</td>\n",
       "      <td>184.457927</td>\n",
       "      <td>83.347229</td>\n",
       "      <td>0.219062</td>\n",
       "      <td>18.258199</td>\n",
       "      <td>2.952670</td>\n",
       "      <td>0.345499</td>\n",
       "      <td>NaN</td>\n",
       "      <td>NaN</td>\n",
       "      <td>NaN</td>\n",
       "      <td>NaN</td>\n",
       "      <td>NaN</td>\n",
       "    </tr>\n",
       "    <tr>\n",
       "      <th>957770</th>\n",
       "      <td>Y9530810</td>\n",
       "      <td>2023-12-31</td>\n",
       "      <td>0.012063</td>\n",
       "      <td>358.413421</td>\n",
       "      <td>189.754067</td>\n",
       "      <td>0.187096</td>\n",
       "      <td>35.502283</td>\n",
       "      <td>1.648876</td>\n",
       "      <td>0.440173</td>\n",
       "      <td>NaN</td>\n",
       "      <td>NaN</td>\n",
       "      <td>NaN</td>\n",
       "      <td>NaN</td>\n",
       "      <td>NaN</td>\n",
       "    </tr>\n",
       "  </tbody>\n",
       "</table>\n",
       "<p>957771 rows × 14 columns</p>\n",
       "</div>"
      ],
      "text/plain": [
       "           cusip       date       bas         tno      mktcap  price_ind  \\\n",
       "0       00002130 1993-03-31  0.174899  106.357143    0.833258   0.984615   \n",
       "1       00002130 1993-06-30  0.148810  596.141302    5.716358   0.804469   \n",
       "2       00002130 1993-09-30  0.134277  809.852982   19.504748   0.327890   \n",
       "3       00002130 1993-12-31  0.138184  400.997214    8.301698   0.381449   \n",
       "4       00002130 1994-03-31  0.150794  300.049297    5.850818   0.430677   \n",
       "...          ...        ...       ...         ...         ...        ...   \n",
       "957766  Y9530810 2022-12-31  0.017302  499.721764  200.098837   0.217024   \n",
       "957767  Y9530810 2023-03-31  0.014839  278.553988  125.210817   0.218252   \n",
       "957768  Y9530810 2023-06-30  0.014194  269.099028  106.984733   0.247599   \n",
       "957769  Y9530810 2023-09-30  0.012698  184.457927   83.347229   0.219062   \n",
       "957770  Y9530810 2023-12-31  0.012063  358.413421  189.754067   0.187096   \n",
       "\n",
       "           volume        illiq  volatility  synch  autocorr  ind_own  act_own  \\\n",
       "0        0.820439  3206.893230    0.954526    NaN       NaN      NaN      NaN   \n",
       "1        4.598634  2962.366077    1.258872    NaN       NaN      NaN      NaN   \n",
       "2        6.395409    20.606325    0.392466    NaN       NaN      NaN      NaN   \n",
       "3        3.166675    57.773551    0.462112    NaN       NaN      NaN      NaN   \n",
       "4        2.519814   146.438422    0.602037    NaN       NaN      NaN      NaN   \n",
       "...           ...          ...         ...    ...       ...      ...      ...   \n",
       "957766  43.426321     3.353258    0.649561    NaN       NaN      NaN      NaN   \n",
       "957767  27.327539     1.842007    0.375254    NaN       NaN      NaN      NaN   \n",
       "957768  26.489301     2.416159    0.302115    NaN       NaN      NaN      NaN   \n",
       "957769  18.258199     2.952670    0.345499    NaN       NaN      NaN      NaN   \n",
       "957770  35.502283     1.648876    0.440173    NaN       NaN      NaN      NaN   \n",
       "\n",
       "        ins_own  \n",
       "0           NaN  \n",
       "1           NaN  \n",
       "2           NaN  \n",
       "3           NaN  \n",
       "4           NaN  \n",
       "...         ...  \n",
       "957766      NaN  \n",
       "957767      NaN  \n",
       "957768      NaN  \n",
       "957769      NaN  \n",
       "957770      NaN  \n",
       "\n",
       "[957771 rows x 14 columns]"
      ]
     },
     "execution_count": 75,
     "metadata": {},
     "output_type": "execute_result"
    }
   ],
   "source": [
    "df_regression"
   ]
  },
  {
   "cell_type": "code",
   "execution_count": 74,
   "id": "507eb49b-e77c-40be-a75a-edb7feacdf57",
   "metadata": {},
   "outputs": [],
   "source": [
    "df_regression = df_regression.drop(columns=['volatility_x'])\n",
    "df_regression['volatility'] = df_merge['volatility_y']"
   ]
  },
  {
   "cell_type": "code",
   "execution_count": 178,
   "id": "94e1304f-c98d-4dce-9c19-b7dd2da7b9d8",
   "metadata": {},
   "outputs": [],
   "source": [
    "file_path_2 = 'df_regression.csv' \n",
    "df_regression.to_csv(file_path_2, index=False)"
   ]
  },
  {
   "cell_type": "markdown",
   "id": "de3e31ab-fc95-46a0-985b-e1cf4587b502",
   "metadata": {},
   "source": [
    "### i-2) Price Efficiency"
   ]
  },
  {
   "cell_type": "markdown",
   "id": "e78e59f9-669c-4ef5-be0f-aeaa234d3b72",
   "metadata": {},
   "source": [
    "#### -i) Stock Synchronicity"
   ]
  },
  {
   "cell_type": "code",
   "execution_count": 148,
   "id": "633c7759-2ab4-41e7-ac58-194b0da480ca",
   "metadata": {},
   "outputs": [],
   "source": [
    "# load Fama-French data(daily)\n",
    "ff_data = pd.read_csv('F-F_Research_Data_Factors_daily.csv', skiprows=3) \n",
    "ff_data.columns = ['date', 'Mkt-RF', 'SMB', 'HML', 'RF']  # Rename columns\n",
    "ff_data['date'] = pd.to_datetime(ff_data['date'], format='%Y%m%d')\n",
    "ff_data.set_index('date', inplace=True)\n",
    "ff_data = ff_data.apply(pd.to_numeric, errors='coerce') / 100  # Convert to decimal form"
   ]
  },
  {
   "cell_type": "code",
   "execution_count": 152,
   "id": "2f1d1905-8186-4e7d-b7c5-e6c1daa34112",
   "metadata": {},
   "outputs": [],
   "source": [
    "# Convert the index back to a column\n",
    "ff_data_merg = ff_data.reset_index()\n",
    "\n",
    "# The index column will be named 'index' by default; rename it to 'Date'\n",
    "ff_data_merg.rename(columns={'index': 'Date'}, inplace=True)"
   ]
  },
  {
   "cell_type": "code",
   "execution_count": 153,
   "id": "174f6a70-7bea-4529-883d-253e0db477f1",
   "metadata": {},
   "outputs": [],
   "source": [
    "ff_data_merg.rename(columns={'Mkt-RF': 'MKT'}, inplace=True)"
   ]
  },
  {
   "cell_type": "markdown",
   "id": "de41c81e-498b-4ee7-869f-dcef94d60a6e",
   "metadata": {},
   "source": [
    "#### run FF-regression for each stock in every quarter"
   ]
  },
  {
   "cell_type": "code",
   "execution_count": 123,
   "id": "5394e03f-f86d-4daa-8e53-75baea697063",
   "metadata": {},
   "outputs": [],
   "source": [
    "crsp_merg = crsp_daily[['cusip', 'date', 'return']].copy()"
   ]
  },
  {
   "cell_type": "code",
   "execution_count": 124,
   "id": "134eb41f-3cbf-452e-bd02-3f2d023eb1ed",
   "metadata": {},
   "outputs": [],
   "source": [
    "crsp_merg['date'] = pd.to_datetime(crsp_merg['date'])"
   ]
  },
  {
   "cell_type": "code",
   "execution_count": 157,
   "id": "a9e82d61-356f-4803-92d4-72442d8beb2f",
   "metadata": {},
   "outputs": [
    {
     "name": "stdout",
     "output_type": "stream",
     "text": [
      "Merged DataFrame:\n",
      "             cusip       date    return     MKT     SMB     HML       RF\n",
      "0         09073M10 1993-04-22  0.036364 -0.0074  0.0093 -0.0031  0.00011\n",
      "1         58844810 1993-05-27  0.016129 -0.0016  0.0039  0.0045  0.00011\n",
      "2         93448810 1993-04-08 -0.027174 -0.0022  0.0002  0.0078  0.00011\n",
      "3         71270810 1993-02-25  0.006623  0.0042  0.0016  0.0006  0.00012\n",
      "4         85440210 1993-08-04 -0.049180 -0.0001  0.0020  0.0012  0.00011\n",
      "...            ...        ...       ...     ...     ...     ...      ...\n",
      "58342003  90915J10 2023-06-08 -0.002016  0.0059 -0.0049 -0.0115  0.00019\n",
      "58342004  67069910 2023-03-29  0.012533  0.0139 -0.0030 -0.0053  0.00016\n",
      "58342005  90214Q73 2023-03-03  0.014706  0.0161  0.0000 -0.0052  0.00016\n",
      "58342006  55826T10 2023-01-03 -0.026685 -0.0048  0.0008 -0.0012  0.00017\n",
      "58342007  25460E52 2023-05-23  0.090820 -0.0109  0.0039  0.0105  0.00016\n",
      "\n",
      "[58342008 rows x 7 columns]\n"
     ]
    }
   ],
   "source": [
    "#left merge on date so all cusip in the same date filled with same value\n",
    "ff_merged_data = pd.merge(crsp_merg, ff_data_merg, on='date', how='left')\n",
    "\n",
    "# Check data, this merge by date fills all cusips within same date same value\n",
    "print(\"Merged DataFrame:\")\n",
    "print(ff_merged_data)"
   ]
  },
  {
   "cell_type": "code",
   "execution_count": 159,
   "id": "37f8c822-fb84-4a97-9695-01cf85f06235",
   "metadata": {},
   "outputs": [],
   "source": [
    "ff_merged_data['excess_return'] = ff_merged_data['return'] - ff_merged_data['RF']"
   ]
  },
  {
   "cell_type": "code",
   "execution_count": 186,
   "id": "b1f90229-9267-438b-b36e-babba95d219a",
   "metadata": {},
   "outputs": [],
   "source": [
    "file_path_3 = 'ff_merged_data.csv' \n",
    "ff_merged_data.to_csv(file_path_3, index=False)"
   ]
  },
  {
   "cell_type": "markdown",
   "id": "3eca8bc0-5020-43ff-8aef-0ee66dd6ef16",
   "metadata": {},
   "source": [
    "#### define FF regression function"
   ]
  },
  {
   "cell_type": "code",
   "execution_count": 166,
   "id": "5f15a7be-3d79-4416-b33a-cb8d3e69acbf",
   "metadata": {},
   "outputs": [],
   "source": [
    "selected = ['85440210', '90915J10', '58844810']\n",
    "df_ff_test = ff_merged_data[ff_merged_data['cusip'].isin(selected)]"
   ]
  },
  {
   "cell_type": "code",
   "execution_count": 161,
   "id": "f1650c90-fad7-44bf-a5a9-a5aeba8e6b8f",
   "metadata": {},
   "outputs": [],
   "source": [
    "def ff_regression(data):\n",
    "    # Prepare the dependent and independent variables\n",
    "    X = data[['MKT', 'SMB', 'HML']]\n",
    "    y = data['excess_return']\n",
    "    X = sm.add_constant(X)  # Add a constant term for the intercept\n",
    "    \n",
    "    # Fit the model\n",
    "    model = sm.OLS(y, X).fit()\n",
    "    \n",
    "    # Return relevant results\n",
    "    return {\n",
    "        'r_squared': model.rsquared,\n",
    "        'MKT_coef': model.params['MKT'],\n",
    "        'SMB_coef': model.params['SMB'],\n",
    "        'HML_coef': model.params['HML']\n",
    "    }"
   ]
  },
  {
   "cell_type": "code",
   "execution_count": 176,
   "id": "44b9ebfb-2649-4404-a336-b53c5497239f",
   "metadata": {},
   "outputs": [
    {
     "name": "stdout",
     "output_type": "stream",
     "text": [
      "Unique CUSIPs: 27607\n"
     ]
    }
   ],
   "source": [
    "unique_cusips = ff_merged_data['cusip'].unique()\n",
    "unique_cusips_ct = len(unique_cusips)\n",
    "print(\"Unique CUSIPs:\", unique_cusips_ct)"
   ]
  },
  {
   "cell_type": "markdown",
   "id": "4df14021-90bf-44d7-9757-a9d40bde0cef",
   "metadata": {},
   "source": [
    "#### Define autocrrelation function for lags of 1-4 quarters"
   ]
  },
  {
   "cell_type": "code",
   "execution_count": 184,
   "id": "7203bf0d-621a-4ff2-836a-8d0fa0bd6d70",
   "metadata": {},
   "outputs": [],
   "source": [
    "def autocorr_all_lag_df(data, returns_col='returns', max_lag=4):\n",
    "    # Calculate autocorrelation for each lag\n",
    "    autocorrs = {f'auto_lag{lag}': data[returns_col].autocorr(lag=lag) for lag in range(1, max_lag + 1)}\n",
    "    \n",
    "    # Convert to a single-row DataFrame\n",
    "    autocorr_df = pd.DataFrame([autocorrs])\n",
    "    \n",
    "    return autocorr_df"
   ]
  },
  {
   "cell_type": "code",
   "execution_count": 185,
   "id": "0d6771a3-06a3-4555-a758-7230a94c0513",
   "metadata": {},
   "outputs": [
    {
     "name": "stdout",
     "output_type": "stream",
     "text": [
      "Unique CUSIPs: 3\n",
      "Processing CUSIP: 58844810, Number of rows: 6136\n",
      "Processing CUSIP: 85440210, Number of rows: 1756\n",
      "Processing CUSIP: 90915J10, Number of rows: 2104\n",
      "Final Results DataFrame Shape: (160, 10)\n",
      "   r_squared  MKT_coef  SMB_coef  HML_coef  auto_lag1  auto_lag2  auto_lag3  \\\n",
      "0   0.023144  0.288575  0.905014 -0.488032  -0.005603  -0.009717   0.002379   \n",
      "1   0.061853  1.245118  4.360052  0.569277  -0.005603  -0.009717   0.002379   \n",
      "2   0.065911  4.763082  2.427374  8.275322  -0.005603  -0.009717   0.002379   \n",
      "3   0.071423  4.227016  4.429811  5.985292  -0.005603  -0.009717   0.002379   \n",
      "4   0.070321  3.564854  0.542551  6.643165  -0.005603  -0.009717   0.002379   \n",
      "\n",
      "   auto_lag4     cusip quarter  \n",
      "0  -0.000109  58844810  1993Q1  \n",
      "1  -0.000109  58844810  1993Q2  \n",
      "2  -0.000109  58844810  1993Q3  \n",
      "3  -0.000109  58844810  1993Q4  \n",
      "4  -0.000109  58844810  1994Q1  \n",
      "Execution time for test query: 0.8919 seconds\n"
     ]
    }
   ],
   "source": [
    "start_time_ins = time.time()\n",
    "\n",
    "results = []  # Initialize the results list\n",
    "\n",
    "# Loop through unique CUSIPs\n",
    "unique_cusips = df_ff_test['cusip'].unique()\n",
    "unique_cusips_ct = len(unique_cusips)\n",
    "print(\"Unique CUSIPs:\", unique_cusips_ct)\n",
    "\n",
    "for cusip in unique_cusips:\n",
    "    # Filter the data for the specific CUSIP\n",
    "    cusip_data = df_ff_test[df_ff_test['cusip'] == cusip]\n",
    "    print(f\"Processing CUSIP: {cusip}, Number of rows: {cusip_data.shape[0]}\")\n",
    "\n",
    "    # Group data by quarter\n",
    "    for quarter, group in cusip_data.groupby('quarter'):\n",
    "\n",
    "        \n",
    "        if len(group) >= 3:  # Ensure you have enough data points for regression\n",
    "            result = ff_regression(group)  # Replace with your regression function\n",
    "\n",
    "            # Now call the function with the entire DataFrame\n",
    "            autocorr_df = autocorr_all_lag_df(df_ff_test, returns_col='return', max_lag=4)\n",
    "\n",
    "            result = {**result, **autocorr_df.iloc[0].to_dict()} # Merge autocorr_df into result\n",
    "\n",
    "            result['cusip'] = cusip\n",
    "            result['quarter'] = str(quarter)  # Store quarter as a string\n",
    "            results.append(result)  # Append the result to the list\n",
    "\n",
    "# Convert results to DataFrame\n",
    "test_df_ff_reg = pd.DataFrame(results)\n",
    "\n",
    "# Check the results\n",
    "print(\"Final Results DataFrame Shape:\", test_df_ff_reg.shape)\n",
    "print(test_df_ff_reg.head())\n",
    "\n",
    "end_time_ins = time.time()\n",
    "execution_time_ins = end_time_ins - start_time_ins\n",
    "\n",
    "print(f\"Execution time for test query: {execution_time_ins:.4f} seconds\")"
   ]
  },
  {
   "cell_type": "markdown",
   "id": "4a8b94bd-e2d3-4bad-8733-a151125601b0",
   "metadata": {},
   "source": [
    "### full result is gonna take over an hour to run, need more time"
   ]
  },
  {
   "cell_type": "code",
   "execution_count": 164,
   "id": "fcf96ef9-d950-43bf-b0f0-ddf0b4f35c89",
   "metadata": {},
   "outputs": [
    {
     "ename": "KeyboardInterrupt",
     "evalue": "",
     "output_type": "error",
     "traceback": [
      "\u001b[0;31m---------------------------------------------------------------------------\u001b[0m",
      "\u001b[0;31mKeyboardInterrupt\u001b[0m                         Traceback (most recent call last)",
      "Cell \u001b[0;32mIn[164], line 9\u001b[0m\n\u001b[1;32m      6\u001b[0m \u001b[38;5;66;03m# Loop through unique cusips\u001b[39;00m\n\u001b[1;32m      7\u001b[0m \u001b[38;5;28;01mfor\u001b[39;00m cusip \u001b[38;5;129;01min\u001b[39;00m ff_merged_data[\u001b[38;5;124m'\u001b[39m\u001b[38;5;124mcusip\u001b[39m\u001b[38;5;124m'\u001b[39m]\u001b[38;5;241m.\u001b[39munique():\n\u001b[1;32m      8\u001b[0m     \u001b[38;5;66;03m# Filter the data for the specific cusip\u001b[39;00m\n\u001b[0;32m----> 9\u001b[0m     cusip_data \u001b[38;5;241m=\u001b[39m ff_merged_data[ff_merged_data[\u001b[38;5;124m'\u001b[39m\u001b[38;5;124mcusip\u001b[39m\u001b[38;5;124m'\u001b[39m] \u001b[38;5;241m==\u001b[39m cusip]\n\u001b[1;32m     11\u001b[0m     \u001b[38;5;28;01mfor\u001b[39;00m quarter, group \u001b[38;5;129;01min\u001b[39;00m cusip_data\u001b[38;5;241m.\u001b[39mgroupby(\u001b[38;5;124m'\u001b[39m\u001b[38;5;124mquarter\u001b[39m\u001b[38;5;124m'\u001b[39m):\n\u001b[1;32m     12\u001b[0m         \u001b[38;5;28;01mif\u001b[39;00m \u001b[38;5;28mlen\u001b[39m(group) \u001b[38;5;241m>\u001b[39m\u001b[38;5;241m=\u001b[39m \u001b[38;5;241m3\u001b[39m:  \u001b[38;5;66;03m# Ensure you have enough data points for regression\u001b[39;00m\n",
      "File \u001b[0;32m~/miniconda3/lib/python3.12/site-packages/pandas/core/ops/common.py:76\u001b[0m, in \u001b[0;36m_unpack_zerodim_and_defer.<locals>.new_method\u001b[0;34m(self, other)\u001b[0m\n\u001b[1;32m     72\u001b[0m             \u001b[38;5;28;01mreturn\u001b[39;00m \u001b[38;5;28mNotImplemented\u001b[39m\n\u001b[1;32m     74\u001b[0m other \u001b[38;5;241m=\u001b[39m item_from_zerodim(other)\n\u001b[0;32m---> 76\u001b[0m \u001b[38;5;28;01mreturn\u001b[39;00m method(\u001b[38;5;28mself\u001b[39m, other)\n",
      "File \u001b[0;32m~/miniconda3/lib/python3.12/site-packages/pandas/core/arraylike.py:40\u001b[0m, in \u001b[0;36mOpsMixin.__eq__\u001b[0;34m(self, other)\u001b[0m\n\u001b[1;32m     38\u001b[0m \u001b[38;5;129m@unpack_zerodim_and_defer\u001b[39m(\u001b[38;5;124m\"\u001b[39m\u001b[38;5;124m__eq__\u001b[39m\u001b[38;5;124m\"\u001b[39m)\n\u001b[1;32m     39\u001b[0m \u001b[38;5;28;01mdef\u001b[39;00m \u001b[38;5;21m__eq__\u001b[39m(\u001b[38;5;28mself\u001b[39m, other):\n\u001b[0;32m---> 40\u001b[0m     \u001b[38;5;28;01mreturn\u001b[39;00m \u001b[38;5;28mself\u001b[39m\u001b[38;5;241m.\u001b[39m_cmp_method(other, operator\u001b[38;5;241m.\u001b[39meq)\n",
      "File \u001b[0;32m~/miniconda3/lib/python3.12/site-packages/pandas/core/series.py:6119\u001b[0m, in \u001b[0;36mSeries._cmp_method\u001b[0;34m(self, other, op)\u001b[0m\n\u001b[1;32m   6116\u001b[0m lvalues \u001b[38;5;241m=\u001b[39m \u001b[38;5;28mself\u001b[39m\u001b[38;5;241m.\u001b[39m_values\n\u001b[1;32m   6117\u001b[0m rvalues \u001b[38;5;241m=\u001b[39m extract_array(other, extract_numpy\u001b[38;5;241m=\u001b[39m\u001b[38;5;28;01mTrue\u001b[39;00m, extract_range\u001b[38;5;241m=\u001b[39m\u001b[38;5;28;01mTrue\u001b[39;00m)\n\u001b[0;32m-> 6119\u001b[0m res_values \u001b[38;5;241m=\u001b[39m ops\u001b[38;5;241m.\u001b[39mcomparison_op(lvalues, rvalues, op)\n\u001b[1;32m   6121\u001b[0m \u001b[38;5;28;01mreturn\u001b[39;00m \u001b[38;5;28mself\u001b[39m\u001b[38;5;241m.\u001b[39m_construct_result(res_values, name\u001b[38;5;241m=\u001b[39mres_name)\n",
      "File \u001b[0;32m~/miniconda3/lib/python3.12/site-packages/pandas/core/ops/array_ops.py:344\u001b[0m, in \u001b[0;36mcomparison_op\u001b[0;34m(left, right, op)\u001b[0m\n\u001b[1;32m    341\u001b[0m     \u001b[38;5;28;01mreturn\u001b[39;00m invalid_comparison(lvalues, rvalues, op)\n\u001b[1;32m    343\u001b[0m \u001b[38;5;28;01melif\u001b[39;00m lvalues\u001b[38;5;241m.\u001b[39mdtype \u001b[38;5;241m==\u001b[39m \u001b[38;5;28mobject\u001b[39m \u001b[38;5;129;01mor\u001b[39;00m \u001b[38;5;28misinstance\u001b[39m(rvalues, \u001b[38;5;28mstr\u001b[39m):\n\u001b[0;32m--> 344\u001b[0m     res_values \u001b[38;5;241m=\u001b[39m comp_method_OBJECT_ARRAY(op, lvalues, rvalues)\n\u001b[1;32m    346\u001b[0m \u001b[38;5;28;01melse\u001b[39;00m:\n\u001b[1;32m    347\u001b[0m     res_values \u001b[38;5;241m=\u001b[39m _na_arithmetic_op(lvalues, rvalues, op, is_cmp\u001b[38;5;241m=\u001b[39m\u001b[38;5;28;01mTrue\u001b[39;00m)\n",
      "File \u001b[0;32m~/miniconda3/lib/python3.12/site-packages/pandas/core/ops/array_ops.py:129\u001b[0m, in \u001b[0;36mcomp_method_OBJECT_ARRAY\u001b[0;34m(op, x, y)\u001b[0m\n\u001b[1;32m    127\u001b[0m     result \u001b[38;5;241m=\u001b[39m libops\u001b[38;5;241m.\u001b[39mvec_compare(x\u001b[38;5;241m.\u001b[39mravel(), y\u001b[38;5;241m.\u001b[39mravel(), op)\n\u001b[1;32m    128\u001b[0m \u001b[38;5;28;01melse\u001b[39;00m:\n\u001b[0;32m--> 129\u001b[0m     result \u001b[38;5;241m=\u001b[39m libops\u001b[38;5;241m.\u001b[39mscalar_compare(x\u001b[38;5;241m.\u001b[39mravel(), y, op)\n\u001b[1;32m    130\u001b[0m \u001b[38;5;28;01mreturn\u001b[39;00m result\u001b[38;5;241m.\u001b[39mreshape(x\u001b[38;5;241m.\u001b[39mshape)\n",
      "\u001b[0;31mKeyboardInterrupt\u001b[0m: "
     ]
    }
   ],
   "source": [
    "results = []  # Initialize the results list\n",
    "\n",
    "# Loop through unique CUSIPs\n",
    "unique_cusips = ff_merged_data['cusip'].unique()\n",
    "unique_cusips_ct = len(unique_cusips)\n",
    "print(\"Unique CUSIPs:\", unique_cusips_ct)\n",
    "\n",
    "for cusip in unique_cusips:\n",
    "    # Filter the data for the specific CUSIP\n",
    "    cusip_data = ff_merged_data[ff_merged_data['cusip'] == cusip]\n",
    "    print(f\"Processing CUSIP: {cusip}, Number of rows: {cusip_data.shape[0]}\")\n",
    "\n",
    "    # Group data by quarter\n",
    "    for quarter, group in cusip_data.groupby('quarter'):\n",
    "\n",
    "        \n",
    "        if len(group) >= 3:  # Ensure you have enough data points for regression\n",
    "            result = ff_regression(group)  # Replace with your regression function\n",
    "            result['cusip'] = cusip\n",
    "            result['quarter'] = str(quarter)  # Store quarter as a string\n",
    "            results.append(result)  # Append the result to the list\n",
    "\n",
    "# Convert results to DataFrame\n",
    "df_ff_reg = pd.DataFrame(results)\n",
    "\n",
    "# Check the results\n",
    "print(\"Final Results DataFrame Shape:\", df_ff_reg.shape)\n",
    "print(df_ff_reg.head())"
   ]
  },
  {
   "cell_type": "markdown",
   "id": "aa522ce0-329c-43ce-a864-69d7c06f276f",
   "metadata": {},
   "source": [
    "#### Autocorrelation for Price"
   ]
  },
  {
   "cell_type": "markdown",
   "id": "6b86415d-0cb1-4f3f-a9f5-172666a4c4cf",
   "metadata": {},
   "source": [
    "### Ownership Data"
   ]
  },
  {
   "cell_type": "code",
   "execution_count": 190,
   "id": "dd06aebf-0753-4ff7-885e-5bbfa6750290",
   "metadata": {},
   "outputs": [],
   "source": [
    "df_own= pd.read_csv('tnf_own_combined.csv')\n",
    "df_ins= pd.read_csv('tnf_data_ins.csv')"
   ]
  },
  {
   "cell_type": "code",
   "execution_count": 194,
   "id": "48330836-3392-4751-836b-bac4ced06e9b",
   "metadata": {},
   "outputs": [
    {
     "data": {
      "text/html": [
       "<div>\n",
       "<style scoped>\n",
       "    .dataframe tbody tr th:only-of-type {\n",
       "        vertical-align: middle;\n",
       "    }\n",
       "\n",
       "    .dataframe tbody tr th {\n",
       "        vertical-align: top;\n",
       "    }\n",
       "\n",
       "    .dataframe thead th {\n",
       "        text-align: right;\n",
       "    }\n",
       "</style>\n",
       "<table border=\"1\" class=\"dataframe\">\n",
       "  <thead>\n",
       "    <tr style=\"text-align: right;\">\n",
       "      <th></th>\n",
       "      <th>cusip</th>\n",
       "      <th>date</th>\n",
       "      <th>index_own</th>\n",
       "      <th>active_own</th>\n",
       "      <th>year</th>\n",
       "    </tr>\n",
       "  </thead>\n",
       "  <tbody>\n",
       "    <tr>\n",
       "      <th>0</th>\n",
       "      <td>00036020</td>\n",
       "      <td>1999-03-31</td>\n",
       "      <td>0.00000</td>\n",
       "      <td>0.009482</td>\n",
       "      <td>1999</td>\n",
       "    </tr>\n",
       "    <tr>\n",
       "      <th>1</th>\n",
       "      <td>00036020</td>\n",
       "      <td>1999-06-30</td>\n",
       "      <td>0.00000</td>\n",
       "      <td>0.009482</td>\n",
       "      <td>1999</td>\n",
       "    </tr>\n",
       "    <tr>\n",
       "      <th>2</th>\n",
       "      <td>00036020</td>\n",
       "      <td>1999-09-30</td>\n",
       "      <td>0.00000</td>\n",
       "      <td>0.010032</td>\n",
       "      <td>1999</td>\n",
       "    </tr>\n",
       "    <tr>\n",
       "      <th>3</th>\n",
       "      <td>00036020</td>\n",
       "      <td>1999-12-31</td>\n",
       "      <td>0.00000</td>\n",
       "      <td>0.018631</td>\n",
       "      <td>1999</td>\n",
       "    </tr>\n",
       "    <tr>\n",
       "      <th>4</th>\n",
       "      <td>00036110</td>\n",
       "      <td>1999-03-31</td>\n",
       "      <td>0.01131</td>\n",
       "      <td>0.266703</td>\n",
       "      <td>1999</td>\n",
       "    </tr>\n",
       "    <tr>\n",
       "      <th>...</th>\n",
       "      <td>...</td>\n",
       "      <td>...</td>\n",
       "      <td>...</td>\n",
       "      <td>...</td>\n",
       "      <td>...</td>\n",
       "    </tr>\n",
       "    <tr>\n",
       "      <th>1273409</th>\n",
       "      <td>Y9T94Z10</td>\n",
       "      <td>2024-06-30</td>\n",
       "      <td>0.00000</td>\n",
       "      <td>0.001792</td>\n",
       "      <td>2024</td>\n",
       "    </tr>\n",
       "    <tr>\n",
       "      <th>1273410</th>\n",
       "      <td>Y9T95Z11</td>\n",
       "      <td>2024-03-31</td>\n",
       "      <td>0.00000</td>\n",
       "      <td>0.021537</td>\n",
       "      <td>2024</td>\n",
       "    </tr>\n",
       "    <tr>\n",
       "      <th>1273411</th>\n",
       "      <td>Y9T95Z11</td>\n",
       "      <td>2024-06-30</td>\n",
       "      <td>0.00000</td>\n",
       "      <td>0.026263</td>\n",
       "      <td>2024</td>\n",
       "    </tr>\n",
       "    <tr>\n",
       "      <th>1273412</th>\n",
       "      <td>Y9T9HH10</td>\n",
       "      <td>2024-03-31</td>\n",
       "      <td>0.00000</td>\n",
       "      <td>0.012291</td>\n",
       "      <td>2024</td>\n",
       "    </tr>\n",
       "    <tr>\n",
       "      <th>1273413</th>\n",
       "      <td>Y9T9HH10</td>\n",
       "      <td>2024-06-30</td>\n",
       "      <td>0.00000</td>\n",
       "      <td>0.014326</td>\n",
       "      <td>2024</td>\n",
       "    </tr>\n",
       "  </tbody>\n",
       "</table>\n",
       "<p>1273414 rows × 5 columns</p>\n",
       "</div>"
      ],
      "text/plain": [
       "            cusip       date  index_own  active_own  year\n",
       "0        00036020 1999-03-31    0.00000    0.009482  1999\n",
       "1        00036020 1999-06-30    0.00000    0.009482  1999\n",
       "2        00036020 1999-09-30    0.00000    0.010032  1999\n",
       "3        00036020 1999-12-31    0.00000    0.018631  1999\n",
       "4        00036110 1999-03-31    0.01131    0.266703  1999\n",
       "...           ...        ...        ...         ...   ...\n",
       "1273409  Y9T94Z10 2024-06-30    0.00000    0.001792  2024\n",
       "1273410  Y9T95Z11 2024-03-31    0.00000    0.021537  2024\n",
       "1273411  Y9T95Z11 2024-06-30    0.00000    0.026263  2024\n",
       "1273412  Y9T9HH10 2024-03-31    0.00000    0.012291  2024\n",
       "1273413  Y9T9HH10 2024-06-30    0.00000    0.014326  2024\n",
       "\n",
       "[1273414 rows x 5 columns]"
      ]
     },
     "execution_count": 194,
     "metadata": {},
     "output_type": "execute_result"
    }
   ],
   "source": [
    "df_own"
   ]
  },
  {
   "cell_type": "code",
   "execution_count": 213,
   "id": "7ec0ee8a-dba8-4d1a-8baf-80e66289212e",
   "metadata": {},
   "outputs": [
    {
     "data": {
      "text/plain": [
       "\"Q1 = df_own['index_own'].quantile(0.25)\\nQ3 = df_own['index_own'].quantile(0.75)\\nIQR = Q3 - Q1\\n\\n# Define bounds for outliers\\nlower_bound = Q1 - 1.5 * IQR\\nupper_bound = Q3 + 1.5 * IQR\\n\\n# Filter extreme values\\nextreme_values_iqr = df_own[(df_own['index_own'] < lower_bound) | (df_own['index_own'] > upper_bound)]\\nprint(extreme_values_iqr)\""
      ]
     },
     "execution_count": 213,
     "metadata": {},
     "output_type": "execute_result"
    }
   ],
   "source": [
    "'''Q1 = df_own['index_own'].quantile(0.25)\n",
    "Q3 = df_own['index_own'].quantile(0.75)\n",
    "IQR = Q3 - Q1\n",
    "\n",
    "# Define bounds for outliers\n",
    "lower_bound = Q1 - 1.5 * IQR\n",
    "upper_bound = Q3 + 1.5 * IQR\n",
    "\n",
    "# Filter extreme values\n",
    "extreme_values_iqr = df_own[(df_own['index_own'] < lower_bound) | (df_own['index_own'] > upper_bound)]\n",
    "print(extreme_values_iqr)'''"
   ]
  },
  {
   "cell_type": "code",
   "execution_count": 201,
   "id": "7b2d5934-09e7-4823-a5c5-3bcec98a63f0",
   "metadata": {},
   "outputs": [
    {
     "name": "stdout",
     "output_type": "stream",
     "text": [
      "    year  average_index_ownership  median_index_ownership  \\\n",
      "0   1999                 0.003296                0.000012   \n",
      "1   2000                 0.003347                0.000030   \n",
      "2   2001                 0.004568                0.000091   \n",
      "3   2002                 0.005910                0.000163   \n",
      "4   2003                 0.007174                0.000552   \n",
      "5   2004                 0.011373                0.001587   \n",
      "6   2005                 0.011009                0.002049   \n",
      "7   2006                 0.009480                0.001136   \n",
      "8   2007                 0.010258                0.000400   \n",
      "9   2008                 0.012037                0.000342   \n",
      "10  2009                 0.015442                0.000330   \n",
      "11  2010                 0.017978                0.000368   \n",
      "12  2011                 0.018154                0.000098   \n",
      "13  2012                 0.020081                0.000421   \n",
      "14  2013                 0.020175                0.000692   \n",
      "15  2014                 0.025555                0.002861   \n",
      "16  2015                 0.026970                0.005080   \n",
      "17  2016                 0.030342                0.011127   \n",
      "18  2017                 0.021265                0.000200   \n",
      "19  2018                 0.011733                0.000000   \n",
      "20  2019                 0.012183                0.000000   \n",
      "21  2020                 0.012484                0.000000   \n",
      "22  2021                 0.012569                0.000000   \n",
      "23  2022                 0.012590                0.000003   \n",
      "24  2023                 0.012953                0.000008   \n",
      "25  2024                 0.013272                0.000012   \n",
      "\n",
      "    average_active_ownership  median_active_ownership  index_stock_count  \\\n",
      "0                   0.094197                 0.055606               5136   \n",
      "1                   0.089846                 0.044819               5678   \n",
      "2                   0.091730                 0.044570               5495   \n",
      "3                   0.098027                 0.044132               5266   \n",
      "4                   0.103472                 0.054711               5113   \n",
      "5                   0.118975                 0.071460               5328   \n",
      "6                   0.120949                 0.073179               5370   \n",
      "7                   0.121996                 0.071510               5082   \n",
      "8                   0.120440                 0.063148               5313   \n",
      "9                   0.118054                 0.056811               5155   \n",
      "10                  0.114525                 0.051592               5000   \n",
      "11                  0.145937                 0.053080               4818   \n",
      "12                  0.124189                 0.044112               4361   \n",
      "13                  0.122226                 0.054264               4008   \n",
      "14                  0.114338                 0.048109               4797   \n",
      "15                  0.125843                 0.063353               4994   \n",
      "16                  0.136863                 0.073404               4883   \n",
      "17                  0.137641                 0.084938               4674   \n",
      "18                  0.113514                 0.037763              13050   \n",
      "19                  0.095736                 0.022153              13234   \n",
      "20                  0.090790                 0.021775              13431   \n",
      "21                  0.086549                 0.020116              13645   \n",
      "22                  0.082725                 0.018442              14941   \n",
      "23                  0.077836                 0.016505              15360   \n",
      "24                  0.073750                 0.015159              15311   \n",
      "25                  0.065518                 0.014521              14296   \n",
      "\n",
      "    active_stock_count  \n",
      "0                 9828  \n",
      "1                10008  \n",
      "2                 9465  \n",
      "3                 9181  \n",
      "4                 8625  \n",
      "5                 8812  \n",
      "6                 8819  \n",
      "7                 8747  \n",
      "8                 9142  \n",
      "9                 8891  \n",
      "10                8673  \n",
      "11                8696  \n",
      "12                8049  \n",
      "13                7337  \n",
      "14                8088  \n",
      "15                7423  \n",
      "16                7973  \n",
      "17                7110  \n",
      "18               25772  \n",
      "19               26476  \n",
      "20               26756  \n",
      "21               27511  \n",
      "22               29875  \n",
      "23               30734  \n",
      "24               30252  \n",
      "25               27770  \n"
     ]
    }
   ],
   "source": [
    "df_own['date'] = pd.to_datetime(df_own['date'])\n",
    "\n",
    "# Step 3: Extract year\n",
    "df_own['year'] = df_own['date'].dt.year\n",
    "\n",
    "def count_non_zero(cusip_series, ownership_series):\n",
    "    return len(cusip_series[ownership_series != 0].unique())\n",
    "\n",
    "# Group by year and calculate summary statistics\n",
    "summary_own = df_own.groupby('year').agg(\n",
    "    average_index_ownership=('index_own', 'mean'),\n",
    "    median_index_ownership=('index_own', 'median'),\n",
    "    average_active_ownership=('active_own', 'mean'),\n",
    "    median_active_ownership=('active_own', 'median'),\n",
    "     index_stock_count=('cusip', lambda x: count_non_zero(x, df_own.loc[x.index, 'index_own'])),\n",
    "    active_stock_count=('cusip', lambda x: count_non_zero(x, df_own.loc[x.index, 'active_own']))  # Count unique stocks\n",
    ").reset_index()\n",
    "\n",
    "# Display the summarized DataFrame\n",
    "print(summary_own)"
   ]
  },
  {
   "cell_type": "code",
   "execution_count": 203,
   "id": "9d2ebd31-12ac-4b5f-a229-8dec7b384f51",
   "metadata": {},
   "outputs": [
    {
     "data": {
      "text/html": [
       "<div>\n",
       "<style scoped>\n",
       "    .dataframe tbody tr th:only-of-type {\n",
       "        vertical-align: middle;\n",
       "    }\n",
       "\n",
       "    .dataframe tbody tr th {\n",
       "        vertical-align: top;\n",
       "    }\n",
       "\n",
       "    .dataframe thead th {\n",
       "        text-align: right;\n",
       "    }\n",
       "</style>\n",
       "<table border=\"1\" class=\"dataframe\">\n",
       "  <thead>\n",
       "    <tr style=\"text-align: right;\">\n",
       "      <th></th>\n",
       "      <th>cusip</th>\n",
       "      <th>date</th>\n",
       "      <th>ins_own</th>\n",
       "      <th>year</th>\n",
       "    </tr>\n",
       "  </thead>\n",
       "  <tbody>\n",
       "    <tr>\n",
       "      <th>0</th>\n",
       "      <td>00036020</td>\n",
       "      <td>1999-03-31</td>\n",
       "      <td>0.228581</td>\n",
       "      <td>1999</td>\n",
       "    </tr>\n",
       "    <tr>\n",
       "      <th>1</th>\n",
       "      <td>00036020</td>\n",
       "      <td>1999-06-30</td>\n",
       "      <td>0.244382</td>\n",
       "      <td>1999</td>\n",
       "    </tr>\n",
       "    <tr>\n",
       "      <th>2</th>\n",
       "      <td>00036020</td>\n",
       "      <td>1999-09-30</td>\n",
       "      <td>0.222108</td>\n",
       "      <td>1999</td>\n",
       "    </tr>\n",
       "    <tr>\n",
       "      <th>3</th>\n",
       "      <td>00036020</td>\n",
       "      <td>1999-12-31</td>\n",
       "      <td>0.234186</td>\n",
       "      <td>1999</td>\n",
       "    </tr>\n",
       "    <tr>\n",
       "      <th>4</th>\n",
       "      <td>00036110</td>\n",
       "      <td>1999-03-31</td>\n",
       "      <td>0.780138</td>\n",
       "      <td>1999</td>\n",
       "    </tr>\n",
       "    <tr>\n",
       "      <th>...</th>\n",
       "      <td>...</td>\n",
       "      <td>...</td>\n",
       "      <td>...</td>\n",
       "      <td>...</td>\n",
       "    </tr>\n",
       "    <tr>\n",
       "      <th>906570</th>\n",
       "      <td>Y9724910</td>\n",
       "      <td>2024-06-30</td>\n",
       "      <td>0.000998</td>\n",
       "      <td>2024</td>\n",
       "    </tr>\n",
       "    <tr>\n",
       "      <th>906571</th>\n",
       "      <td>Y9728A10</td>\n",
       "      <td>2024-03-31</td>\n",
       "      <td>0.000103</td>\n",
       "      <td>2024</td>\n",
       "    </tr>\n",
       "    <tr>\n",
       "      <th>906572</th>\n",
       "      <td>Y9728A10</td>\n",
       "      <td>2024-06-30</td>\n",
       "      <td>0.000119</td>\n",
       "      <td>2024</td>\n",
       "    </tr>\n",
       "    <tr>\n",
       "      <th>906573</th>\n",
       "      <td>Y9899X10</td>\n",
       "      <td>2024-03-31</td>\n",
       "      <td>0.000317</td>\n",
       "      <td>2024</td>\n",
       "    </tr>\n",
       "    <tr>\n",
       "      <th>906574</th>\n",
       "      <td>Y9899X10</td>\n",
       "      <td>2024-06-30</td>\n",
       "      <td>0.000316</td>\n",
       "      <td>2024</td>\n",
       "    </tr>\n",
       "  </tbody>\n",
       "</table>\n",
       "<p>906575 rows × 4 columns</p>\n",
       "</div>"
      ],
      "text/plain": [
       "           cusip       date   ins_own  year\n",
       "0       00036020 1999-03-31  0.228581  1999\n",
       "1       00036020 1999-06-30  0.244382  1999\n",
       "2       00036020 1999-09-30  0.222108  1999\n",
       "3       00036020 1999-12-31  0.234186  1999\n",
       "4       00036110 1999-03-31  0.780138  1999\n",
       "...          ...        ...       ...   ...\n",
       "906570  Y9724910 2024-06-30  0.000998  2024\n",
       "906571  Y9728A10 2024-03-31  0.000103  2024\n",
       "906572  Y9728A10 2024-06-30  0.000119  2024\n",
       "906573  Y9899X10 2024-03-31  0.000317  2024\n",
       "906574  Y9899X10 2024-06-30  0.000316  2024\n",
       "\n",
       "[906575 rows x 4 columns]"
      ]
     },
     "execution_count": 203,
     "metadata": {},
     "output_type": "execute_result"
    }
   ],
   "source": [
    "df_ins"
   ]
  },
  {
   "cell_type": "code",
   "execution_count": 225,
   "id": "66cb5b25-50d5-4bed-93c7-6fd0f32e43bf",
   "metadata": {},
   "outputs": [],
   "source": [
    "df_ins= pd.read_csv('tnf_data_ins.csv')"
   ]
  },
  {
   "cell_type": "code",
   "execution_count": 221,
   "id": "54f3bee9-ab9f-4660-b289-ba2bb5684258",
   "metadata": {},
   "outputs": [
    {
     "name": "stdout",
     "output_type": "stream",
     "text": [
      "           cusip        date    ins_own\n",
      "323     00244W10  1999-03-31   1.647348\n",
      "1822    02916910  1999-03-31   1.520981\n",
      "1823    02916910  1999-06-30   1.518254\n",
      "8232    20618610  1999-06-30   1.525390\n",
      "11328   29247520  1999-09-30   1.523551\n",
      "...          ...         ...        ...\n",
      "902457  90470L51  2024-06-30   1.641929\n",
      "902458  90470L52  2024-03-31   1.486794\n",
      "902459  90470L52  2024-06-30   1.495931\n",
      "903897  98585K85  2024-03-31   1.539531\n",
      "903924  98873N20  2024-03-31  21.584665\n",
      "\n",
      "[1383 rows x 3 columns]\n"
     ]
    }
   ],
   "source": [
    "Q1 = df_ins['ins_own'].quantile(0.25)\n",
    "Q3 = df_ins['ins_own'].quantile(0.75)\n",
    "IQR = Q3 - Q1\n",
    "\n",
    "# Define bounds for outliers\n",
    "lower_bound = Q1 - 1.5 * IQR\n",
    "upper_bound = Q3 + 1.5 * IQR\n",
    "\n",
    "# Filter extreme values\n",
    "extreme_values_ins = df_ins[(df_ins['ins_own'] < lower_bound) | (df_ins['ins_own'] > upper_bound)]\n",
    "print(extreme_values_ins)"
   ]
  },
  {
   "cell_type": "markdown",
   "id": "f7d52f84-3ac9-4a55-8753-ac72832cb1d3",
   "metadata": {},
   "source": [
    "#### drop exetrme outliers"
   ]
  },
  {
   "cell_type": "code",
   "execution_count": 235,
   "id": "2b00b5d1-74b2-4ca5-a09e-9bf5d05be963",
   "metadata": {},
   "outputs": [],
   "source": [
    "def drop_n_highest_values(df, column, n=1):\n",
    "    for _ in range(n):\n",
    "        highest_value = df[column].max()\n",
    "        df = df[df[column] != highest_value]\n",
    "    return df"
   ]
  },
  {
   "cell_type": "code",
   "execution_count": 244,
   "id": "460d88e1-e89f-4570-9d43-8f8f1f23b3d4",
   "metadata": {},
   "outputs": [],
   "source": [
    "df_inst = drop_n_highest_values(df_ins, 'ins_own', n=1000)"
   ]
  },
  {
   "cell_type": "code",
   "execution_count": 245,
   "id": "c7453730-e3b1-4517-a1fd-98f0cd5203e7",
   "metadata": {},
   "outputs": [
    {
     "name": "stdout",
     "output_type": "stream",
     "text": [
      "New highest value: 1.7058167777777775\n"
     ]
    }
   ],
   "source": [
    "print(\"New highest value:\", df_inst['ins_own'].max())"
   ]
  },
  {
   "cell_type": "code",
   "execution_count": 231,
   "id": "b88a996e-b4b6-4359-8561-5c03f5f25a92",
   "metadata": {},
   "outputs": [
    {
     "name": "stderr",
     "output_type": "stream",
     "text": [
      "/tmp/ipykernel_3104/1225281374.py:1: SettingWithCopyWarning: \n",
      "A value is trying to be set on a copy of a slice from a DataFrame.\n",
      "Try using .loc[row_indexer,col_indexer] = value instead\n",
      "\n",
      "See the caveats in the documentation: https://pandas.pydata.org/pandas-docs/stable/user_guide/indexing.html#returning-a-view-versus-a-copy\n",
      "  df_inst['date'] = pd.to_datetime(df_inst['date'])\n",
      "/tmp/ipykernel_3104/1225281374.py:4: SettingWithCopyWarning: \n",
      "A value is trying to be set on a copy of a slice from a DataFrame.\n",
      "Try using .loc[row_indexer,col_indexer] = value instead\n",
      "\n",
      "See the caveats in the documentation: https://pandas.pydata.org/pandas-docs/stable/user_guide/indexing.html#returning-a-view-versus-a-copy\n",
      "  df_inst['year'] = df_inst['date'].dt.year\n"
     ]
    },
    {
     "name": "stdout",
     "output_type": "stream",
     "text": [
      "    year  average_instit_ownership  median_instit_ownership  \\\n",
      "0   1999                  0.243311                 0.151049   \n",
      "1   2000                  0.228897                 0.128311   \n",
      "2   2001                  0.244824                 0.130315   \n",
      "3   2002                  0.258872                 0.131408   \n",
      "4   2003                  0.280612                 0.154121   \n",
      "5   2004                  0.298256                 0.163348   \n",
      "6   2005                  0.313698                 0.182144   \n",
      "7   2006                  0.316055                 0.183369   \n",
      "8   2007                  0.336483                 0.205405   \n",
      "9   2008                  0.329693                 0.211564   \n",
      "10  2009                  0.308494                 0.201965   \n",
      "11  2010                  0.331743                 0.216936   \n",
      "12  2011                  0.308666                 0.187729   \n",
      "13  2012                  0.320728                 0.216114   \n",
      "14  2013                  0.326930                 0.227145   \n",
      "15  2014                  0.338308                 0.247460   \n",
      "16  2015                  0.356750                 0.284107   \n",
      "17  2016                  0.372614                 0.318030   \n",
      "18  2017                  0.382000                 0.301649   \n",
      "19  2018                  0.363677                 0.281442   \n",
      "20  2019                  0.369017                 0.292533   \n",
      "21  2020                  0.370879                 0.308550   \n",
      "22  2021                  0.380699                 0.332213   \n",
      "23  2022                  0.386939                 0.338045   \n",
      "24  2023                  0.397010                 0.345578   \n",
      "25  2024                  0.407819                 0.367175   \n",
      "\n",
      "    instit_stock_count  \n",
      "0                11246  \n",
      "1                10315  \n",
      "2                10685  \n",
      "3                10129  \n",
      "4                 9520  \n",
      "5                 9891  \n",
      "6                 9961  \n",
      "7                10536  \n",
      "8                10668  \n",
      "9                10065  \n",
      "10                9434  \n",
      "11                9501  \n",
      "12                8723  \n",
      "13                8589  \n",
      "14                9000  \n",
      "15                9124  \n",
      "16                9326  \n",
      "17                8851  \n",
      "18               11662  \n",
      "19               10819  \n",
      "20               10884  \n",
      "21               11306  \n",
      "22               13041  \n",
      "23               13329  \n",
      "24               12675  \n",
      "25               11188  \n"
     ]
    }
   ],
   "source": [
    "df_inst['date'] = pd.to_datetime(df_inst['date'])\n",
    "\n",
    "# Extract year\n",
    "df_inst['year'] = df_inst['date'].dt.year\n",
    "\n",
    "# Step 4: Group by year and calculate summary statistics\n",
    "summary_inst= df_inst.groupby('year').agg(\n",
    "    average_instit_ownership=('ins_own', 'mean'),\n",
    "    median_instit_ownership=('ins_own', 'median'),\n",
    "    instit_stock_count=('cusip', lambda x: count_non_zero(x, df_ins.loc[x.index, 'ins_own']))  # Count unique stocks\n",
    ").reset_index()\n",
    "\n",
    "# Display the summarized DataFrame\n",
    "print(summary_inst)"
   ]
  },
  {
   "cell_type": "code",
   "execution_count": 232,
   "id": "74f19d6e-ade8-4e87-a8df-f389a4e98023",
   "metadata": {},
   "outputs": [
    {
     "data": {
      "image/png": "[encoded data removed]",
      "text/plain": [
       "<Figure size 1200x600 with 1 Axes>"
      ]
     },
     "metadata": {},
     "output_type": "display_data"
    }
   ],
   "source": [
    "# Plotting\n",
    "plt.figure(figsize=(12, 6))\n",
    "\n",
    "# Plot each ownership type\n",
    "plt.plot(summary_own['year'], summary_own['average_index_ownership']*100, label='Average Index Ownership', marker='o')\n",
    "plt.plot(summary_own['year'], summary_own['average_active_ownership']*100, label='Average Active Ownership', marker='o')\n",
    "plt.plot(summary_own['year'], summary_inst['average_instit_ownership']*100, label='Average Institutional Ownership', marker='o')\n",
    "\n",
    "# Adding labels and title\n",
    "plt.title('Trend of Average Ownership Over Years')\n",
    "plt.xlabel('Year')\n",
    "plt.ylabel('Average Ownership (%)')\n",
    "plt.xticks(summary_own['year'], rotation=45)  # Rotate x-ticks for better visibility\n",
    "plt.legend()\n",
    "plt.grid()\n",
    "\n",
    "# Save the plot to a file\n",
    "plt.tight_layout()\n",
    "plt.savefig('average_ownership_trend.png', dpi=300)  # Save as PNG with high resolution\n",
    "plt.show()"
   ]
  },
  {
   "cell_type": "code",
   "execution_count": 233,
   "id": "cd102e2b-9719-4147-b917-debe56e76df4",
   "metadata": {},
   "outputs": [
    {
     "data": {
      "image/png": "[encoded data removed]",
      "text/plain": [
       "<Figure size 1200x600 with 1 Axes>"
      ]
     },
     "metadata": {},
     "output_type": "display_data"
    }
   ],
   "source": [
    "# Plotting\n",
    "plt.figure(figsize=(12, 6))\n",
    "\n",
    "# Plot each ownership type\n",
    "plt.plot(summary_own['year'], summary_own['median_index_ownership']*100, label='Average Index Ownership', marker='o')\n",
    "plt.plot(summary_own['year'], summary_own['median_active_ownership']*100, label='Average Active Ownership', marker='o')\n",
    "plt.plot(summary_own['year'], summary_inst['median_instit_ownership']*100, label='Average Institutional Ownership', marker='o')\n",
    "\n",
    "# Adding labels and title\n",
    "plt.title('Trend of Median Ownership Over Years')\n",
    "plt.xlabel('Year')\n",
    "plt.ylabel('Median Ownership (%)')\n",
    "plt.xticks(summary_own['year'], rotation=45)  # Rotate x-ticks for better visibility\n",
    "plt.legend()\n",
    "plt.grid()\n",
    "\n",
    "# Save the plot to a file\n",
    "plt.tight_layout()\n",
    "plt.savefig('median_ownership_trend.png', dpi=300)  # Save as PNG with high resolution\n",
    "plt.show()"
   ]
  },
  {
   "cell_type": "code",
   "execution_count": null,
   "id": "0ea4c2a6-41cf-4673-8f1c-3c0253dfa247",
   "metadata": {},
   "outputs": [],
   "source": []
  }
 ],
 "metadata": {
  "kernelspec": {
   "display_name": "Python 3 (ipykernel)",
   "language": "python",
   "name": "python3"
  },
  "language_info": {
   "codemirror_mode": {
    "name": "ipython",
    "version": 3
   },
   "file_extension": ".py",
   "mimetype": "text/x-python",
   "name": "python",
   "nbconvert_exporter": "python",
   "pygments_lexer": "ipython3",
   "version": "3.12.2"
  }
 },
 "nbformat": 4,
 "nbformat_minor": 5
}
