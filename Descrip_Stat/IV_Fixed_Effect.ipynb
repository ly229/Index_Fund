{
 "cells": [
  {
   "cell_type": "code",
   "execution_count": 1,
   "id": "f4aeea89-b8fe-40bf-a13d-a6baf39c6715",
   "metadata": {},
   "outputs": [],
   "source": [
    "import numpy as np\n",
    "import pandas as pd\n",
    "\n",
    "\n",
    "from fixedeffect.iv import iv2sls, ivgmm, ivtest\n",
    "from fixedeffect.fe import fixedeffect, did, getfe\n",
    "from fixedeffect.utils.panel_dgp import gen_data"
   ]
  },
  {
   "cell_type": "markdown",
   "id": "ae9f484e-1498-4f7c-9677-51b6fbefe185",
   "metadata": {},
   "source": [
    "### Testing IV regression with fixed effect\n",
    "- generate random data and test"
   ]
  },
  {
   "cell_type": "code",
   "execution_count": 2,
   "id": "7eb1e824-941f-49dd-9711-4367df3eb9e8",
   "metadata": {},
   "outputs": [],
   "source": [
    "N = 100\n",
    "T = 10\n",
    "beta = [-3,1,2,3,4]\n",
    "ate = 1\n",
    "exp_date = 5\n",
    "df = gen_data(N, T, beta, ate, exp_date)"
   ]
  },
  {
   "cell_type": "code",
   "execution_count": 3,
   "id": "075fb510-fdbb-4951-8a2e-337a9f0c6661",
   "metadata": {},
   "outputs": [
    {
     "data": {
      "text/html": [
       "<div>\n",
       "<style scoped>\n",
       "    .dataframe tbody tr th:only-of-type {\n",
       "        vertical-align: middle;\n",
       "    }\n",
       "\n",
       "    .dataframe tbody tr th {\n",
       "        vertical-align: top;\n",
       "    }\n",
       "\n",
       "    .dataframe thead th {\n",
       "        text-align: right;\n",
       "    }\n",
       "</style>\n",
       "<table border=\"1\" class=\"dataframe\">\n",
       "  <thead>\n",
       "    <tr style=\"text-align: right;\">\n",
       "      <th></th>\n",
       "      <th>x_0</th>\n",
       "      <th>x_1</th>\n",
       "      <th>x_2</th>\n",
       "      <th>x_3</th>\n",
       "      <th>x_4</th>\n",
       "      <th>xb</th>\n",
       "      <th>id</th>\n",
       "      <th>time</th>\n",
       "      <th>c_i</th>\n",
       "      <th>a_t</th>\n",
       "      <th>error</th>\n",
       "      <th>post</th>\n",
       "      <th>treatment</th>\n",
       "      <th>y</th>\n",
       "    </tr>\n",
       "  </thead>\n",
       "  <tbody>\n",
       "    <tr>\n",
       "      <th>0</th>\n",
       "      <td>1.0</td>\n",
       "      <td>1.710837</td>\n",
       "      <td>1.414415</td>\n",
       "      <td>-0.063661</td>\n",
       "      <td>-1.579931</td>\n",
       "      <td>-4.971040</td>\n",
       "      <td>1.0</td>\n",
       "      <td>1.0</td>\n",
       "      <td>-1.532921</td>\n",
       "      <td>-0.000417</td>\n",
       "      <td>1.764052</td>\n",
       "      <td>0</td>\n",
       "      <td>1</td>\n",
       "      <td>-4.740326</td>\n",
       "    </tr>\n",
       "    <tr>\n",
       "      <th>1</th>\n",
       "      <td>1.0</td>\n",
       "      <td>-2.832012</td>\n",
       "      <td>-1.083427</td>\n",
       "      <td>-0.130620</td>\n",
       "      <td>1.400689</td>\n",
       "      <td>-2.787970</td>\n",
       "      <td>1.0</td>\n",
       "      <td>2.0</td>\n",
       "      <td>-1.532921</td>\n",
       "      <td>0.374155</td>\n",
       "      <td>0.400157</td>\n",
       "      <td>0</td>\n",
       "      <td>1</td>\n",
       "      <td>-3.546579</td>\n",
       "    </tr>\n",
       "    <tr>\n",
       "      <th>2</th>\n",
       "      <td>1.0</td>\n",
       "      <td>-0.651656</td>\n",
       "      <td>0.504815</td>\n",
       "      <td>1.303181</td>\n",
       "      <td>0.128536</td>\n",
       "      <td>1.781663</td>\n",
       "      <td>1.0</td>\n",
       "      <td>3.0</td>\n",
       "      <td>-1.532921</td>\n",
       "      <td>0.409552</td>\n",
       "      <td>0.978738</td>\n",
       "      <td>0</td>\n",
       "      <td>1</td>\n",
       "      <td>1.637032</td>\n",
       "    </tr>\n",
       "  </tbody>\n",
       "</table>\n",
       "</div>"
      ],
      "text/plain": [
       "   x_0       x_1       x_2       x_3       x_4        xb   id  time       c_i  \\\n",
       "0  1.0  1.710837  1.414415 -0.063661 -1.579931 -4.971040  1.0   1.0 -1.532921   \n",
       "1  1.0 -2.832012 -1.083427 -0.130620  1.400689 -2.787970  1.0   2.0 -1.532921   \n",
       "2  1.0 -0.651656  0.504815  1.303181  0.128536  1.781663  1.0   3.0 -1.532921   \n",
       "\n",
       "        a_t     error  post  treatment         y  \n",
       "0 -0.000417  1.764052     0          1 -4.740326  \n",
       "1  0.374155  0.400157     0          1 -3.546579  \n",
       "2  0.409552  0.978738     0          1  1.637032  "
      ]
     },
     "execution_count": 3,
     "metadata": {},
     "output_type": "execute_result"
    }
   ],
   "source": [
    "df.head(3)"
   ]
  },
  {
   "cell_type": "markdown",
   "id": "a0b1f34c-f075-42a1-8b0e-bd00bdef1cbf",
   "metadata": {},
   "source": [
    "#### GMM regression"
   ]
  },
  {
   "cell_type": "code",
   "execution_count": 4,
   "id": "2a99bb5c-8c6f-4034-8ec0-402b21879934",
   "metadata": {},
   "outputs": [],
   "source": [
    "exog_x = ['x_1']\n",
    "endog_x = ['x_2']\n",
    "iv = ['x_3','x_4']\n",
    "y = ['y']\n",
    "\n",
    "model_ivgmm = ivgmm(data_df = df,\n",
    "                      dependent = y,\n",
    "                      exog_x = exog_x,\n",
    "                      endog_x = endog_x,\n",
    "                      category = ['id','time'],\n",
    "                      iv = iv)\n",
    "\n",
    "result_gmm = model_ivgmm.fit()"
   ]
  },
  {
   "cell_type": "code",
   "execution_count": 12,
   "id": "580afad1-039f-463d-8144-2c22066335bd",
   "metadata": {},
   "outputs": [
    {
     "name": "stdout",
     "output_type": "stream",
     "text": [
      "['Covariance_Type', '_OLSFixed__init', '__class__', '__delattr__', '__dict__', '__dir__', '__doc__', '__eq__', '__format__', '__ge__', '__getattribute__', '__getstate__', '__gt__', '__hash__', '__init__', '__init_subclass__', '__le__', '__lt__', '__module__', '__ne__', '__new__', '__reduce__', '__reduce_ex__', '__repr__', '__setattr__', '__sizeof__', '__str__', '__subclasshook__', '__weakref__', 'bse', 'category_input', 'cluster', 'cluster_method', 'conf_int', 'data_df', 'demeaned_df', 'dependent', 'df', 'endog_x', 'exog_x', 'f_df_full', 'f_df_proj', 'f_pvalue', 'f_stat_first_stage', 'f_stat_first_stage_pval', 'full_f_pvalue', 'full_fvalue', 'full_rsquared', 'full_rsquared_adj', 'fvalue', 'iv', 'model', 'nobs', 'orignal_exog_x', 'params', 'pvalues', 'resid', 'resid_std_err', 'rsquared', 'rsquared_adj', 'summary', 'to_excel', 'treatment_input', 'tvalues', 'variance_matrix', 'x_second_stage', 'xname', 'yname']\n"
     ]
    }
   ],
   "source": [
    "print(dir(result_gmm)) #know the attributes of result"
   ]
  },
  {
   "cell_type": "code",
   "execution_count": 9,
   "id": "8da81564-92c7-4e19-84b9-4feb39b32627",
   "metadata": {},
   "outputs": [
    {
     "name": "stdout",
     "output_type": "stream",
     "text": [
      "Coefficients:\n",
      " const      -1.404416\n",
      "x_1        -1.522474\n",
      "hat_x_2    97.958438\n",
      "dtype: float64\n",
      "\n",
      "Standard Errors:\n",
      " const      0.102075\n",
      "x_1        0.120269\n",
      "hat_x_2    2.256885\n",
      "dtype: float64\n",
      "\n",
      "T-Stats:\n",
      " const     -13.758714\n",
      "x_1       -12.658905\n",
      "hat_x_2    43.404272\n",
      "dtype: float64\n",
      "\n",
      "P-Values:\n",
      " const       3.440192e-39\n",
      "x_1         6.906593e-34\n",
      "hat_x_2    8.156502e-222\n",
      "dtype: float64\n",
      "\n",
      "R-squared:\n",
      " -286.96428071586564\n"
     ]
    }
   ],
   "source": [
    "print(\"Coefficients:\\n\", result_iv.params)\n",
    "print(\"\\nStandard Errors:\\n\", result_iv.bse)\n",
    "print(\"\\nT-Stats:\\n\", result_iv.tvalues)\n",
    "print(\"\\nP-Values:\\n\", result_iv.pvalues)\n",
    "print(\"\\nR-squared:\\n\", result_iv.rsquared)"
   ]
  },
  {
   "cell_type": "markdown",
   "id": "96752f01-a80c-420b-b9df-948a4fa3b850",
   "metadata": {},
   "source": [
    "#### 2SLS regression"
   ]
  },
  {
   "cell_type": "code",
   "execution_count": 5,
   "id": "348fa2fa-16f6-4477-98ba-26123dea6c13",
   "metadata": {},
   "outputs": [
    {
     "name": "stderr",
     "output_type": "stream",
     "text": [
      "/home/ec2-user/miniconda3/lib/python3.12/site-packages/fixedeffect/iv/iv.py:46: UserWarning: \"iv2sls\" will no longer be supported beyond version 0.0.5, please use \"ivgmm\" instead\n",
      "  warnings.warn('\"iv2sls\" will no longer be supported beyond version 0.0.5, please use \"ivgmm\" instead')\n"
     ]
    }
   ],
   "source": [
    "exog_x = ['x_1']\n",
    "endog_x = ['x_2']\n",
    "iv = ['x_3','x_4']\n",
    "y = ['y']\n",
    "category = ['id', 'time']\n",
    "\n",
    "\n",
    "model_iv2sls = iv2sls(data_df = df,\n",
    "                      dependent = y,\n",
    "                      exog_x = exog_x,\n",
    "                      endog_x = endog_x,\n",
    "                      category = category,\n",
    "                      iv = iv)\n",
    "\n",
    "result_iv = model_iv2sls.fit()"
   ]
  },
  {
   "cell_type": "code",
   "execution_count": 8,
   "id": "e87a1b56-75aa-436f-9dbb-9234f061804e",
   "metadata": {},
   "outputs": [
    {
     "name": "stdout",
     "output_type": "stream",
     "text": [
      "Coefficients:\n",
      " const      -1.404416\n",
      "x_1        -1.522474\n",
      "hat_x_2    97.958438\n",
      "dtype: float64\n",
      "\n",
      "Standard Errors:\n",
      " const      0.102075\n",
      "x_1        0.120269\n",
      "hat_x_2    2.256885\n",
      "dtype: float64\n",
      "\n",
      "T-Stats:\n",
      " const     -13.758714\n",
      "x_1       -12.658905\n",
      "hat_x_2    43.404272\n",
      "dtype: float64\n",
      "\n",
      "P-Values:\n",
      " const       3.440192e-39\n",
      "x_1         6.906593e-34\n",
      "hat_x_2    8.156502e-222\n",
      "dtype: float64\n",
      "\n",
      "R-squared:\n",
      " -286.96428071586564\n"
     ]
    }
   ],
   "source": [
    "print(\"Coefficients:\\n\", result_iv.params)\n",
    "print(\"\\nStandard Errors:\\n\", result_iv.bse)\n",
    "print(\"\\nT-Stats:\\n\", result_iv.tvalues)\n",
    "print(\"\\nP-Values:\\n\", result_iv.pvalues)\n",
    "print(\"\\nR-squared:\\n\", result_iv.rsquared)"
   ]
  },
  {
   "cell_type": "markdown",
   "id": "860f447f-b972-40de-bf95-609189852d6b",
   "metadata": {},
   "source": [
    "### Apply to index_ownership regression data"
   ]
  },
  {
   "cell_type": "markdown",
   "id": "e6486066-6e89-474f-a810-849b8b360a23",
   "metadata": {},
   "source": [
    "#### Sample Testing for df_regresison_iv\n",
    "- choose one dependent var - [bas]"
   ]
  },
  {
   "cell_type": "code",
   "execution_count": 10,
   "id": "ae285bf5-090d-4851-836e-bcb9e303c6a2",
   "metadata": {},
   "outputs": [],
   "source": [
    "df_regression_iv = pd.read_csv(\"df_regression_iv.csv\")"
   ]
  },
  {
   "cell_type": "code",
   "execution_count": 11,
   "id": "30ca67a4-139e-4c7e-995f-14b214679d81",
   "metadata": {},
   "outputs": [],
   "source": [
    "df_regression_iv['const'] = 1.0"
   ]
  },
  {
   "cell_type": "markdown",
   "id": "35484333-aa4d-4d15-8e21-f1ffe57a0c42",
   "metadata": {},
   "source": [
    "#### collinrarity, generate lagged value for mktcap and price for control"
   ]
  },
  {
   "cell_type": "code",
   "execution_count": 29,
   "id": "8b6348ec-57e2-4e9f-940b-7b803db140ff",
   "metadata": {},
   "outputs": [],
   "source": [
    "df_regression_iv['mktcap_lag1'] = df_regression_iv.groupby('cusip')['mktcap'].shift(1)\n",
    "df_regression_iv['price_ind_lag1'] = df_regression_iv.groupby('cusip')['price_ind'].shift(1)\n",
    "df_regression_iv['volume_lag1'] = df_regression_iv.groupby('cusip')['volume'].shift(1)\n",
    "df_regression_iv['ins_own_lag1'] = df_regression_iv.groupby('cusip')['ins_own'].shift(1)"
   ]
  },
  {
   "cell_type": "code",
   "execution_count": 32,
   "id": "f1e67698-7809-47a4-bcc4-3124543d13c2",
   "metadata": {},
   "outputs": [],
   "source": [
    "df_regression_iv['log_mktcap_lag1'] = np.log(df_regression_iv['mktcap_lag1'].replace(0, np.nan))"
   ]
  },
  {
   "cell_type": "code",
   "execution_count": 38,
   "id": "fd633567-4a14-4f4d-ab63-1f9db94159d4",
   "metadata": {},
   "outputs": [
    {
     "data": {
      "text/html": [
       "<div>\n",
       "<style scoped>\n",
       "    .dataframe tbody tr th:only-of-type {\n",
       "        vertical-align: middle;\n",
       "    }\n",
       "\n",
       "    .dataframe tbody tr th {\n",
       "        vertical-align: top;\n",
       "    }\n",
       "\n",
       "    .dataframe thead th {\n",
       "        text-align: right;\n",
       "    }\n",
       "</style>\n",
       "<table border=\"1\" class=\"dataframe\">\n",
       "  <thead>\n",
       "    <tr style=\"text-align: right;\">\n",
       "      <th></th>\n",
       "      <th>cusip</th>\n",
       "      <th>date</th>\n",
       "      <th>bas</th>\n",
       "      <th>tno</th>\n",
       "      <th>mktcap</th>\n",
       "      <th>price_ind</th>\n",
       "      <th>volume</th>\n",
       "      <th>illiq</th>\n",
       "      <th>volatility</th>\n",
       "      <th>synch</th>\n",
       "      <th>...</th>\n",
       "      <th>auto_lag3</th>\n",
       "      <th>auto_lag4</th>\n",
       "      <th>assigned_to_R2000</th>\n",
       "      <th>const</th>\n",
       "      <th>hat_ind_own</th>\n",
       "      <th>mktcap_lag1</th>\n",
       "      <th>log_mktcap_lag1</th>\n",
       "      <th>price_ind_lag1</th>\n",
       "      <th>volume_lag1</th>\n",
       "      <th>ins_own_lag1</th>\n",
       "    </tr>\n",
       "  </thead>\n",
       "  <tbody>\n",
       "    <tr>\n",
       "      <th>0</th>\n",
       "      <td>00030710</td>\n",
       "      <td>2014-12-31</td>\n",
       "      <td>0.084839</td>\n",
       "      <td>332.131683</td>\n",
       "      <td>178.587706</td>\n",
       "      <td>0.039206</td>\n",
       "      <td>7.001668</td>\n",
       "      <td>1.135563</td>\n",
       "      <td>0.277043</td>\n",
       "      <td>-3.648</td>\n",
       "      <td>...</td>\n",
       "      <td>0.203</td>\n",
       "      <td>0.078</td>\n",
       "      <td>0</td>\n",
       "      <td>1.0</td>\n",
       "      <td>0.003597</td>\n",
       "      <td>0.000000</td>\n",
       "      <td>0.00000</td>\n",
       "      <td>0.000000</td>\n",
       "      <td>0.000000</td>\n",
       "      <td>0.000000</td>\n",
       "    </tr>\n",
       "    <tr>\n",
       "      <th>1</th>\n",
       "      <td>00030710</td>\n",
       "      <td>2015-03-31</td>\n",
       "      <td>0.051639</td>\n",
       "      <td>443.806176</td>\n",
       "      <td>274.286735</td>\n",
       "      <td>0.034110</td>\n",
       "      <td>9.355878</td>\n",
       "      <td>1.095236</td>\n",
       "      <td>0.317542</td>\n",
       "      <td>-1.841</td>\n",
       "      <td>...</td>\n",
       "      <td>0.025</td>\n",
       "      <td>0.305</td>\n",
       "      <td>0</td>\n",
       "      <td>1.0</td>\n",
       "      <td>0.030658</td>\n",
       "      <td>178.587706</td>\n",
       "      <td>5.18508</td>\n",
       "      <td>0.039206</td>\n",
       "      <td>7.001668</td>\n",
       "      <td>0.234046</td>\n",
       "    </tr>\n",
       "  </tbody>\n",
       "</table>\n",
       "<p>2 rows × 25 columns</p>\n",
       "</div>"
      ],
      "text/plain": [
       "      cusip        date       bas         tno      mktcap  price_ind  \\\n",
       "0  00030710  2014-12-31  0.084839  332.131683  178.587706   0.039206   \n",
       "1  00030710  2015-03-31  0.051639  443.806176  274.286735   0.034110   \n",
       "\n",
       "     volume     illiq  volatility  synch  ...  auto_lag3  auto_lag4  \\\n",
       "0  7.001668  1.135563    0.277043 -3.648  ...      0.203      0.078   \n",
       "1  9.355878  1.095236    0.317542 -1.841  ...      0.025      0.305   \n",
       "\n",
       "   assigned_to_R2000  const  hat_ind_own  mktcap_lag1  log_mktcap_lag1  \\\n",
       "0                  0    1.0     0.003597     0.000000          0.00000   \n",
       "1                  0    1.0     0.030658   178.587706          5.18508   \n",
       "\n",
       "   price_ind_lag1  volume_lag1  ins_own_lag1  \n",
       "0        0.000000     0.000000      0.000000  \n",
       "1        0.039206     7.001668      0.234046  \n",
       "\n",
       "[2 rows x 25 columns]"
      ]
     },
     "execution_count": 38,
     "metadata": {},
     "output_type": "execute_result"
    }
   ],
   "source": [
    "df_regression_iv.head(2)"
   ]
  },
  {
   "cell_type": "code",
   "execution_count": 40,
   "id": "b5866e87-3a34-40c6-b8dd-dd752cb411a1",
   "metadata": {},
   "outputs": [],
   "source": [
    "df_regression_iv['date'] = pd.to_datetime(df_regression_iv['date'])  # ensure datetime format\n",
    "\n",
    "df_regression_iv['quarter'] = df_regression_iv['date'].dt.to_period('Q')  # gives '2015Q1', '2015Q2', etc."
   ]
  },
  {
   "cell_type": "code",
   "execution_count": 41,
   "id": "7c3fe35d-42b3-4325-91e5-d977f5a82674",
   "metadata": {},
   "outputs": [],
   "source": [
    "df_iv_reg = df_regression_iv.drop(columns=['mktcap', 'price_ind','volume']).copy()"
   ]
  },
  {
   "cell_type": "code",
   "execution_count": 42,
   "id": "dc3f4615-da79-4c72-8326-02b1492ca7ee",
   "metadata": {},
   "outputs": [
    {
     "data": {
      "text/plain": [
       "(290302, 23)"
      ]
     },
     "execution_count": 42,
     "metadata": {},
     "output_type": "execute_result"
    }
   ],
   "source": [
    "df_iv_reg.shape"
   ]
  },
  {
   "cell_type": "code",
   "execution_count": 35,
   "id": "030a8670-09ce-469d-9a2e-f25f90c72319",
   "metadata": {},
   "outputs": [],
   "source": [
    "# Define independent variables\n",
    "# market_quality_vars = ['bas', 'tno', 'illiq', 'volatility', 'synch', 'auto_lag1', 'auto_lag2', 'auto_lag3', 'auto_lag4']\n",
    "Y_test = ['bas']\n",
    "\n",
    "# Define X vars\n",
    "X_endog = ['ind_own']\n",
    "X_exog = ['log_mktcap_lag1', 'price_ind_lag1', 'volume_lag1', 'ins_own_lag1'] #control vars are exogenous\n",
    "\n",
    "# Define Instruments\n",
    "Z_instr = ['assigned_to_R2000']"
   ]
  },
  {
   "cell_type": "code",
   "execution_count": 22,
   "id": "1e1021a3-949b-427b-836d-d77194649852",
   "metadata": {},
   "outputs": [],
   "source": [
    "category_ind = ['date']"
   ]
  },
  {
   "cell_type": "code",
   "execution_count": 43,
   "id": "6fc6ff39-2465-42ab-b5cb-0689082489e1",
   "metadata": {},
   "outputs": [
    {
     "name": "stderr",
     "output_type": "stream",
     "text": [
      "/home/ec2-user/miniconda3/lib/python3.12/site-packages/fixedeffect/iv/iv.py:46: UserWarning: \"iv2sls\" will no longer be supported beyond version 0.0.5, please use \"ivgmm\" instead\n",
      "  warnings.warn('\"iv2sls\" will no longer be supported beyond version 0.0.5, please use \"ivgmm\" instead')\n",
      "/home/ec2-user/miniconda3/lib/python3.12/site-packages/fixedeffect/utils/WaldTest.py:37: UserWarning: The variance matrix is either rank-deficient or indefinite.\n",
      "  warnings.warn('The variance matrix is either rank-deficient or indefinite.')\n"
     ]
    }
   ],
   "source": [
    "model_iv2sls_ind_test = iv2sls(data_df = df_iv_reg,\n",
    "                      dependent = Y_test,\n",
    "                      exog_x = X_exog,\n",
    "                      endog_x = X_endog,\n",
    "                      category = category_ind,\n",
    "                      iv = Z_instr)\n",
    "\n",
    "result_iv_ind_test = model_iv2sls_ind_test.fit()"
   ]
  },
  {
   "cell_type": "code",
   "execution_count": 37,
   "id": "b6415b9c-9776-4950-affb-27c2fed35d08",
   "metadata": {},
   "outputs": [
    {
     "name": "stdout",
     "output_type": "stream",
     "text": [
      "Coefficients:\n",
      " const              0.230028\n",
      "log_mktcap_lag1   -0.007226\n",
      "price_ind_lag1    -0.230335\n",
      "volume_lag1       -0.000023\n",
      "ins_own_lag1      -0.006216\n",
      "hat_ind_own       -1.241778\n",
      "dtype: float64\n",
      "\n",
      "Standard Errors:\n",
      " const              0.003528\n",
      "log_mktcap_lag1    0.000549\n",
      "price_ind_lag1     0.006932\n",
      "volume_lag1        0.000003\n",
      "ins_own_lag1       0.008497\n",
      "hat_ind_own        0.119996\n",
      "dtype: float64\n",
      "\n",
      "T-Stats:\n",
      " const              65.205676\n",
      "log_mktcap_lag1   -13.163312\n",
      "price_ind_lag1    -33.225826\n",
      "volume_lag1        -7.099704\n",
      "ins_own_lag1       -0.731562\n",
      "hat_ind_own       -10.348534\n",
      "dtype: float64\n",
      "\n",
      "P-Values:\n",
      " const               0.000000e+00\n",
      "log_mktcap_lag1     1.464716e-39\n",
      "price_ind_lag1     1.302604e-241\n",
      "volume_lag1         1.253092e-12\n",
      "ins_own_lag1        4.644367e-01\n",
      "hat_ind_own         4.292380e-25\n",
      "dtype: float64\n",
      "\n",
      "R-squared:\n",
      " 0.006528918333289724\n"
     ]
    }
   ],
   "source": [
    "print(\"Coefficients:\\n\", result_iv_ind_test.params)\n",
    "print(\"\\nStandard Errors:\\n\", result_iv_ind_test.bse)\n",
    "print(\"\\nT-Stats:\\n\", result_iv_ind_test.tvalues)\n",
    "print(\"\\nP-Values:\\n\", result_iv_ind_test.pvalues)\n",
    "print(\"\\nR-squared:\\n\", result_iv_ind_test.rsquared)"
   ]
  },
  {
   "cell_type": "code",
   "execution_count": null,
   "id": "b2858155-bf95-4fc2-966e-9f7f1be9527d",
   "metadata": {},
   "outputs": [],
   "source": []
  }
 ],
 "metadata": {
  "kernelspec": {
   "display_name": "Python 3 (ipykernel)",
   "language": "python",
   "name": "python3"
  },
  "language_info": {
   "codemirror_mode": {
    "name": "ipython",
    "version": 3
   },
   "file_extension": ".py",
   "mimetype": "text/x-python",
   "name": "python",
   "nbconvert_exporter": "python",
   "pygments_lexer": "ipython3",
   "version": "3.12.2"
  }
 },
 "nbformat": 4,
 "nbformat_minor": 5
}
