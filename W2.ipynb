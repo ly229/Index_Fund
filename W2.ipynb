{
 "cells": [
  {
   "cell_type": "markdown",
   "id": "4f582efe-c087-4e9c-8a7d-f6ce505a7f1e",
   "metadata": {},
   "source": [
    "# Week 2 Practice"
   ]
  },
  {
   "cell_type": "markdown",
   "id": "0cd200e0-0aeb-46fb-9c60-d233fdd11f31",
   "metadata": {},
   "source": [
    "# minMax - find min&max of the n-1 elements in an array"
   ]
  },
  {
   "cell_type": "code",
   "execution_count": 15,
   "id": "d27f8c3e-de3e-4f77-a93c-9312ba4646f2",
   "metadata": {
    "tags": []
   },
   "outputs": [],
   "source": [
    "def minMax(_arr) :\n",
    "    \n",
    "    min_val = 0\n",
    "    max_val = 0\n",
    "    \n",
    "    n = len(_arr)\n",
    "    \n",
    "    _arr.sort()\n",
    "    \n",
    "    j = n-1 #first element in array index - arr[0]\n",
    "    \n",
    "    for i in range(n-1):\n",
    "        min_val += _arr[i]\n",
    "        \n",
    "        max_val += _arr[j]\n",
    "        j-=1\n",
    "    return print(min_val, \"\", max_val)"
   ]
  },
  {
   "cell_type": "code",
   "execution_count": 16,
   "id": "53aff4ae-33ce-4f78-81b7-6819971142d2",
   "metadata": {},
   "outputs": [
    {
     "name": "stdout",
     "output_type": "stream",
     "text": [
      "32  40\n"
     ]
    }
   ],
   "source": [
    "arr = [9,13,7,11,5]\n",
    "minMax(arr)"
   ]
  },
  {
   "cell_type": "markdown",
   "id": "7b779a24-98cb-4da7-b273-42068a99871c",
   "metadata": {},
   "source": [
    "# timeConvert - time conversion from 12-hr to 24-hr format"
   ]
  },
  {
   "cell_type": "markdown",
   "id": "a49e7952-b34f-4209-b22a-27995f586483",
   "metadata": {},
   "source": [
    "# use datetime module in Python"
   ]
  },
  {
   "cell_type": "code",
   "execution_count": 7,
   "id": "5db9036e-2f6f-4a5d-acd7-5f5e977fe5f1",
   "metadata": {},
   "outputs": [],
   "source": [
    "from datetime import datetime\n",
    "\n",
    "def timeConvert(_time):\n",
    "    t = datetime.strptime(_time, '%I:%M:%S %p')\n",
    "    return t.strftime('%H:%M:%S')"
   ]
  },
  {
   "cell_type": "code",
   "execution_count": 9,
   "id": "0343aa34-2dc1-4a56-b26e-f2c3a8514f33",
   "metadata": {},
   "outputs": [
    {
     "name": "stdout",
     "output_type": "stream",
     "text": [
      "22:22:30\n",
      "00:11:40\n"
     ]
    }
   ],
   "source": [
    "print (timeConvert('10:22:30 pm'))\n",
    "print (timeConvert('12:11:40 am'))"
   ]
  },
  {
   "cell_type": "markdown",
   "id": "3b6b293e-4db7-4da3-b7ab-e75927448d62",
   "metadata": {},
   "source": [
    "# use regular expression"
   ]
  },
  {
   "cell_type": "code",
   "execution_count": 13,
   "id": "7c08b31c-d3f2-4d2b-a74d-688c52f6c08b",
   "metadata": {},
   "outputs": [],
   "source": [
    "import re\n",
    "\n",
    "def timConv(_tim):\n",
    "    hour, minute, second, am_pm = re.findall('\\d+|\\w+', _tim) \n",
    "    #d-digitals; w-words\n",
    "    hour = int(hour)\n",
    "    if am_pm == 'PM' and hour != 12:\n",
    "        hour += 12\n",
    "    elif am_pm == 'AM' and hour == 12:\n",
    "        hour == 0\n",
    "    return f'{hour:02d}:{minute}:{second}'"
   ]
  },
  {
   "cell_type": "code",
   "execution_count": null,
   "id": "20e93fc8-b50b-4b17-b5b4-fa4d7cbd423d",
   "metadata": {},
   "outputs": [],
   "source": [
    "print (timeConvert('10:22:30 pm'))\n",
    "print (timeConvert('12:11:40 am'))"
   ]
  }
 ],
 "metadata": {
  "kernelspec": {
   "display_name": "Python 3 (ipykernel)",
   "language": "python",
   "name": "python3"
  },
  "language_info": {
   "codemirror_mode": {
    "name": "ipython",
    "version": 3
   },
   "file_extension": ".py",
   "mimetype": "text/x-python",
   "name": "python",
   "nbconvert_exporter": "python",
   "pygments_lexer": "ipython3",
   "version": "3.12.2"
  }
 },
 "nbformat": 4,
 "nbformat_minor": 5
}
