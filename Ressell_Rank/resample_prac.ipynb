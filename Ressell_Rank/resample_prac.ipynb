{
 "cells": [
  {
   "cell_type": "markdown",
   "id": "4366058a-d7ea-4314-9646-bf72bd177ac1",
   "metadata": {},
   "source": [
    "## Upsampling data from quraterly to monthly frequency(with in each groups)"
   ]
  },
  {
   "cell_type": "code",
   "execution_count": 29,
   "id": "80f6282d-966f-4298-bf26-94f885c10155",
   "metadata": {},
   "outputs": [],
   "source": [
    "import pandas as pd\n",
    "import time"
   ]
  },
  {
   "cell_type": "code",
   "execution_count": 10,
   "id": "fc5716e3-ef26-42c3-9015-b8981c078d11",
   "metadata": {},
   "outputs": [
    {
     "name": "stdout",
     "output_type": "stream",
     "text": [
      "            Value\n",
      "Date             \n",
      "2021-03-31     10\n",
      "2021-06-30     20\n",
      "2021-09-30     30\n",
      "2021-12-31     40\n",
      "----------------------------------------\n",
      "Monthly Frequency:\n",
      "            Value\n",
      "Date             \n",
      "2021-03-31     10\n",
      "2021-04-30     10\n",
      "2021-05-31     10\n",
      "2021-06-30     20\n",
      "2021-07-31     20\n",
      "2021-08-31     20\n",
      "2021-09-30     30\n",
      "2021-10-31     30\n",
      "2021-11-30     30\n",
      "2021-12-31     40\n",
      "----------------------------------------\n",
      "Grouped:\n",
      "   id       date  value\n",
      "0   A 2023-01-31    100\n",
      "1   A 2023-02-28    100\n",
      "2   A 2023-03-31    100\n",
      "3   A 2023-04-30    200\n",
      "4   A 2023-05-31    200\n",
      "5   A 2023-06-30    200\n",
      "6   A 2023-07-31    150\n",
      "7   A 2023-08-31    150\n",
      "8   A 2023-09-30    150\n",
      "9   A 2023-10-31    180\n",
      "10  B 2023-01-31     50\n",
      "11  B 2023-02-28     50\n",
      "12  B 2023-03-31     50\n",
      "13  B 2023-04-30     60\n",
      "14  B 2023-05-31     60\n",
      "15  B 2023-06-30     60\n",
      "16  B 2023-07-31     70\n",
      "17  B 2023-08-31     70\n",
      "18  B 2023-09-30     70\n",
      "19  B 2023-10-31     80\n"
     ]
    }
   ],
   "source": [
    "# Sample quarterly data\n",
    "data = {\n",
    "    'Date': ['2021-03-31', '2021-06-30', '2021-09-30', '2021-12-31'],\n",
    "    'Value': [10, 20, 30, 40]\n",
    "}\n",
    "df = pd.DataFrame(data)\n",
    "df['Date'] = pd.to_datetime(df['Date'])\n",
    "df.set_index('Date', inplace=True)\n",
    "print(df)\n",
    "print(\"-\" * 40)\n",
    "\n",
    "# Upsample to monthly frequency and forward fill\n",
    "monthly_ffill = df.resample('ME').ffill()\n",
    "print(\"Monthly Frequency:\")\n",
    "print(monthly_ffill)\n",
    "print(\"-\" * 40)\n",
    "\n",
    "# Sample DataFrame with groups\n",
    "data = {\n",
    "    'date': pd.to_datetime([\n",
    "        '2023-01-01', '2023-04-01', '2023-07-01', '2023-10-01',  # Group 1\n",
    "        '2023-01-01', '2023-04-01', '2023-07-01', '2023-10-01'   # Group 2\n",
    "    ]),\n",
    "    'id': ['A', 'A', 'A', 'A', 'B', 'B', 'B', 'B'],\n",
    "    'value': [100, 200, 150, 180, 50, 60, 70, 80]\n",
    "}\n",
    "\n",
    "df = pd.DataFrame(data)\n",
    "df.set_index('date', inplace=True)\n",
    "\n",
    "# Perform forward fill within each group\n",
    "df_ffill = df.groupby('id').resample('ME', include_groups=False).ffill().reset_index()\n",
    "\n",
    "# df,groupby().apply(function , include_groups=False) - include_groups=False makes the fucntion work within each group\n",
    "\n",
    "print(\"Grouped:\")\n",
    "print(df_ffill)"
   ]
  },
  {
   "cell_type": "code",
   "execution_count": 37,
   "id": "a6641b8f-9ccc-4968-9d0b-3a7815549dbf",
   "metadata": {},
   "outputs": [],
   "source": [
    "# Sample DataFrame with daily data\n",
    "data = {\n",
    "    'group': ['A', 'A', 'A', 'B', 'B', 'c', 'B', 'A', 'A', 'B', 'c', 'c', 'A', 'B', 'B', 'c', 'B', 'A', 'c', 'B', 'A', 'A', 'c', 'B', 'c', 'B', 'B', 'A', 'A', 'B'],\n",
    "    'date': ['2023-01-01', '2023-01-15', '2023-01-21', '2023-02-15', '2023-02-01', '2023-01-11', '2023-01-22', '2023-02-05', '2023-02-11', '2023-01-06', \n",
    "             '2024-01-01', '2024-01-15', '2024-01-21', '2024-02-15', '2024-02-01', '2024-01-11', '2024-01-22', '2024-02-05', '2024-02-11', '2024-01-06',\n",
    "            '2025-01-01', '2025-01-15', '2025-01-21', '2025-02-15', '2025-02-01', '2025-01-11', '2025-01-22', '2025-02-05', '2025-02-11', '2025-01-06',],\n",
    "    'value1': [10, 15, 10, 20, 30, 25, 35, 10, 5, 15, 10, 15, 10, 20, 30, 25, 35, 10, 5, 15, 10, 15, 10, 20, 30, 25, 35, 10, 5, 15],\n",
    "    'value2': [5, 10, 15, 20, 25, 30, 35, 10, 15, 25, 5, 10, 15, 20, 25, 30, 35, 10, 15, 25, 5, 10, 15, 20, 25, 30, 35, 10, 15, 25]\n",
    "}\n",
    "\n",
    "df = pd.DataFrame(data)"
   ]
  },
  {
   "cell_type": "code",
   "execution_count": 38,
   "id": "f98f643e-071a-4849-b33e-1fabd3086796",
   "metadata": {},
   "outputs": [],
   "source": [
    "df['date'] = pd.to_datetime(df['date'])\n",
    "df.set_index('date', inplace=True)"
   ]
  },
  {
   "cell_type": "code",
   "execution_count": 39,
   "id": "b9246de9-873c-4452-b4e2-191319cdb0c0",
   "metadata": {},
   "outputs": [
    {
     "name": "stdout",
     "output_type": "stream",
     "text": [
      "   group       date     value1  value2\n",
      "0      A 2023-01-31  11.666667    10.0\n",
      "1      A 2023-02-28   7.500000    12.5\n",
      "2      A 2023-03-31        NaN     NaN\n",
      "3      A 2023-04-30        NaN     NaN\n",
      "4      A 2023-05-31        NaN     NaN\n",
      "..   ...        ...        ...     ...\n",
      "73     c 2024-10-31        NaN     NaN\n",
      "74     c 2024-11-30        NaN     NaN\n",
      "75     c 2024-12-31        NaN     NaN\n",
      "76     c 2025-01-31  10.000000    15.0\n",
      "77     c 2025-02-28  30.000000    25.0\n",
      "\n",
      "[78 rows x 4 columns]\n",
      "--- 0.018128156661987305 seconds ---\n"
     ]
    }
   ],
   "source": [
    "start_time = time.time()\n",
    "\n",
    "# Resample from daily to monthly frequency and calculate the mean\n",
    "df_monthly = df.groupby('group').resample('ME', include_groups=False).mean().reset_index()\n",
    "\n",
    "print(df_monthly)\n",
    "print(\"--- %s seconds ---\" % (time.time() - start_time))"
   ]
  },
  {
   "cell_type": "code",
   "execution_count": 32,
   "id": "af31dcbe-4a34-4744-8fc8-df7515024082",
   "metadata": {},
   "outputs": [
    {
     "name": "stdout",
     "output_type": "stream",
     "text": [
      "   group       date     value1  value2\n",
      "0      A 2023-01-31  11.666667    10.0\n",
      "1      A 2023-02-28   7.500000    12.5\n",
      "12     A 2024-01-31  10.000000    15.0\n",
      "13     A 2024-02-29  10.000000    10.0\n",
      "24     A 2025-01-31  12.500000     7.5\n",
      "25     A 2025-02-28   7.500000    12.5\n",
      "26     B 2023-01-31  25.000000    30.0\n",
      "27     B 2023-02-28  25.000000    22.5\n",
      "38     B 2024-01-31  25.000000    30.0\n",
      "39     B 2024-02-29  25.000000    22.5\n",
      "50     B 2025-01-31  25.000000    30.0\n",
      "51     B 2025-02-28  20.000000    20.0\n",
      "52     c 2023-01-31  25.000000    30.0\n",
      "64     c 2024-01-31  16.666667    15.0\n",
      "65     c 2024-02-29   5.000000    15.0\n",
      "76     c 2025-01-31  10.000000    15.0\n",
      "77     c 2025-02-28  30.000000    25.0\n",
      "--- 0.018864870071411133 seconds ---\n"
     ]
    }
   ],
   "source": [
    "start_time = time.time()\n",
    "\n",
    "# Resample from daily to monthly frequency and calculate the mean\n",
    "df_monthly = df.groupby('group').resample('ME', include_groups=False).mean().reset_index().dropna()\n",
    "\n",
    "print(df_monthly)\n",
    "print(\"--- %s seconds ---\" % (time.time() - start_time))"
   ]
  },
  {
   "cell_type": "code",
   "execution_count": null,
   "id": "ed3fda0b-1ae6-4d86-9a7d-94ee147e2d8e",
   "metadata": {},
   "outputs": [],
   "source": []
  }
 ],
 "metadata": {
  "kernelspec": {
   "display_name": "Python 3 (ipykernel)",
   "language": "python",
   "name": "python3"
  },
  "language_info": {
   "codemirror_mode": {
    "name": "ipython",
    "version": 3
   },
   "file_extension": ".py",
   "mimetype": "text/x-python",
   "name": "python",
   "nbconvert_exporter": "python",
   "pygments_lexer": "ipython3",
   "version": "3.12.2"
  }
 },
 "nbformat": 4,
 "nbformat_minor": 5
}
