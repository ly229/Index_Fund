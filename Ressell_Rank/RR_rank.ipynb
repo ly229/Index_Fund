{
 "cells": [
  {
   "cell_type": "code",
   "execution_count": 1,
   "id": "28e27d70-e3c4-4b41-9f34-52f82004d018",
   "metadata": {},
   "outputs": [],
   "source": [
    "import pandas as pd\n",
    "import numpy as np\n",
    "import wrds"
   ]
  },
  {
   "cell_type": "code",
   "execution_count": 2,
   "id": "b3e1f02c-1650-4cad-95e9-ebf2944b9119",
   "metadata": {},
   "outputs": [
    {
     "name": "stdin",
     "output_type": "stream",
     "text": [
      "Enter your WRDS username [ec2-user]: ly229\n",
      "Enter your password: ········\n"
     ]
    },
    {
     "name": "stdout",
     "output_type": "stream",
     "text": [
      "WRDS recommends setting up a .pgpass file.\n"
     ]
    },
    {
     "name": "stdin",
     "output_type": "stream",
     "text": [
      "Create .pgpass file now [y/n]?:  y\n"
     ]
    },
    {
     "name": "stdout",
     "output_type": "stream",
     "text": [
      "Created .pgpass file successfully.\n",
      "You can create this file yourself at any time with the create_pgpass_file() function.\n",
      "Loading library list...\n",
      "Done\n"
     ]
    }
   ],
   "source": [
    "###################\n",
    "# Connect to WRDS #\n",
    "###################\n",
    "conn=wrds.Connection()"
   ]
  },
  {
   "cell_type": "markdown",
   "id": "f68fc093-d739-4f05-baae-688c8f8226a5",
   "metadata": {},
   "source": [
    "## Mrkt Cap from CRSP daily data(desampled to monthly)"
   ]
  },
  {
   "cell_type": "code",
   "execution_count": null,
   "id": "b6276bcc-847f-40db-8756-c54e8eac65cc",
   "metadata": {},
   "outputs": [],
   "source": [
    "mktcap_crsp = conn.raw_sql(\"\"\"\n",
    "                        SELECT DISTINCT \n",
    "                        date AS date, \n",
    "                        permno, \n",
    "                        permco, \n",
    "                        cusip,\n",
    "                        ABS(prc*shrout)/1000 AS mrkcap_CRSP, \n",
    "                        SUM(ABS(prc*shrout)/1000) OVER (PARTITION BY date, permco) AS tot_mrkcap_CRSP\n",
    "                        \n",
    "                        FROM crsp.dsf\n",
    "                        \n",
    "                        WHERE EXTRACT(MONTH FROM date) IN (5) \n",
    "                        AND date >= '1999-01-01' \n",
    "                        \"\"\")"
   ]
  },
  {
   "cell_type": "code",
   "execution_count": null,
   "id": "c68e7ad0-90af-4055-85d6-2b70acba9e6b",
   "metadata": {},
   "outputs": [],
   "source": [
    "mktcap_crsp['date'] = pd.to_datetime(mktcap_crsp['date'])"
   ]
  },
  {
   "cell_type": "code",
   "execution_count": null,
   "id": "8b258c58-e829-40fd-8314-13f524758dd3",
   "metadata": {},
   "outputs": [],
   "source": [
    "mktcap_crsp_resample = mktcap_crsp\n",
    "mktcap_crsp_resample.set_index('date', inplace=True)\n",
    "mktcap_crsp_monthly = mktcap_crsp_resample.groupby(['permno', 'permco','cusip']).resample('ME', include_groups=False).mean().reset_index()"
   ]
  },
  {
   "cell_type": "code",
   "execution_count": null,
   "id": "9fa9915d-26d3-4d69-a1e1-35cf62f759bc",
   "metadata": {},
   "outputs": [],
   "source": [
    "file_path_1 = 'RR_data/mktcap_crsp_monthly.csv' \n",
    "mktcap_crsp_monthly.to_csv(file_path_1, index=False)"
   ]
  },
  {
   "cell_type": "markdown",
   "id": "b4482688-1f8b-4d95-add2-e97be5705196",
   "metadata": {},
   "source": [
    "## Mktcap from Compustat - daily security info"
   ]
  },
  {
   "cell_type": "markdown",
   "id": "2b473b30-3578-43ec-95f3-2d2663a9e0c5",
   "metadata": {},
   "source": [
    "### 1. aggregate data by gvkey -- (gvkey-iids to gvkey)"
   ]
  },
  {
   "cell_type": "markdown",
   "id": "1d0d1e25-c654-4e6a-8b49-be6ba9bfcee6",
   "metadata": {},
   "source": [
    "### 2. calculate prccd_vw -- sum(mktcap_COMP*prccd)/sum(mktcap_COMP)"
   ]
  },
  {
   "cell_type": "code",
   "execution_count": null,
   "id": "d86c782f-bcb5-4a16-bc63-0e8bba177915",
   "metadata": {},
   "outputs": [],
   "source": [
    "mktcap_comp = conn.raw_sql(\"\"\"\n",
    "                        SELECT DISTINCT \n",
    "                        datadate AS date,  \n",
    "                        gvkey,\n",
    "                        SUM(prccd*cshoc)/NULLIF(SUM(cshoc), 0) AS prccd,\n",
    "                        SUM(cshoc)/1000000 AS cshoc,\n",
    "                        SUM(prccd*cshoc*prccd)/NULLIF(SUM(prccd*cshoc), 0) AS prccd_vw\n",
    "                        \n",
    "                        FROM comp.secd\n",
    "                        \n",
    "                        WHERE EXTRACT(MONTH FROM datadate) IN (5,6) \n",
    "                        AND datadate >= '1999-01-01' \n",
    "                        AND curcdd = 'USD'\n",
    "                        AND tpci in ('0')\n",
    "                        \n",
    "                        GROUP BY gvkey, datadate\n",
    "                        \"\"\")"
   ]
  },
  {
   "cell_type": "markdown",
   "id": "534649e7-f0c7-454f-bcfa-6e66e93b195b",
   "metadata": {},
   "source": [
    "## resampleing to monthly frequency"
   ]
  },
  {
   "cell_type": "code",
   "execution_count": null,
   "id": "b67d824a-1507-419d-b407-2e395df1d0f1",
   "metadata": {},
   "outputs": [],
   "source": [
    "mktcap_comp['date'] = pd.to_datetime(mktcap_comp['date'])"
   ]
  },
  {
   "cell_type": "code",
   "execution_count": null,
   "id": "5b21aec4-4ffc-401a-a669-87898bf15ea9",
   "metadata": {},
   "outputs": [],
   "source": [
    "mktcap_comp_resample = mktcap_comp\n",
    "mktcap_comp_resample['date'] = pd.to_datetime(mktcap_comp_resample['date'])\n",
    "mktcap_comp_resample.set_index('date', inplace=True)\n",
    "mktcap_comp_re_monthly = mktcap_comp_resample.groupby('gvkey').resample('ME', include_groups=False).mean().reset_index().dropna()"
   ]
  },
  {
   "cell_type": "code",
   "execution_count": null,
   "id": "bb34d3e2-1031-4966-8690-f1c73cf3ad77",
   "metadata": {},
   "outputs": [],
   "source": [
    "mktcap_comp_monthly= mktcap_comp_re_monthly.rename(columns={\n",
    "    'prccd': 'prccm',\n",
    "    'cshoc': 'cshom',\n",
    "    'prccd_vw': 'prccm_vw'})"
   ]
  },
  {
   "cell_type": "code",
   "execution_count": null,
   "id": "594f820d-233d-4f36-a034-c02b37013906",
   "metadata": {},
   "outputs": [],
   "source": [
    "mktcap_comp_monthly['tot_mktcap_comp'] = mktcap_comp_monthly['prccm'] * mktcap_comp_monthly['cshom']"
   ]
  },
  {
   "cell_type": "code",
   "execution_count": null,
   "id": "be3a38e8-9810-4ea5-b95c-b737e20f74dd",
   "metadata": {},
   "outputs": [],
   "source": [
    "file_path_2 = 'RR_data/mktcap_comp_monthly.csv' \n",
    "mktcap_comp_monthly.to_csv(file_path_2, index=False)"
   ]
  },
  {
   "cell_type": "markdown",
   "id": "22f7e203-6be9-4f23-989a-9570bb3ccb50",
   "metadata": {},
   "source": [
    "## Quarterly Security Info - cshoq"
   ]
  },
  {
   "cell_type": "markdown",
   "id": "fff91a24-c370-4f6a-8123-9cd5ccfafe3e",
   "metadata": {},
   "source": [
    "### get all shares info(nontraded share classes) from quarterly financial report"
   ]
  },
  {
   "cell_type": "code",
   "execution_count": null,
   "id": "08a7315e-2d28-4a54-bcd9-9a80b968c9fb",
   "metadata": {},
   "outputs": [],
   "source": [
    "cshoq_2 = conn.raw_sql(\"\"\"\n",
    "                        SELECT \n",
    "                        a.gvkey, a.datadate, a.cshoq, \n",
    "                        b.iid, b.ajexm AS ajexq\n",
    "                        \n",
    "                        FROM comp.fundq AS a\n",
    "                        \n",
    "                        LEFT JOIN comp.secm AS b\n",
    "                        \n",
    "                        ON a.gvkey = b.gvkey\n",
    "                        AND DATE_TRUNC('month', a.datadate) + INTERVAL '1 MONTH - 1 day' = DATE_TRUNC('month', b.datadate) + INTERVAL '1 MONTH - 1 day'\n",
    "\n",
    "                        WHERE a.cshoq IS NOT NULL\n",
    "                        \"\"\")"
   ]
  },
  {
   "cell_type": "code",
   "execution_count": null,
   "id": "2cbe54ce-9139-4c8f-b188-e38d2c292782",
   "metadata": {},
   "outputs": [],
   "source": [
    "cshoq_2['datadate'] = pd.to_datetime(cshoq_2['datadate'])"
   ]
  },
  {
   "cell_type": "code",
   "execution_count": null,
   "id": "8f5093d4-283b-4fda-84ed-33602dd16812",
   "metadata": {},
   "outputs": [],
   "source": [
    "#select distinct\n",
    "cshoq_m = cshoq_2_drop.drop_duplicates(subset=['gvkey','iid' , 'datadate', 'cshoq', 'ajexq'])\n",
    "cshoq_m"
   ]
  },
  {
   "cell_type": "code",
   "execution_count": null,
   "id": "0a3303b9-75e6-4922-ae44-811cd36f28ad",
   "metadata": {},
   "outputs": [],
   "source": [
    "cshoq_sort = cshoq_m.sort_values(by=['gvkey', 'iid', 'datadate']).reset_index().drop('index', axis=1)\n",
    "cshoq_group = cshoq_sort.groupby(['gvkey', 'iid', 'datadate'])\n",
    "idx_max = cshoq_group['cshoq'].idxmax()\n",
    "cshoq_max = cshoq_sort.loc[idx_max].reset_index(drop=True)\n",
    "cshoq_max"
   ]
  },
  {
   "cell_type": "code",
   "execution_count": null,
   "id": "b013431a-b826-45c1-b73b-9c0908fef278",
   "metadata": {},
   "outputs": [],
   "source": [
    "cshoq_max= cshoq_max.rename(columns={'datadate': 'date'})"
   ]
  },
  {
   "cell_type": "code",
   "execution_count": null,
   "id": "6df31e63-423c-46d6-b391-8f0321fa4d82",
   "metadata": {},
   "outputs": [],
   "source": [
    "cshoq_merge = cshoq_max.groupby(['gvkey', 'date']).agg({\n",
    "    'cshoq': 'mean',  \n",
    "    'ajexq': 'mean',   \n",
    "}).reset_index()\n",
    "cshoq_merge"
   ]
  },
  {
   "cell_type": "code",
   "execution_count": null,
   "id": "e9b1edfb-27cf-4025-b35f-4dd752370bee",
   "metadata": {},
   "outputs": [],
   "source": [
    "cshoq_merge.set_index('date', inplace=True)\n",
    "\n",
    "# Perform forward fill within each group/Upsample to monthly frequency\n",
    "cshoq_ffill = cshoq_merge.groupby('gvkey').resample('ME', include_groups=False).ffill().reset_index()"
   ]
  },
  {
   "cell_type": "code",
   "execution_count": null,
   "id": "066441fc-0cb0-4927-990b-25557e5589c6",
   "metadata": {},
   "outputs": [],
   "source": [
    "cshoq_ffill['date'] = pd.to_datetime(cshoq_ffill['date'])\n",
    "cshoq_ffill['year'] = cshoq_ffill['date'].dt.year\n",
    "cshoq_ffill['month_day'] = cshoq_ffill['date'].dt.strftime('%m-%d')\n",
    "\n",
    "#keep only the May data of each year\n",
    "russell_month_day = '05-31'\n",
    "cshoq_ffill_may = cshoq_ffill[cshoq_ffill['month_day'] == russell_month_day]"
   ]
  },
  {
   "cell_type": "code",
   "execution_count": null,
   "id": "3fbe3226-3d01-4178-af0b-0068fd41ff96",
   "metadata": {},
   "outputs": [],
   "source": [
    "file_path_3 = 'RR_data/cshoq_ffill_may.csv' \n",
    "cshoq_ffill_may.to_csv(file_path_3, index=False)"
   ]
  },
  {
   "cell_type": "markdown",
   "id": "47fecc81-598f-49a0-bc6c-6baead5dd5fe",
   "metadata": {},
   "source": [
    "## Monthly Security Info"
   ]
  },
  {
   "cell_type": "markdown",
   "id": "41c69be6-3312-468d-a87a-792a7fa6c900",
   "metadata": {},
   "source": [
    "### add ajexm and cusip(first 6 digits for company id) info to mktcap_comp"
   ]
  },
  {
   "cell_type": "code",
   "execution_count": null,
   "id": "40316c64-38f8-46a4-8693-63460a396799",
   "metadata": {},
   "outputs": [],
   "source": [
    "secm_1 = conn.raw_sql(\"\"\"\n",
    "                        SELECT DISTINCT\n",
    "                        gvkey,\n",
    "                        LEFT(cusip, 6) AS cusip_co,\n",
    "                        datadate AS date, \n",
    "                        ajexm\n",
    "                        \n",
    "                        FROM comp.secm\n",
    "                        \n",
    "                        WHERE EXTRACT(MONTH FROM datadate) IN (5,6)\n",
    "                        AND datadate >= '1999-01-01' \n",
    "                        AND curcdm = 'USD'\n",
    "                        AND tpci IN ('0')\n",
    "                        \n",
    "                        \"\"\")"
   ]
  },
  {
   "cell_type": "code",
   "execution_count": null,
   "id": "b303f86e-f757-4191-a0b9-72708664f580",
   "metadata": {},
   "outputs": [],
   "source": [
    "secm_1['date'] = pd.to_datetime(secm_1['date'])"
   ]
  },
  {
   "cell_type": "code",
   "execution_count": null,
   "id": "c970bfee-51b1-4744-8340-2a09be16268f",
   "metadata": {},
   "outputs": [],
   "source": [
    "mktcap_comp_mm = pd.merge(mktcap_comp_monthly, secm_1, on=['gvkey', 'date'], how='left')"
   ]
  },
  {
   "cell_type": "markdown",
   "id": "75a357ad-4ab2-43d6-bd0a-ac1c62b5e63a",
   "metadata": {},
   "source": [
    "### Dealing with Nontraded Shares"
   ]
  },
  {
   "cell_type": "code",
   "execution_count": null,
   "id": "fc2dffe1-c24b-4545-a267-a7ddd2c4e648",
   "metadata": {},
   "outputs": [],
   "source": [
    "mktcap_comp_mm['month'] = mktcap_comp_mm['date'].dt.month\n",
    "\n",
    "# Filter to get only May data (month == 5)\n",
    "mktcap_comp_may = mktcap_comp_mm[mktcap_comp_mm['month'] == 5]\n",
    "\n",
    "# Optionally, drop the 'month' column if you don't need it\n",
    "mktcap_comp_may = mktcap_comp_may.drop(columns=['month'])"
   ]
  },
  {
   "cell_type": "code",
   "execution_count": null,
   "id": "3aa38ce8-9b67-489f-b315-687f5615a852",
   "metadata": {},
   "outputs": [],
   "source": [
    "#find nontraded shares\n",
    "mktcap_cshoq = pd.merge(mktcap_comp_may, cshoq_ffill_may, on=['gvkey', 'date'], how='left')"
   ]
  },
  {
   "cell_type": "code",
   "execution_count": null,
   "id": "f7de1af1-3ae3-4a55-beca-8ef43d4181e4",
   "metadata": {},
   "outputs": [],
   "source": [
    "file_path_4 = 'RR_data/mktcap_cshoq.csv' \n",
    "mktcap_cshoq.to_csv(file_path_4, index=False)"
   ]
  },
  {
   "cell_type": "code",
   "execution_count": null,
   "id": "d6200101-e336-40ac-a494-4436b899829e",
   "metadata": {},
   "outputs": [],
   "source": [
    "columns_to_drop = ['year', 'month_day']\n",
    "mktcap_cshoq_all = mktcap_cshoq.drop(columns=columns_to_drop)"
   ]
  },
  {
   "cell_type": "code",
   "execution_count": null,
   "id": "e4d7c084-514e-4168-95bb-582df9294623",
   "metadata": {},
   "outputs": [],
   "source": [
    "# fill NAs for ajexm and ajexq\n",
    "mktcap_cshoq_all['ajexm'] = mktcap_cshoq_all['ajexm'].fillna(1)\n",
    "mktcap_cshoq_all['ajexq'] = mktcap_cshoq_all['ajexq'].fillna(mktcap_cshoq['ajexm'])"
   ]
  },
  {
   "cell_type": "code",
   "execution_count": null,
   "id": "929c0ac3-c462-4060-985f-caf6b58720fa",
   "metadata": {},
   "outputs": [],
   "source": [
    "mktcap_cshoq_all['cshoq'] = mktcap_cshoq_all['cshoq'].fillna(0)"
   ]
  },
  {
   "cell_type": "code",
   "execution_count": null,
   "id": "c9d7ab02-b379-4278-aa06-3660859e7536",
   "metadata": {},
   "outputs": [],
   "source": [
    "# Calculating tot_mktcap_COMP_ALL\n",
    "mktcap_cshoq_all['tot_mktcap_COMP_ALL'] = ((mktcap_cshoq_all['cshoq'] * mktcap_cshoq_all['ajexq'] - mktcap_cshoq_all['cshom'] * mktcap_cshoq_all['ajexm']) * mktcap_cshoq_all['prccm_vw'] / mktcap_cshoq_all['ajexm'] \n",
    "                             + mktcap_cshoq_all['tot_mktcap_comp'])\n",
    "\n",
    "# If cshoq * ajexq - tot_cshom * ajexm < 0, set tot_mktcap_COMP_ALL to tot_mktcap_COMP\n",
    "condition = (mktcap_cshoq_all['cshoq'] * mktcap_cshoq_all['ajexq'] - mktcap_cshoq_all['cshom'] * mktcap_cshoq_all['ajexm']) < 0\n",
    "mktcap_cshoq_all.loc[condition, 'tot_mktcap_COMP_ALL'] = mktcap_cshoq_all['tot_mktcap_comp']"
   ]
  },
  {
   "cell_type": "code",
   "execution_count": null,
   "id": "0faef60c-a38e-4402-871c-a60a62039b77",
   "metadata": {},
   "outputs": [],
   "source": [
    "file_path_5 = 'RR_data/mktcap_comp_all.csv' \n",
    "mktcap_cshoq_all.to_csv(file_path_5, index=False)"
   ]
  },
  {
   "cell_type": "markdown",
   "id": "ed836007-fe1c-45b7-bbd8-4b01f45f6ad4",
   "metadata": {},
   "source": [
    "### Merging and Ranking"
   ]
  },
  {
   "cell_type": "code",
   "execution_count": null,
   "id": "3658ac46-6229-433c-8db4-30eea8f521c4",
   "metadata": {},
   "outputs": [],
   "source": [
    "mktcap_crsp_monthly['cusip_co'] = mktcap_crsp_monthly['cusip'].astype(str).str[:6]"
   ]
  },
  {
   "cell_type": "code",
   "execution_count": null,
   "id": "1c8926cb-e6e1-4685-b5f6-7655c8eb6758",
   "metadata": {},
   "outputs": [],
   "source": [
    "Russell_1 = pd.merge(mktcap_crsp_monthly, mktcap_cshoq_all, on=['cusip_co', 'date'], how='left')"
   ]
  },
  {
   "cell_type": "code",
   "execution_count": null,
   "id": "6d3f69b8-1cce-42f3-af4e-53a34ccef7d3",
   "metadata": {},
   "outputs": [],
   "source": [
    "# make an individual copy of the original dataframe\n",
    "Russell_2 = Russell_1.copy()\n",
    "\n",
    "# 1. Use CRSP market cap\n",
    "Russell_2['tot_mktcap_r3'] = Russell_2['tot_mrkcap_crsp']\n",
    "\n",
    "# 2. If missing, use Compustat market cap\n",
    "Russell_2['tot_mktcap_r3'] = Russell_2['tot_mktcap_r3'].fillna(Russell_2['tot_mktcap_comp'])\n",
    "\n",
    "# 3. Use Compustat total market cap (tot_mktcap_COMP_ALL) if it's higher due to OTC shares or non-tradable shares\n",
    "Russell_2['tot_mktcap_r3'] = Russell_2.apply(\n",
    "    lambda row: row['tot_mktcap_COMP_ALL'] if row['tot_mktcap_COMP_ALL'] > row['tot_mktcap_r3'] else row['tot_mktcap_r3'],\n",
    "    axis=1\n",
    ")"
   ]
  },
  {
   "cell_type": "code",
   "execution_count": null,
   "id": "711c009a-ce62-4888-b47a-b59ff4c9c052",
   "metadata": {},
   "outputs": [],
   "source": [
    "Russell_2['mkt_value'] = Russell_2['tot_mktcap_r3']\n",
    "Russell_2['mkt_value'] = pd.to_numeric(Russell_2['mkt_value'], errors='coerce')"
   ]
  },
  {
   "cell_type": "code",
   "execution_count": null,
   "id": "2a384b13-97ce-4948-8592-cf23e32d043e",
   "metadata": {},
   "outputs": [],
   "source": [
    "Russell_2_filtered = Russell_2[Russell_2['mkt_value'] > 0]\n",
    "\n",
    "# descending order\n",
    "Russell_2_filtered['Rank'] = Russell_2_filtered.groupby('date')['tot_mktcap_r3'].rank(ascending=False)\n",
    "\n",
    "Russell_3 = Russell_2_filtered.copy()\n",
    "Russell_3.reset_index(drop=True, inplace=True)"
   ]
  },
  {
   "cell_type": "code",
   "execution_count": null,
   "id": "52e04e9b-69a9-4488-9903-01dc64c79734",
   "metadata": {},
   "outputs": [],
   "source": [
    "file_path_6 = 'RR_data/Russell_3_rank.csv' \n",
    "Russell_3.to_csv(file_path_5, index=False)"
   ]
  }
 ],
 "metadata": {
  "kernelspec": {
   "display_name": "Python 3 (ipykernel)",
   "language": "python",
   "name": "python3"
  },
  "language_info": {
   "codemirror_mode": {
    "name": "ipython",
    "version": 3
   },
   "file_extension": ".py",
   "mimetype": "text/x-python",
   "name": "python",
   "nbconvert_exporter": "python",
   "pygments_lexer": "ipython3",
   "version": "3.12.2"
  }
 },
 "nbformat": 4,
 "nbformat_minor": 5
}
