{
 "cells": [
  {
   "cell_type": "markdown",
   "id": "0aeed73e-a1e7-4088-bc62-50b66f8c7c53",
   "metadata": {},
   "source": [
    "## Function - fill NAs by nearby values if two values are the same otherwise zero"
   ]
  },
  {
   "cell_type": "code",
   "execution_count": null,
   "id": "858337fd-b9c0-4709-89de-f1d0e0e8de9a",
   "metadata": {},
   "outputs": [],
   "source": [
    "import pandas as pd\n",
    "import numpy as np\n",
    "\n",
    "data = {'A': [1, np.nan, 3, np.nan,5, np.nan, 5, 5, np.nan, 7]}\n",
    "df = pd.DataFrame(data)\n",
    "\n",
    "# Define a function to fill NaNs only if preceding and succeeding values are the same\n",
    "def fill_if_surrounded_by_same(series):\n",
    "    filled = series.copy()\n",
    "    for i in range(1, len(series) - 1):\n",
    "        if pd.isna(series[i]) and series[i-1] == series[i+1]:\n",
    "            filled[i] = series[i-1]\n",
    "    return filled\n",
    "\n",
    "# Apply the function to the DataFrame column\n",
    "df['A'] = fill_if_surrounded_by_same(df['A'])\n",
    "print(\"DataFrame with conditional filling:\")\n",
    "print(df)"
   ]
  }
 ],
 "metadata": {
  "kernelspec": {
   "display_name": "Python 3 (ipykernel)",
   "language": "python",
   "name": "python3"
  },
  "language_info": {
   "codemirror_mode": {
    "name": "ipython",
    "version": 3
   },
   "file_extension": ".py",
   "mimetype": "text/x-python",
   "name": "python",
   "nbconvert_exporter": "python",
   "pygments_lexer": "ipython3",
   "version": "3.9.13"
  }
 },
 "nbformat": 4,
 "nbformat_minor": 5
}
