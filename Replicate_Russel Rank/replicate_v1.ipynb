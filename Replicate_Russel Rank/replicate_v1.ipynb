{
 "cells": [
  {
   "cell_type": "markdown",
   "id": "380ac0eb-f4c2-474d-8624-31dd8f00eff7",
   "metadata": {},
   "source": [
    "# Generate the Russell Rank Proxy"
   ]
  },
  {
   "cell_type": "code",
   "execution_count": 1,
   "id": "8b27a6dd-2872-45be-8621-6e7e4abc0157",
   "metadata": {},
   "outputs": [],
   "source": [
    "import pandas as pd\n",
    "import numpy as np\n",
    "import wrds"
   ]
  },
  {
   "cell_type": "markdown",
   "id": "52ef5b57-bf6c-4185-8a6b-f9760c3fea05",
   "metadata": {},
   "source": [
    "## Conncet to WRds cloud"
   ]
  },
  {
   "cell_type": "code",
   "execution_count": 50,
   "id": "575b3548-3732-4afc-8d1f-8add57c8af64",
   "metadata": {},
   "outputs": [
    {
     "name": "stdin",
     "output_type": "stream",
     "text": [
      "Enter your WRDS username [lu]: ly229\n",
      "Enter your password: ········\n"
     ]
    },
    {
     "name": "stdout",
     "output_type": "stream",
     "text": [
      "WRDS recommends setting up a .pgpass file.\n"
     ]
    },
    {
     "name": "stdin",
     "output_type": "stream",
     "text": [
      "Create .pgpass file now [y/n]?:  y\n"
     ]
    },
    {
     "name": "stdout",
     "output_type": "stream",
     "text": [
      "Created .pgpass file successfully.\n",
      "You can create this file yourself at any time with the create_pgpass_file() function.\n",
      "Loading library list...\n",
      "Done\n"
     ]
    }
   ],
   "source": [
    "###################\n",
    "# Connect to WRDS #\n",
    "###################\n",
    "conn=wrds.Connection()"
   ]
  },
  {
   "cell_type": "markdown",
   "id": "9f580734-79c0-4e78-9974-74487248bff5",
   "metadata": {},
   "source": [
    "### Create Market Captialization Variables using CRSP daily stock data"
   ]
  },
  {
   "cell_type": "code",
   "execution_count": 43,
   "id": "05d7f555-c1c5-4ce3-9433-a9fee48867f0",
   "metadata": {},
   "outputs": [],
   "source": [
    "mktcap_crsp = conn.raw_sql(\"\"\"\n",
    "                        SELECT DISTINCT \n",
    "                        date AS date, \n",
    "                        permno, \n",
    "                        permco, \n",
    "                        ABS(prc*shrout)/1000 AS mrkcap_CRSP, \n",
    "                        SUM(ABS(prc*shrout)/1000) OVER (PARTITION BY date, permco) AS tot_mrkcap_CRSP\n",
    "                        \n",
    "                        FROM crsp.dsf\n",
    "                        \n",
    "                        WHERE EXTRACT(MONTH FROM date) IN (5,6) \n",
    "                        AND date >= '2000-05-15' \n",
    "                        AND date <= '2008-06-30'\n",
    "                        \"\"\")"
   ]
  },
  {
   "cell_type": "code",
   "execution_count": 44,
   "id": "4694485c-6bf7-44d7-83b8-605ef2c4b5f0",
   "metadata": {},
   "outputs": [],
   "source": [
    "mktcap_crsp['date'] = pd.to_datetime(mktcap_crsp['date'])\n",
    "mktcap_crsp_resample = mktcap_crsp\n",
    "mktcap_crsp_resample.set_index('date', inplace=True)\n",
    "mktcap_crsp_monthly = mktcap_crsp_resample.groupby(['permno', 'permco']).resample('ME', include_groups=False).mean().reset_index()\n",
    "mktcap_crsp_monthly = mktcap_crsp_monthly.dropna()"
   ]
  },
  {
   "cell_type": "code",
   "execution_count": 79,
   "id": "aa4d7576-488c-43f6-a4b2-5ea8cc066d64",
   "metadata": {},
   "outputs": [],
   "source": [
    "#print(mktcap_crsp.head(20))\n",
    "###################\n",
    "#Count unique combinations of \"date, permco\" #\n",
    "## mktcap_crsp_test = mktcap_crsp[0:100000] #\n",
    "# combination_counts = mktcap_crsp_test.drop_duplicates(subset=['date', 'permco']).shape[0] #\n",
    "# print(combination_counts) #\n",
    "###################"
   ]
  },
  {
   "cell_type": "markdown",
   "id": "ffb4f6a7-f061-436c-a4ce-0afb721dcfc4",
   "metadata": {},
   "source": [
    "### Market Cap with Compustat daily securities\n",
    "- out of all types of securities, keep only US listed common/ordinary shares"
   ]
  },
  {
   "cell_type": "code",
   "execution_count": null,
   "id": "61aca809-e3b8-48b8-a9f6-cc51237310cd",
   "metadata": {},
   "outputs": [],
   "source": [
    "mktcap_comp = conn.raw_sql(\"\"\"\n",
    "                        SELECT DISTINCT \n",
    "                        datadate AS date, \n",
    "                        gvkey, \n",
    "                        SUM(prccd*cshoc)/1000000 AS tot_mrkcap_COMP\n",
    "                        \n",
    "                        FROM comp.secd\n",
    "                        \n",
    "                        WHERE EXTRACT(MONTH FROM datadate) IN (5,6) \n",
    "                        AND datadate >= '1999-01-01' \n",
    "                        AND curcdd = 'USD'\n",
    "                        AND tpci in ('0')\n",
    "                        \n",
    "                        GROUP BY gvkey, datadate\n",
    "                        \"\"\")\n",
    "mktcap_comp['date'] = pd.to_datetime(mktcap_comp['date'])"
   ]
  },
  {
   "cell_type": "code",
   "execution_count": null,
   "id": "535bec66-db77-4d4a-9ffe-8a22df40cb2c",
   "metadata": {},
   "outputs": [],
   "source": [
    "print(mktcap_comp.loc[mktcap_comp['permco'] == '1221'])"
   ]
  },
  {
   "cell_type": "code",
   "execution_count": 49,
   "id": "4596d960-2fca-460e-bd92-42c3da1d02bf",
   "metadata": {},
   "outputs": [
    {
     "name": "stdout",
     "output_type": "stream",
     "text": [
      "              date   gvkey  tot_mrkcap_comp\n",
      "4107    2007-05-16  133764         34.82850\n",
      "21033   2009-06-11  133764         30.10000\n",
      "31838   2019-05-14  133764        107.97144\n",
      "32610   2021-06-08  133764        167.00375\n",
      "47987   2020-06-12  133764        118.65060\n",
      "...            ...     ...              ...\n",
      "429686  2006-06-20  133764         34.91670\n",
      "432997  2018-06-22  133764        105.37800\n",
      "447440  2008-05-09  133764         31.80100\n",
      "450562  2024-06-13  133764        104.78219\n",
      "458337  2015-05-15  133764         41.97654\n",
      "\n",
      "[1062 rows x 3 columns]\n"
     ]
    }
   ],
   "source": [
    "print(mktcap_comp.loc[mktcap_comp['gvkey'] == '133764'])"
   ]
  },
  {
   "cell_type": "code",
   "execution_count": 17,
   "id": "11f51867-af3d-4272-8f6b-86ee406ff1eb",
   "metadata": {},
   "outputs": [
    {
     "name": "stdout",
     "output_type": "stream",
     "text": [
      "              date   gvkey tot_mrkcap_comp\n",
      "0       2020-06-03  013679           $6.31\n",
      "2789    2023-06-15  013679          $21.27\n",
      "11126   2024-05-09  013679           $7.01\n",
      "43312   2015-06-16  013679         $105.07\n",
      "68066   2021-05-26  013679          $30.16\n",
      "...            ...     ...             ...\n",
      "380379  2022-06-24  013679          $32.73\n",
      "385226  2018-05-17  013679          $55.93\n",
      "388535  2017-05-04  013679          $62.18\n",
      "410672  2020-05-27  013679           $5.84\n",
      "414463  2024-05-16  013679           $5.84\n",
      "\n",
      "[508 rows x 3 columns]\n"
     ]
    }
   ],
   "source": [
    "mktcap_comp_resample = mktcap_comp\n",
    "mktcap_comp_resample.set_index('date', inplace=True)\n",
    "mktcap_comp_monthly = mktcap_comp_resample.groupby('gvkey').resample('ME', include_groups=False).mean().reset_index()\n",
    "mktcap_comp_monthly = mktcap_comp_monthly.dropna()"
   ]
  },
  {
   "cell_type": "markdown",
   "id": "5210b30c-a2cc-48dd-9ca7-12d9fa7684a7",
   "metadata": {},
   "source": [
    "### Compute MKRT Cap of the non-listed share classes\n",
    "- find and clean data for traded classes from two dataset - fundq and secm(quarterly macro data and monthly securities data)\n",
    "- find non-listed ones and merge"
   ]
  },
  {
   "cell_type": "code",
   "execution_count": 92,
   "id": "c702a282-ac61-42e0-886c-129071d95ea1",
   "metadata": {},
   "outputs": [],
   "source": [
    "cshoq_1 = conn.raw_sql(\"\"\"\n",
    "                        SELECT \n",
    "                        a.gvkey, a.datadate, a.cshoq, a.fyr, \n",
    "                        b.iid, b.ajexm AS ajexq\n",
    "                        \n",
    "                        FROM comp.fundq AS a\n",
    "                        \n",
    "                        LEFT JOIN comp.secm AS b\n",
    "                        \n",
    "                        ON a.gvkey = b.gvkey\n",
    "                        AND DATE_TRUNC('month', a.datadate) + INTERVAL '1 MONTH - 1 day' = DATE_TRUNC('month', b.datadate) + INTERVAL '1 MONTH - 1 day'\n",
    "                        \n",
    "                        WHERE a.cshoq IS NOT NULL\n",
    "                        \"\"\")\n",
    "\n",
    "cshoq_1['datadate'] = pd.to_datetime(cshoq_1['datadate'])\n",
    "\n",
    "#select distinct\n",
    "cshoq_m = cshoq_1.drop_duplicates(subset=['gvkey','iid' , 'datadate', 'cshoq', 'ajexq'])\n",
    "\n",
    "#keep max cshoq\n",
    "cshoq_sort = cshoq_m.sort_values(by=['gvkey', 'iid', 'datadate']).reset_index().drop('index', axis=1)\n",
    "cshoq_group = cshoq_sort.groupby(['gvkey', 'iid', 'datadate'])\n",
    "idx_max = cshoq_group['cshoq'].idxmax()\n",
    "cshoq_max = cshoq_sort.loc[idx_max].reset_index(drop=True)\n",
    "\n",
    "#unique_iids = cshoq_max['iid'].unique()\n",
    "#print(unique_iids)"
   ]
  },
  {
   "cell_type": "code",
   "execution_count": null,
   "id": "a4333840-076d-4f50-acb6-f18c04eb4d2d",
   "metadata": {},
   "outputs": [],
   "source": [
    "#populate forward(fill missing monthly data)\n",
    "cshoq_max = cshoq_max.sort_values(by=['gvkey', 'iid', 'datadate'])\n",
    "\n",
    "#cshoq_max['cshoq'] = cshoq_max.groupby(['gvkey', 'iid'])['cshoq'].transform(lambda x: x.ffill(limit=12))\n",
    "\n",
    "cshoq_max.set_index('datadate', inplace=True)\n",
    "\n",
    "# Perform forward fill within each group/Upsample to monthly frequency\n",
    "cshoq_ffill = cshoq_max.groupby(['gvkey', 'iid']).resample('ME', include_groups=False).ffill().reset_index()\n",
    "\n",
    "print(cshoq_ffill)\n"
   ]
  },
  {
   "cell_type": "code",
   "execution_count": 205,
   "id": "8ce81593-72ab-4ac2-8011-2cba6d3b5215",
   "metadata": {},
   "outputs": [],
   "source": [
    "secm_1 = conn.raw_sql(\"\"\"\n",
    "                        SELECT DISTINCT\n",
    "                        gvkey,\n",
    "                        iid,\n",
    "                        datadate,  \n",
    "                        prccm,\n",
    "                        iid,\n",
    "                        ajexm,\n",
    "                        cshom\n",
    "                        \n",
    "                        FROM comp.secm\n",
    "                        \n",
    "                        WHERE datadate >= '1999-01-01' \n",
    "                        AND curcdm = 'USD'\n",
    "                        AND tpci IN ('0')\n",
    "                        \n",
    "                        \"\"\")"
   ]
  },
  {
   "cell_type": "code",
   "execution_count": 249,
   "id": "323fe4e1-8193-470e-8318-3e329cb19944",
   "metadata": {},
   "outputs": [
    {
     "data": {
      "text/plain": [
       "'\\nsecm_1_test = conn.raw_sql(\"\"\"\\n                            SELECT DISTINCT\\n                            gvkey,\\n                            iid,\\n                            datadate,  \\n                            prccm,\\n                            iid,\\n                            ajexm,\\n                            cshom\\n\\n                            FROM comp.secm\\n\\n                            WHERE datadate >= \\'1999-01-01\\' \\n                            AND curcdm = \\'USD\\'\\n                            AND tpci IN (\\'0\\')\\n                            AND gvkey IN (\\'023523\\',\\'100001\\')\\n\\n\\n                            \"\"\")\\nsecm_1_test[\\'datadate\\'] = pd.to_datetime(secm_1_test[\\'datadate\\'])\\ndf_secm1_test_sort = secm_1_test.sort_values(by=[\\'gvkey\\', \\'datadate\\']).reset_index().drop(\\'index\\', axis=1)\\n'"
      ]
     },
     "execution_count": 249,
     "metadata": {},
     "output_type": "execute_result"
    }
   ],
   "source": [
    "'''\n",
    "secm_1_test = conn.raw_sql(\"\"\"\n",
    "                            SELECT DISTINCT\n",
    "                            gvkey,\n",
    "                            iid,\n",
    "                            datadate,  \n",
    "                            prccm,\n",
    "                            ajexm,\n",
    "                            cshom\n",
    "\n",
    "                            FROM comp.secm\n",
    "\n",
    "                            WHERE datadate >= '1999-01-01' \n",
    "                            AND curcdm = 'USD'\n",
    "                            AND tpci IN ('0')\n",
    "                            AND gvkey IN ('023523','100001')\n",
    "\n",
    "\n",
    "                            \"\"\")\n",
    "secm_1_test['datadate'] = pd.to_datetime(secm_1_test['datadate'])\n",
    "df_secm1_test_sort = secm_1_test.sort_values(by=['gvkey', 'datadate']).reset_index().drop('index', axis=1)\n",
    "'''"
   ]
  },
  {
   "cell_type": "code",
   "execution_count": 250,
   "id": "be60d4d4-041b-4cf8-a8c0-812c2e6333d3",
   "metadata": {},
   "outputs": [],
   "source": [
    "#sort value need to apply 'drop index' in order to process the dataframe in correct order"
   ]
  },
  {
   "cell_type": "code",
   "execution_count": 251,
   "id": "beee6b6f-7bec-4baf-a59a-7271a9b7b1fb",
   "metadata": {},
   "outputs": [
    {
     "name": "stdout",
     "output_type": "stream",
     "text": [
      "DataFrame with conditional filling:\n",
      "      gvkey iid   datadate   prccm iid  ajexm       cshom\n",
      "252  023523  01 2021-05-31  0.3500  01    1.0  46415000.0\n",
      "253  023523  01 2021-06-30  0.6045  01    1.0  46415000.0\n",
      "254  023523  01 2021-07-31  0.1550  01    1.0  46415000.0\n",
      "255  023523  01 2021-08-31  0.1150  01    1.0  46415000.0\n",
      "      gvkey iid   datadate    prccm iid  ajexm        cshom\n",
      "290  023523  01 2024-07-31   0.0101  01    1.0   46415000.0\n",
      "291  100001  01 2003-07-31  37.3115  01    1.0          0.0\n",
      "292  100001  01 2003-08-31  38.0870  01    1.0          0.0\n",
      "293  100001  01 2003-09-30  36.6282  01    1.0          0.0\n",
      "294  100001  01 2003-10-31  37.9303  01    1.0          0.0\n",
      "295  100001  01 2003-11-30  41.1200  01    1.0          0.0\n",
      "296  100001  01 2003-12-31  44.1840  01    1.0          0.0\n",
      "297  100001  01 2004-01-31  46.2500  01    1.0          0.0\n",
      "298  100001  01 2022-02-28  35.0100  01    1.0  261856000.0\n",
      "299  100001  01 2022-03-31   0.0000  01    0.0  261856000.0\n"
     ]
    }
   ],
   "source": [
    "# Define a function to fill NaNs only if preceding and succeeding values are the same\n",
    "def fill_if_surrounded_by_same(series):\n",
    "    filled = series.copy()\n",
    "    for i in range(1, len(series) - 1):\n",
    "        if pd.isna(series[i]) and series[i-1] == series[i+1]:\n",
    "            filled[i] = series[i-1]\n",
    "    return filled"
   ]
  },
  {
   "cell_type": "code",
   "execution_count": null,
   "id": "742f9834-ef4a-41f1-ba9b-b2d07a4dd827",
   "metadata": {},
   "outputs": [],
   "source": [
    "# Apply the function to the DataFrame column\n",
    "df_secm1_test_sort['cshom'] = fill_if_surrounded_by_same(df_secm1_test_sort['cshom'])\n",
    "df_secm1_test_sort.fillna(0, inplace=True)\n",
    "\n",
    "print (df_secm1_test_sort.iloc[252:256, :])\n",
    "print (df_secm1_test_sort.iloc[290:300, :])"
   ]
  },
  {
   "cell_type": "code",
   "execution_count": 254,
   "id": "8bfc3674-e064-457d-884a-2d20c2783995",
   "metadata": {},
   "outputs": [],
   "source": [
    "secm_1['datadate'] = pd.to_datetime(secm_1['datadate'])\n",
    "secm_1['cshom'] /= 1_000_000\n",
    "secm_1['mktcap_COMP'] = secm_1['cshom'] * secm_1['prccm']\n",
    "\n",
    "secm_1['date'] = secm_1['datadate'] + pd.offsets.MonthEnd(0)\n",
    "\n",
    "#different_rows = secm_1_test[secm_1_test['datadate'] != secm_1_test['date']]\n",
    "#print(different_rows) returns: none  -- dates transfer might be unnecessary"
   ]
  },
  {
   "cell_type": "code",
   "execution_count": 276,
   "id": "a94f23e6-e620-41d9-bf45-9ab1f13da288",
   "metadata": {},
   "outputs": [],
   "source": [
    "secm_1_test = secm_1[0:100000]\n",
    "\n",
    "#dealing NaNs \n",
    "df_secm1_test_sort = secm_1_test.sort_values(by=['gvkey', 'datadate']).reset_index().drop('index', axis=1)\n",
    "df_secm1_test_sort['cshom'] = fill_if_surrounded_by_same(df_secm1_test_sort['cshom'])\n",
    "df_secm1_test_sort.fillna(0, inplace=True)\n",
    "\n",
    "df_secm1_groups = df_secm1_test_sort.groupby(['gvkey', 'datadate'])"
   ]
  },
  {
   "cell_type": "code",
   "execution_count": 253,
   "id": "43deaab5-6d03-4e48-9644-79e8e9ac8195",
   "metadata": {},
   "outputs": [
    {
     "data": {
      "text/plain": [
       "\"\\nspecific_row = secm_1_test[(secm_1_test['gvkey'] == '011556') & (secm_1_test['datadate'] == '2002-06-30')]\\ntest = ['348892','160709','023523','100001']\\n\\nfiltered = df_secm1_groups.filter(lambda x: x['gvkey'].iloc[0] in test)\\nspecific_row = df_secm1_groups.loc[secm_1_test['gvkey'].isin(test)]\\nspecific_1 = secm_1_test.loc[secm_1_test['gvkey'] == '100001']\\nna_in_A = secm_1_test[secm_1_test['ajexm'].isna()]\\n\\nprint(filtered)\\n\""
      ]
     },
     "execution_count": 253,
     "metadata": {},
     "output_type": "execute_result"
    }
   ],
   "source": [
    "'''\n",
    "specific_row = secm_1_test[(secm_1_test['gvkey'] == '011556') & (secm_1_test['datadate'] == '2002-06-30')]\n",
    "test = ['348892','160709','023523','100001']\n",
    "\n",
    "filtered = df_secm1_groups.filter(lambda x: x['gvkey'].iloc[0] in test)\n",
    "specific_row = df_secm1_groups.loc[secm_1_test['gvkey'].isin(test)]\n",
    "specific_1 = secm_1_test.loc[secm_1_test['gvkey'] == '100001']\n",
    "na_in_A = secm_1_test[secm_1_test['ajexm'].isna()]\n",
    "\n",
    "print(filtered)\n",
    "'''"
   ]
  },
  {
   "cell_type": "code",
   "execution_count": 277,
   "id": "1a0e42e6-e1e1-4e8f-8824-891401ba5781",
   "metadata": {},
   "outputs": [
    {
     "name": "stdout",
     "output_type": "stream",
     "text": [
      "('001823', Timestamp('2015-08-31 00:00:00'))\n",
      "58888.865605599996 58888.865605599996\n",
      "('001823', Timestamp('2019-10-31 00:00:00'))\n",
      "27393.5784776 27393.5784776\n",
      "('002150', Timestamp('2008-03-31 00:00:00'))\n",
      "11557.0935233 11557.0935233\n",
      "('002710', Timestamp('2011-06-30 00:00:00'))\n",
      "93052.5733116 93052.5733116\n",
      "('004842', Timestamp('1999-04-30 00:00:00'))\n",
      "18340.031089843753 18340.031089843753\n",
      "('005567', Timestamp('2022-03-31 00:00:00'))\n",
      "2593679.2159977998 2593679.2159977998\n",
      "('005567', Timestamp('2023-01-31 00:00:00'))\n",
      "3060877.6803399 3060877.6803399\n",
      "('005763', Timestamp('2015-08-31 00:00:00'))\n",
      "11066.6745719 11066.6745719\n",
      "('006116', Timestamp('2013-09-30 00:00:00'))\n",
      "50678.07568749999 50678.07568749999\n",
      "('006379', Timestamp('2014-01-31 00:00:00'))\n",
      "19495.5946812 19495.5946812\n",
      "('006379', Timestamp('2019-10-31 00:00:00'))\n",
      "22958.608102500002 22958.608102500002\n",
      "('006710', Timestamp('2015-04-30 00:00:00'))\n",
      "0.00510598802 0.00510598802\n",
      "('008434', Timestamp('2000-02-29 00:00:00'))\n",
      "4746.8509375 4746.8509375\n",
      "('010386', Timestamp('2002-11-30 00:00:00'))\n",
      "40798.98858419999 40798.98858419999\n",
      "('011313', Timestamp('2001-08-31 00:00:00'))\n",
      "5347.714045200001 5347.714045200001\n",
      "('011313', Timestamp('2020-01-31 00:00:00'))\n",
      "1165608.737026128 1165608.737026128\n",
      "('011609', Timestamp('2003-03-31 00:00:00'))\n",
      "718468.0115 718468.0115\n",
      "('012108', Timestamp('2011-03-31 00:00:00'))\n",
      "('015153', Timestamp('2020-12-31 00:00:00'))\n",
      "55136.749084496005 55136.749084496005\n",
      "('017010', Timestamp('2018-10-31 00:00:00'))\n",
      "545952.2979127001 545952.2979127001\n",
      "('017341', Timestamp('2016-04-30 00:00:00'))\n",
      "6652.421458399998 6652.421458399998\n",
      "('017650', Timestamp('2009-04-30 00:00:00'))\n",
      "11025.0 11025.0\n",
      "('020699', Timestamp('2023-07-31 00:00:00'))\n",
      "6183.900858662 6183.900858662\n",
      "('023391', Timestamp('2004-01-31 00:00:00'))\n",
      "('025946', Timestamp('2014-07-31 00:00:00'))\n",
      "18.385994039999996 18.385994039999996\n",
      "('027186', Timestamp('2019-07-31 00:00:00'))\n",
      "9443.867289999998 9443.867289999998\n",
      "('064008', Timestamp('1999-11-30 00:00:00'))\n",
      "4073.6282062859996 4073.6282062859996\n",
      "('154511', Timestamp('2022-02-28 00:00:00'))\n",
      "1820415.9851849999 1820415.9851849999\n",
      "('160329', Timestamp('2016-01-31 00:00:00'))\n",
      "359578856.41384006 359578856.41384006\n",
      "('160549', Timestamp('2012-10-31 00:00:00'))\n",
      "558694.7006455 558694.7006455\n",
      "('176065', Timestamp('2009-06-30 00:00:00'))\n",
      "43.552028589129996 43.552028589129996\n"
     ]
    },
    {
     "data": {
      "text/html": [
       "<div>\n",
       "<style scoped>\n",
       "    .dataframe tbody tr th:only-of-type {\n",
       "        vertical-align: middle;\n",
       "    }\n",
       "\n",
       "    .dataframe tbody tr th {\n",
       "        vertical-align: top;\n",
       "    }\n",
       "\n",
       "    .dataframe thead th {\n",
       "        text-align: right;\n",
       "    }\n",
       "</style>\n",
       "<table border=\"1\" class=\"dataframe\">\n",
       "  <thead>\n",
       "    <tr style=\"text-align: right;\">\n",
       "      <th></th>\n",
       "      <th>gvkey</th>\n",
       "      <th>iid</th>\n",
       "      <th>datadate</th>\n",
       "      <th>prccm</th>\n",
       "      <th>iid</th>\n",
       "      <th>ajexm</th>\n",
       "      <th>cshom</th>\n",
       "      <th>mktcap_COMP</th>\n",
       "      <th>date</th>\n",
       "      <th>prccm_vw</th>\n",
       "      <th>tot_cshom</th>\n",
       "      <th>tot_mktcap_COMP</th>\n",
       "    </tr>\n",
       "  </thead>\n",
       "  <tbody>\n",
       "    <tr>\n",
       "      <th>1054</th>\n",
       "      <td>001823</td>\n",
       "      <td>01</td>\n",
       "      <td>2015-08-31</td>\n",
       "      <td>51.6600</td>\n",
       "      <td>01</td>\n",
       "      <td>1.000000</td>\n",
       "      <td>17.271</td>\n",
       "      <td>892.219860</td>\n",
       "      <td>2015-08-31</td>\n",
       "      <td>1.0</td>\n",
       "      <td>22.126</td>\n",
       "      <td>1141.475560</td>\n",
       "    </tr>\n",
       "    <tr>\n",
       "      <th>1055</th>\n",
       "      <td>001823</td>\n",
       "      <td>02</td>\n",
       "      <td>2015-08-31</td>\n",
       "      <td>51.3400</td>\n",
       "      <td>02</td>\n",
       "      <td>1.520875</td>\n",
       "      <td>4.855</td>\n",
       "      <td>249.255700</td>\n",
       "      <td>2015-08-31</td>\n",
       "      <td>1.0</td>\n",
       "      <td>22.126</td>\n",
       "      <td>1141.475560</td>\n",
       "    </tr>\n",
       "    <tr>\n",
       "      <th>1058</th>\n",
       "      <td>001823</td>\n",
       "      <td>02</td>\n",
       "      <td>2019-10-31</td>\n",
       "      <td>29.0000</td>\n",
       "      <td>02</td>\n",
       "      <td>1.000000</td>\n",
       "      <td>7.909</td>\n",
       "      <td>229.361000</td>\n",
       "      <td>2019-10-31</td>\n",
       "      <td>1.0</td>\n",
       "      <td>32.675</td>\n",
       "      <td>946.089040</td>\n",
       "    </tr>\n",
       "    <tr>\n",
       "      <th>1059</th>\n",
       "      <td>001823</td>\n",
       "      <td>01</td>\n",
       "      <td>2019-10-31</td>\n",
       "      <td>28.9400</td>\n",
       "      <td>01</td>\n",
       "      <td>1.000000</td>\n",
       "      <td>24.766</td>\n",
       "      <td>716.728040</td>\n",
       "      <td>2019-10-31</td>\n",
       "      <td>1.0</td>\n",
       "      <td>32.675</td>\n",
       "      <td>946.089040</td>\n",
       "    </tr>\n",
       "    <tr>\n",
       "      <th>1548</th>\n",
       "      <td>002150</td>\n",
       "      <td>02</td>\n",
       "      <td>2008-03-31</td>\n",
       "      <td>11.0000</td>\n",
       "      <td>02</td>\n",
       "      <td>1.000000</td>\n",
       "      <td>14.243</td>\n",
       "      <td>156.673000</td>\n",
       "      <td>2008-03-31</td>\n",
       "      <td>1.0</td>\n",
       "      <td>102.260</td>\n",
       "      <td>1087.012690</td>\n",
       "    </tr>\n",
       "    <tr>\n",
       "      <th>...</th>\n",
       "      <td>...</td>\n",
       "      <td>...</td>\n",
       "      <td>...</td>\n",
       "      <td>...</td>\n",
       "      <td>...</td>\n",
       "      <td>...</td>\n",
       "      <td>...</td>\n",
       "      <td>...</td>\n",
       "      <td>...</td>\n",
       "      <td>...</td>\n",
       "      <td>...</td>\n",
       "      <td>...</td>\n",
       "    </tr>\n",
       "    <tr>\n",
       "      <th>82040</th>\n",
       "      <td>160329</td>\n",
       "      <td>03</td>\n",
       "      <td>2016-01-31</td>\n",
       "      <td>742.9500</td>\n",
       "      <td>03</td>\n",
       "      <td>20.000000</td>\n",
       "      <td>345.504</td>\n",
       "      <td>256692.196800</td>\n",
       "      <td>2016-01-31</td>\n",
       "      <td>1.0</td>\n",
       "      <td>636.832</td>\n",
       "      <td>478494.769600</td>\n",
       "    </tr>\n",
       "    <tr>\n",
       "      <th>82268</th>\n",
       "      <td>160549</td>\n",
       "      <td>02</td>\n",
       "      <td>2012-10-31</td>\n",
       "      <td>61.0300</td>\n",
       "      <td>02</td>\n",
       "      <td>1.000000</td>\n",
       "      <td>10.207</td>\n",
       "      <td>622.933210</td>\n",
       "      <td>2012-10-31</td>\n",
       "      <td>1.0</td>\n",
       "      <td>154.695</td>\n",
       "      <td>9296.547850</td>\n",
       "    </tr>\n",
       "    <tr>\n",
       "      <th>82269</th>\n",
       "      <td>160549</td>\n",
       "      <td>01</td>\n",
       "      <td>2012-10-31</td>\n",
       "      <td>60.0300</td>\n",
       "      <td>01</td>\n",
       "      <td>1.000000</td>\n",
       "      <td>144.488</td>\n",
       "      <td>8673.614640</td>\n",
       "      <td>2012-10-31</td>\n",
       "      <td>1.0</td>\n",
       "      <td>154.695</td>\n",
       "      <td>9296.547850</td>\n",
       "    </tr>\n",
       "    <tr>\n",
       "      <th>89169</th>\n",
       "      <td>176065</td>\n",
       "      <td>01</td>\n",
       "      <td>2009-06-30</td>\n",
       "      <td>1.6699</td>\n",
       "      <td>01</td>\n",
       "      <td>1.000000</td>\n",
       "      <td>13.113</td>\n",
       "      <td>21.897399</td>\n",
       "      <td>2009-06-30</td>\n",
       "      <td>1.0</td>\n",
       "      <td>15.394</td>\n",
       "      <td>25.889149</td>\n",
       "    </tr>\n",
       "    <tr>\n",
       "      <th>89170</th>\n",
       "      <td>176065</td>\n",
       "      <td>02</td>\n",
       "      <td>2009-06-30</td>\n",
       "      <td>1.7500</td>\n",
       "      <td>02</td>\n",
       "      <td>1.000000</td>\n",
       "      <td>2.281</td>\n",
       "      <td>3.991750</td>\n",
       "      <td>2009-06-30</td>\n",
       "      <td>1.0</td>\n",
       "      <td>15.394</td>\n",
       "      <td>25.889149</td>\n",
       "    </tr>\n",
       "  </tbody>\n",
       "</table>\n",
       "<p>62 rows × 12 columns</p>\n",
       "</div>"
      ],
      "text/plain": [
       "        gvkey iid   datadate     prccm iid      ajexm    cshom    mktcap_COMP  \\\n",
       "1054   001823  01 2015-08-31   51.6600  01   1.000000   17.271     892.219860   \n",
       "1055   001823  02 2015-08-31   51.3400  02   1.520875    4.855     249.255700   \n",
       "1058   001823  02 2019-10-31   29.0000  02   1.000000    7.909     229.361000   \n",
       "1059   001823  01 2019-10-31   28.9400  01   1.000000   24.766     716.728040   \n",
       "1548   002150  02 2008-03-31   11.0000  02   1.000000   14.243     156.673000   \n",
       "...       ...  ..        ...       ...  ..        ...      ...            ...   \n",
       "82040  160329  03 2016-01-31  742.9500  03  20.000000  345.504  256692.196800   \n",
       "82268  160549  02 2012-10-31   61.0300  02   1.000000   10.207     622.933210   \n",
       "82269  160549  01 2012-10-31   60.0300  01   1.000000  144.488    8673.614640   \n",
       "89169  176065  01 2009-06-30    1.6699  01   1.000000   13.113      21.897399   \n",
       "89170  176065  02 2009-06-30    1.7500  02   1.000000    2.281       3.991750   \n",
       "\n",
       "            date  prccm_vw  tot_cshom  tot_mktcap_COMP  \n",
       "1054  2015-08-31       1.0     22.126      1141.475560  \n",
       "1055  2015-08-31       1.0     22.126      1141.475560  \n",
       "1058  2019-10-31       1.0     32.675       946.089040  \n",
       "1059  2019-10-31       1.0     32.675       946.089040  \n",
       "1548  2008-03-31       1.0    102.260      1087.012690  \n",
       "...          ...       ...        ...              ...  \n",
       "82040 2016-01-31       1.0    636.832    478494.769600  \n",
       "82268 2012-10-31       1.0    154.695      9296.547850  \n",
       "82269 2012-10-31       1.0    154.695      9296.547850  \n",
       "89169 2009-06-30       1.0     15.394        25.889149  \n",
       "89170 2009-06-30       1.0     15.394        25.889149  \n",
       "\n",
       "[62 rows x 12 columns]"
      ]
     },
     "execution_count": 277,
     "metadata": {},
     "output_type": "execute_result"
    }
   ],
   "source": [
    "df_secm2_out = pd.DataFrame()\n",
    "for idx, df_group in df_secm1_groups:\n",
    "    if (len(df_group)>1):\n",
    "        print (idx)\n",
    "#        break\n",
    "        tot_cshom = df_group.cshom.sum()\n",
    "        tot_mktcap_COMP = df_group.mktcap_COMP.sum()\n",
    "        if sum(df_group.mktcap_COMP*abs(df_group.prccm)>0):\n",
    "        #if (sum(df_group.mktcap_COMP*abs(df_group.prccm))>0):\n",
    "            print(sum(df_group.mktcap_COMP*df_group.prccm), sum(df_group.mktcap_COMP*abs(df_group.prccm)))\n",
    "            prccm_vw= sum(df_group.mktcap_COMP*df_group.prccm)/sum(df_group.mktcap_COMP*abs(df_group.prccm))\n",
    "\n",
    "            df_group.loc[:, \"prccm_vw\"] = prccm_vw\n",
    "        else:\n",
    "            #continue\n",
    "            df_group.loc[:, \"prccm_vw\"] = 0\n",
    "        df_group.loc[:, \"tot_cshom\"] = tot_cshom\n",
    "        df_group.loc[:, \"tot_mktcap_COMP\"] = tot_mktcap_COMP\n",
    "\n",
    "    #out.append([tot_cshom, tot_mktcap_COMP, prccm_vw, idx[0], idx[1]])\n",
    "    #df_out = pd.DataFrame(data = out, columns = ['tot_cshom', 'tot_mktcap_COMP', 'prccm_vw', 'gvkey', 'date'])\n",
    "                          #{'tot_cshom':tot_cshom, 'tot_mktcap_COMP': tot_mktcap_COMP, 'prccm_vw': prccm_vw, 'gvkey': idx[0], \n",
    "                          #      'date': idx[1]}, index=None) #, 'iid': df_group.iid.unique()[0], 'ajexm': df_group.ajexm.unique()[0]})\n",
    "    #df_group = df_group.fillna(0)\n",
    "    \n",
    "        df_secm2_out = pd.concat([df_secm2_out, df_group])\n",
    "    #break\n",
    "df_secm2_out"
   ]
  },
  {
   "cell_type": "code",
   "execution_count": 271,
   "id": "e3b76e4d-8af1-4981-90e5-544ce47c9ae7",
   "metadata": {},
   "outputs": [
    {
     "name": "stdout",
     "output_type": "stream",
     "text": [
      "Empty DataFrame\n",
      "Columns: [gvkey, iid, datadate, prccm, iid, ajexm, cshom, mktcap_COMP, date, prccm_vw, tot_cshom, tot_mktcap_COMP]\n",
      "Index: []\n"
     ]
    }
   ],
   "source": [
    "values = [0, 1]\n",
    "filtered_rows = df_secm2_out[~df_secm2_out['prccm_vw'].isin(values)]\n",
    "print(filtered_rows)"
   ]
  },
  {
   "cell_type": "code",
   "execution_count": 269,
   "id": "be3b919b-4f50-4bde-8dba-162e2f58495f",
   "metadata": {},
   "outputs": [
    {
     "name": "stdout",
     "output_type": "stream",
     "text": [
      "       gvkey iid   datadate     prccm iid  ajexm   cshom  mktcap_COMP  \\\n",
      "28    001262  01 2018-02-28   12.3238  01    1.0    0.00          0.0   \n",
      "40    001332  01 2004-12-31    0.0001  01    1.0    0.00          0.0   \n",
      "114   001950  01 2007-11-30    0.0001  01    1.0    0.00          0.0   \n",
      "115   001953  01 2005-05-31    0.0001  01    1.0    0.00          0.0   \n",
      "143   002158  01 2003-12-31    0.0001  01    1.0    0.00          0.0   \n",
      "...      ...  ..        ...       ...  ..    ...     ...          ...   \n",
      "9978  316895  01 2017-04-30   24.7590  01    1.0    0.00          0.0   \n",
      "9979  318434  01 2021-06-30  119.5100  01    1.0    0.00          0.0   \n",
      "9985  327589  01 2020-10-31    2.7000  01    1.0    0.00          0.0   \n",
      "9986  327675  01 2022-06-30   12.0522  01    1.0    0.00          0.0   \n",
      "9997  348892  01 2023-02-28    0.0000  01    0.0  126.53          0.0   \n",
      "\n",
      "           date  prccm_vw  tot_cshom  tot_mktcap_COMP  \n",
      "28   2018-02-28       0.0       0.00              0.0  \n",
      "40   2004-12-31       0.0       0.00              0.0  \n",
      "114  2007-11-30       0.0       0.00              0.0  \n",
      "115  2005-05-31       0.0       0.00              0.0  \n",
      "143  2003-12-31       0.0       0.00              0.0  \n",
      "...         ...       ...        ...              ...  \n",
      "9978 2017-04-30       0.0       0.00              0.0  \n",
      "9979 2021-06-30       0.0       0.00              0.0  \n",
      "9985 2020-10-31       0.0       0.00              0.0  \n",
      "9986 2022-06-30       0.0       0.00              0.0  \n",
      "9997 2023-02-28       0.0     126.53              0.0  \n",
      "\n",
      "[780 rows x 12 columns]\n"
     ]
    }
   ],
   "source": [
    "filtered_rows = df_secm2_out.loc[df_secm2_out['prccm_vw'] != 1]\n",
    "print(filtered_rows)"
   ]
  },
  {
   "cell_type": "code",
   "execution_count": 262,
   "id": "413b6056-efea-466e-895d-c0d61846ebf7",
   "metadata": {},
   "outputs": [
    {
     "name": "stdout",
     "output_type": "stream",
     "text": [
      "Number of zeros in the column: 780\n"
     ]
    }
   ],
   "source": [
    "#zero_count = len(df_secm2_out[df_secm2_out['prccm_vw'] == 0])\n",
    "#print(f\"Number of zeros in the column: {zero_count}\")"
   ]
  },
  {
   "cell_type": "code",
   "execution_count": null,
   "id": "4c314443-6d64-40b7-a003-e11877bc519f",
   "metadata": {},
   "outputs": [],
   "source": []
  }
 ],
 "metadata": {
  "kernelspec": {
   "display_name": "Python 3 (ipykernel)",
   "language": "python",
   "name": "python3"
  },
  "language_info": {
   "codemirror_mode": {
    "name": "ipython",
    "version": 3
   },
   "file_extension": ".py",
   "mimetype": "text/x-python",
   "name": "python",
   "nbconvert_exporter": "python",
   "pygments_lexer": "ipython3",
   "version": "3.12.4"
  }
 },
 "nbformat": 4,
 "nbformat_minor": 5
}
