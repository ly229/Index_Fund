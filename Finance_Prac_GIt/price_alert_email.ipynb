{
 "cells": [
  {
   "cell_type": "markdown",
   "id": "96a0968f-00bb-4ea4-a3ca-bf811030bcb5",
   "metadata": {},
   "source": [
    "## set up emial alter for price change\n",
    "- pulls up-to-date stock data using pandas_datareader (backed by yfinance).\n",
    "- ends an email alert once when the condition is met.\n",
    "- uses environment variables for credentials (good for security)."
   ]
  },
  {
   "cell_type": "code",
   "execution_count": 6,
   "id": "c1f7c39d-f232-4fc5-bb45-3792078873ff",
   "metadata": {},
   "outputs": [
    {
     "name": "stdout",
     "output_type": "stream",
     "text": [
      "\n",
      "CondaError: Run 'conda init' before 'conda activate'\n",
      "\n",
      "\n",
      "Note: you may need to restart the kernel to use updated packages.\n"
     ]
    }
   ],
   "source": [
    "#install packacge needed\n",
    "#conda activate base   ##activate environment if needed\n",
    "#conda install -c conda-forge yfinance -y\n",
    "#conda install -c conda-forge pandas_datareader -y(not successful, installed in terminal)"
   ]
  },
  {
   "cell_type": "code",
   "execution_count": 4,
   "id": "7017936b-c94e-4032-9593-73bbb9c316e6",
   "metadata": {},
   "outputs": [],
   "source": [
    "import os\n",
    "import smtplib\n",
    "from email.message import EmailMessage\n",
    "import yfinance as yf\n",
    "import datetime as dt\n",
    "from pandas_datareader import data as pdr\n",
    "import time"
   ]
  },
  {
   "cell_type": "code",
   "execution_count": 5,
   "id": "49834855-79ed-41e1-894d-6b386afcd2ef",
   "metadata": {},
   "outputs": [],
   "source": [
    "# Email credentials from environment variables\n",
    "EMAIL_ADDRESS = os.environ.get('EMAIL_USER')\n",
    "EMAIL_PASSWORD = os.environ.get('EMAIL_PASS')\n",
    "#EMAIL_PASSWORD = 'your-app-password-here' if the emial need Two-Factor Authentication like gmail"
   ]
  },
  {
   "cell_type": "code",
   "execution_count": 11,
   "id": "906902a5-b146-44e2-a6c4-ed539e4fa76b",
   "metadata": {},
   "outputs": [],
   "source": [
    "# Stock and target price settings\n",
    "##testing## stock = \"QQQ\" , target_price = 180\n",
    "stocks = {\n",
    "    \"QQQ\": 180,\n",
    "    \"SPY\": 400,\n",
    "    \"AAPL\": 150,\n",
    "    \"GOOGL\": 2500\n",
    "}"
   ]
  },
  {
   "cell_type": "code",
   "execution_count": 12,
   "id": "8d77e51d-374c-41b3-bc90-9197659f50de",
   "metadata": {},
   "outputs": [],
   "source": [
    "# Email setup\n",
    "msg = EmailMessage()\n",
    "msg['Subject'] = f'Alert on {stock}!'\n",
    "msg['From'] = EMAIL_ADDRESS\n",
    "msg['To'] = 'recipient@example.com'  # Set the recipient email address\n",
    "\n",
    "# Time settings\n",
    "start = dt.datetime(2018, 12, 1)\n",
    "now = dt.datetime.now()"
   ]
  },
  {
   "cell_type": "code",
   "execution_count": 13,
   "id": "77f12e92-40c7-475a-8b8e-600054fd3257",
   "metadata": {},
   "outputs": [
    {
     "name": "stderr",
     "output_type": "stream",
     "text": [
      "/tmp/ipykernel_4277/149506504.py:15: FutureWarning: Series.__getitem__ treating keys as positions is deprecated. In a future version, integer keys will always be treated as labels (consistent with DataFrame behavior). To access a value by position, use `ser.iloc[pos]`\n",
      "  current_price = df[\"Close\"][-1]  # Get the most recent closing price\n"
     ]
    },
    {
     "name": "stdout",
     "output_type": "stream",
     "text": [
      "QQQ has reached the alert price of 180\n",
      "Current Price: 488.8299865722656\n",
      "Error occurred while sending email for QQQ: (334, b'UGFzc3dvcmQ6')\n"
     ]
    },
    {
     "name": "stderr",
     "output_type": "stream",
     "text": [
      "/tmp/ipykernel_4277/149506504.py:15: FutureWarning: Series.__getitem__ treating keys as positions is deprecated. In a future version, integer keys will always be treated as labels (consistent with DataFrame behavior). To access a value by position, use `ser.iloc[pos]`\n",
      "  current_price = df[\"Close\"][-1]  # Get the most recent closing price\n"
     ]
    },
    {
     "name": "stdout",
     "output_type": "stream",
     "text": [
      "SPY has reached the alert price of 400\n",
      "Current Price: 566.760009765625\n",
      "Error occurred while sending email for SPY: (334, b'UGFzc3dvcmQ6')\n"
     ]
    },
    {
     "name": "stderr",
     "output_type": "stream",
     "text": [
      "/tmp/ipykernel_4277/149506504.py:15: FutureWarning: Series.__getitem__ treating keys as positions is deprecated. In a future version, integer keys will always be treated as labels (consistent with DataFrame behavior). To access a value by position, use `ser.iloc[pos]`\n",
      "  current_price = df[\"Close\"][-1]  # Get the most recent closing price\n",
      "/tmp/ipykernel_4277/149506504.py:15: FutureWarning: Series.__getitem__ treating keys as positions is deprecated. In a future version, integer keys will always be treated as labels (consistent with DataFrame behavior). To access a value by position, use `ser.iloc[pos]`\n",
      "  current_price = df[\"Close\"][-1]  # Get the most recent closing price\n"
     ]
    },
    {
     "name": "stdout",
     "output_type": "stream",
     "text": [
      "AAPL has reached the alert price of 150\n",
      "Current Price: 205.35000610351562\n",
      "Error occurred while sending email for AAPL: (334, b'UGFzc3dvcmQ6')\n",
      "2025-05-03 21:23:13.896907: No new alerts for GOOGL. Current Price: 164.02999877929688\n"
     ]
    },
    {
     "name": "stderr",
     "output_type": "stream",
     "text": [
      "/tmp/ipykernel_4277/149506504.py:15: FutureWarning: Series.__getitem__ treating keys as positions is deprecated. In a future version, integer keys will always be treated as labels (consistent with DataFrame behavior). To access a value by position, use `ser.iloc[pos]`\n",
      "  current_price = df[\"Close\"][-1]  # Get the most recent closing price\n",
      "/tmp/ipykernel_4277/149506504.py:15: FutureWarning: Series.__getitem__ treating keys as positions is deprecated. In a future version, integer keys will always be treated as labels (consistent with DataFrame behavior). To access a value by position, use `ser.iloc[pos]`\n",
      "  current_price = df[\"Close\"][-1]  # Get the most recent closing price\n",
      "/tmp/ipykernel_4277/149506504.py:15: FutureWarning: Series.__getitem__ treating keys as positions is deprecated. In a future version, integer keys will always be treated as labels (consistent with DataFrame behavior). To access a value by position, use `ser.iloc[pos]`\n",
      "  current_price = df[\"Close\"][-1]  # Get the most recent closing price\n"
     ]
    },
    {
     "name": "stdout",
     "output_type": "stream",
     "text": [
      "2025-05-03 21:24:13.967839: No new alerts for QQQ. Current Price: 488.8299865722656\n",
      "2025-05-03 21:24:14.052884: No new alerts for SPY. Current Price: 566.760009765625\n",
      "2025-05-03 21:24:14.152825: No new alerts for AAPL. Current Price: 205.35000610351562\n"
     ]
    },
    {
     "name": "stderr",
     "output_type": "stream",
     "text": [
      "/tmp/ipykernel_4277/149506504.py:15: FutureWarning: Series.__getitem__ treating keys as positions is deprecated. In a future version, integer keys will always be treated as labels (consistent with DataFrame behavior). To access a value by position, use `ser.iloc[pos]`\n",
      "  current_price = df[\"Close\"][-1]  # Get the most recent closing price\n"
     ]
    },
    {
     "name": "stdout",
     "output_type": "stream",
     "text": [
      "2025-05-03 21:24:14.253205: No new alerts for GOOGL. Current Price: 164.02999877929688\n"
     ]
    },
    {
     "ename": "KeyboardInterrupt",
     "evalue": "",
     "output_type": "error",
     "traceback": [
      "\u001b[0;31m---------------------------------------------------------------------------\u001b[0m",
      "\u001b[0;31mKeyboardInterrupt\u001b[0m                         Traceback (most recent call last)",
      "Cell \u001b[0;32mIn[13], line 41\u001b[0m\n\u001b[1;32m     38\u001b[0m         \u001b[38;5;28mprint\u001b[39m(\u001b[38;5;124mf\u001b[39m\u001b[38;5;124m\"\u001b[39m\u001b[38;5;124mError occurred for \u001b[39m\u001b[38;5;132;01m{\u001b[39;00mstock\u001b[38;5;132;01m}\u001b[39;00m\u001b[38;5;124m: \u001b[39m\u001b[38;5;132;01m{\u001b[39;00me\u001b[38;5;132;01m}\u001b[39;00m\u001b[38;5;124m\"\u001b[39m)\n\u001b[1;32m     40\u001b[0m \u001b[38;5;66;03m# Wait for 60 seconds before checking again\u001b[39;00m\n\u001b[0;32m---> 41\u001b[0m time\u001b[38;5;241m.\u001b[39msleep(\u001b[38;5;241m60\u001b[39m)\n",
      "\u001b[0;31mKeyboardInterrupt\u001b[0m: "
     ]
    }
   ],
   "source": [
    "# Initialize alerted flags\n",
    "alerted_flags = {stock: False for stock in stocks}\n",
    "\n",
    "# Main loop\n",
    "while True:\n",
    "    for stock, target_price in stocks.items():\n",
    "        try:\n",
    "            ticker = yf.Ticker(stock)\n",
    "            df = ticker.history(period=\"1mo\")  # Get historical data for the last month\n",
    "\n",
    "            if df.empty:\n",
    "                print(f\"{dt.datetime.now()}: No data available for {stock}\")\n",
    "                continue  # Skip this stock if there's no data available\n",
    "\n",
    "            current_price = df[\"Close\"][-1]  # Get the most recent closing price\n",
    "\n",
    "            # Check if the price has reached the target and if the alert hasn't been triggered\n",
    "            if current_price > target_price and not alerted_flags[stock]:\n",
    "                alerted_flags[stock] = True\n",
    "                message = f\"{stock} has reached the alert price of {target_price}\\nCurrent Price: {current_price}\"\n",
    "                print(message)\n",
    "                msg.set_content(message)\n",
    "\n",
    "                # Send email alert\n",
    "                try:\n",
    "                    with smtplib.SMTP_SSL('smtp.gmail.com', 465) as smtp:\n",
    "                        smtp.login(EMAIL_ADDRESS, EMAIL_PASSWORD)  # Using app password if 2FA is enabled\n",
    "                        smtp.send_message(msg)\n",
    "                        print(f\"Email sent for {stock} successfully.\")\n",
    "                except smtplib.SMTPAuthenticationError as auth_error:\n",
    "                    print(f\"Authentication failed: {auth_error}\")\n",
    "                except Exception as e:\n",
    "                    print(f\"Error occurred while sending email for {stock}: {e}\")\n",
    "            else:\n",
    "                print(f\"{dt.datetime.now()}: No new alerts for {stock}. Current Price: {current_price}\")\n",
    "\n",
    "        except Exception as e:\n",
    "            print(f\"Error occurred for {stock}: {e}\")\n",
    "\n",
    "    # Wait for 60 seconds before checking again\n",
    "    time.sleep(60)"
   ]
  },
  {
   "cell_type": "code",
   "execution_count": 10,
   "id": "218ffbfd-7c8c-4f68-b90c-cd879d8ab1e8",
   "metadata": {},
   "outputs": [
    {
     "name": "stderr",
     "output_type": "stream",
     "text": [
      "/tmp/ipykernel_4277/472561347.py:9: FutureWarning: Series.__getitem__ treating keys as positions is deprecated. In a future version, integer keys will always be treated as labels (consistent with DataFrame behavior). To access a value by position, use `ser.iloc[pos]`\n",
      "  current_price = ticker.history(period=\"1mo\")[\"Close\"][-1]\n"
     ]
    },
    {
     "name": "stdout",
     "output_type": "stream",
     "text": [
      "QQQ has reached the alert price of 180\n",
      "Current Price: 488.8299865722656\n",
      "Error occurred: (334, b'UGFzc3dvcmQ6')\n"
     ]
    },
    {
     "name": "stderr",
     "output_type": "stream",
     "text": [
      "/tmp/ipykernel_4277/472561347.py:9: FutureWarning: Series.__getitem__ treating keys as positions is deprecated. In a future version, integer keys will always be treated as labels (consistent with DataFrame behavior). To access a value by position, use `ser.iloc[pos]`\n",
      "  current_price = ticker.history(period=\"1mo\")[\"Close\"][-1]\n"
     ]
    },
    {
     "name": "stdout",
     "output_type": "stream",
     "text": [
      "2025-05-03 21:12:53.388343: No new alerts. Current Price: 488.8299865722656\n"
     ]
    },
    {
     "name": "stderr",
     "output_type": "stream",
     "text": [
      "/tmp/ipykernel_4277/472561347.py:9: FutureWarning: Series.__getitem__ treating keys as positions is deprecated. In a future version, integer keys will always be treated as labels (consistent with DataFrame behavior). To access a value by position, use `ser.iloc[pos]`\n",
      "  current_price = ticker.history(period=\"1mo\")[\"Close\"][-1]\n"
     ]
    },
    {
     "name": "stdout",
     "output_type": "stream",
     "text": [
      "2025-05-03 21:13:53.472322: No new alerts. Current Price: 488.8299865722656\n"
     ]
    },
    {
     "name": "stderr",
     "output_type": "stream",
     "text": [
      "/tmp/ipykernel_4277/472561347.py:9: FutureWarning: Series.__getitem__ treating keys as positions is deprecated. In a future version, integer keys will always be treated as labels (consistent with DataFrame behavior). To access a value by position, use `ser.iloc[pos]`\n",
      "  current_price = ticker.history(period=\"1mo\")[\"Close\"][-1]\n"
     ]
    },
    {
     "name": "stdout",
     "output_type": "stream",
     "text": [
      "2025-05-03 21:14:53.560418: No new alerts. Current Price: 488.8299865722656\n"
     ]
    },
    {
     "name": "stderr",
     "output_type": "stream",
     "text": [
      "/tmp/ipykernel_4277/472561347.py:9: FutureWarning: Series.__getitem__ treating keys as positions is deprecated. In a future version, integer keys will always be treated as labels (consistent with DataFrame behavior). To access a value by position, use `ser.iloc[pos]`\n",
      "  current_price = ticker.history(period=\"1mo\")[\"Close\"][-1]\n"
     ]
    },
    {
     "name": "stdout",
     "output_type": "stream",
     "text": [
      "2025-05-03 21:15:53.659968: No new alerts. Current Price: 488.8299865722656\n"
     ]
    },
    {
     "name": "stderr",
     "output_type": "stream",
     "text": [
      "/tmp/ipykernel_4277/472561347.py:9: FutureWarning: Series.__getitem__ treating keys as positions is deprecated. In a future version, integer keys will always be treated as labels (consistent with DataFrame behavior). To access a value by position, use `ser.iloc[pos]`\n",
      "  current_price = ticker.history(period=\"1mo\")[\"Close\"][-1]\n"
     ]
    },
    {
     "name": "stdout",
     "output_type": "stream",
     "text": [
      "2025-05-03 21:16:53.731761: No new alerts. Current Price: 488.8299865722656\n"
     ]
    },
    {
     "name": "stderr",
     "output_type": "stream",
     "text": [
      "/tmp/ipykernel_4277/472561347.py:9: FutureWarning: Series.__getitem__ treating keys as positions is deprecated. In a future version, integer keys will always be treated as labels (consistent with DataFrame behavior). To access a value by position, use `ser.iloc[pos]`\n",
      "  current_price = ticker.history(period=\"1mo\")[\"Close\"][-1]\n"
     ]
    },
    {
     "name": "stdout",
     "output_type": "stream",
     "text": [
      "2025-05-03 21:17:53.841105: No new alerts. Current Price: 488.8299865722656\n"
     ]
    },
    {
     "name": "stderr",
     "output_type": "stream",
     "text": [
      "/tmp/ipykernel_4277/472561347.py:9: FutureWarning: Series.__getitem__ treating keys as positions is deprecated. In a future version, integer keys will always be treated as labels (consistent with DataFrame behavior). To access a value by position, use `ser.iloc[pos]`\n",
      "  current_price = ticker.history(period=\"1mo\")[\"Close\"][-1]\n"
     ]
    },
    {
     "name": "stdout",
     "output_type": "stream",
     "text": [
      "2025-05-03 21:18:53.925817: No new alerts. Current Price: 488.8299865722656\n"
     ]
    },
    {
     "name": "stderr",
     "output_type": "stream",
     "text": [
      "/tmp/ipykernel_4277/472561347.py:9: FutureWarning: Series.__getitem__ treating keys as positions is deprecated. In a future version, integer keys will always be treated as labels (consistent with DataFrame behavior). To access a value by position, use `ser.iloc[pos]`\n",
      "  current_price = ticker.history(period=\"1mo\")[\"Close\"][-1]\n"
     ]
    },
    {
     "name": "stdout",
     "output_type": "stream",
     "text": [
      "2025-05-03 21:19:53.998146: No new alerts. Current Price: 488.8299865722656\n"
     ]
    },
    {
     "name": "stderr",
     "output_type": "stream",
     "text": [
      "/tmp/ipykernel_4277/472561347.py:9: FutureWarning: Series.__getitem__ treating keys as positions is deprecated. In a future version, integer keys will always be treated as labels (consistent with DataFrame behavior). To access a value by position, use `ser.iloc[pos]`\n",
      "  current_price = ticker.history(period=\"1mo\")[\"Close\"][-1]\n"
     ]
    },
    {
     "name": "stdout",
     "output_type": "stream",
     "text": [
      "2025-05-03 21:20:54.078071: No new alerts. Current Price: 488.8299865722656\n"
     ]
    },
    {
     "name": "stderr",
     "output_type": "stream",
     "text": [
      "/tmp/ipykernel_4277/472561347.py:9: FutureWarning: Series.__getitem__ treating keys as positions is deprecated. In a future version, integer keys will always be treated as labels (consistent with DataFrame behavior). To access a value by position, use `ser.iloc[pos]`\n",
      "  current_price = ticker.history(period=\"1mo\")[\"Close\"][-1]\n"
     ]
    },
    {
     "name": "stdout",
     "output_type": "stream",
     "text": [
      "2025-05-03 21:21:54.154273: No new alerts. Current Price: 488.8299865722656\n"
     ]
    },
    {
     "name": "stderr",
     "output_type": "stream",
     "text": [
      "/tmp/ipykernel_4277/472561347.py:9: FutureWarning: Series.__getitem__ treating keys as positions is deprecated. In a future version, integer keys will always be treated as labels (consistent with DataFrame behavior). To access a value by position, use `ser.iloc[pos]`\n",
      "  current_price = ticker.history(period=\"1mo\")[\"Close\"][-1]\n"
     ]
    },
    {
     "name": "stdout",
     "output_type": "stream",
     "text": [
      "2025-05-03 21:22:54.229619: No new alerts. Current Price: 488.8299865722656\n"
     ]
    },
    {
     "ename": "KeyboardInterrupt",
     "evalue": "",
     "output_type": "error",
     "traceback": [
      "\u001b[0;31m---------------------------------------------------------------------------\u001b[0m",
      "\u001b[0;31mKeyboardInterrupt\u001b[0m                         Traceback (most recent call last)",
      "Cell \u001b[0;32mIn[10], line 26\u001b[0m\n\u001b[1;32m     23\u001b[0m \u001b[38;5;28;01mexcept\u001b[39;00m \u001b[38;5;167;01mException\u001b[39;00m \u001b[38;5;28;01mas\u001b[39;00m e:\n\u001b[1;32m     24\u001b[0m     \u001b[38;5;28mprint\u001b[39m(\u001b[38;5;124mf\u001b[39m\u001b[38;5;124m\"\u001b[39m\u001b[38;5;124mError occurred: \u001b[39m\u001b[38;5;132;01m{\u001b[39;00me\u001b[38;5;132;01m}\u001b[39;00m\u001b[38;5;124m\"\u001b[39m)\n\u001b[0;32m---> 26\u001b[0m time\u001b[38;5;241m.\u001b[39msleep(\u001b[38;5;241m60\u001b[39m)\n",
      "\u001b[0;31mKeyboardInterrupt\u001b[0m: "
     ]
    }
   ],
   "source": [
    "##testing for one stock##\n",
    "# Initialize alerted flag\n",
    "alerted = False\n",
    "\n",
    "# Main loop\n",
    "while True:\n",
    "    try:\n",
    "        ticker = yf.Ticker(stock)\n",
    "        current_price = ticker.history(period=\"1mo\")[\"Close\"][-1]\n",
    "\n",
    "        if current_price > target_price and not alerted:\n",
    "            alerted = True\n",
    "            message = f\"{stock} has reached the alert price of {target_price}\\nCurrent Price: {current_price}\"\n",
    "            print(message)\n",
    "            msg.set_content(message)\n",
    "\n",
    "            with smtplib.SMTP_SSL('smtp.gmail.com', 465) as smtp:\n",
    "                smtp.login(EMAIL_ADDRESS, EMAIL_PASSWORD)\n",
    "                smtp.send_message(msg)\n",
    "                print(\"Email sent successfully.\")\n",
    "        else:\n",
    "            print(f\"{dt.datetime.now()}: No new alerts. Current Price: {current_price}\")\n",
    "    except Exception as e:\n",
    "        print(f\"Error occurred: {e}\")\n",
    "\n",
    "    time.sleep(60)"
   ]
  },
  {
   "cell_type": "code",
   "execution_count": null,
   "id": "bc93c32b-2f7e-432c-82d3-00b4a89b97a6",
   "metadata": {},
   "outputs": [],
   "source": []
  }
 ],
 "metadata": {
  "kernelspec": {
   "display_name": "Python 3 (ipykernel)",
   "language": "python",
   "name": "python3"
  },
  "language_info": {
   "codemirror_mode": {
    "name": "ipython",
    "version": 3
   },
   "file_extension": ".py",
   "mimetype": "text/x-python",
   "name": "python",
   "nbconvert_exporter": "python",
   "pygments_lexer": "ipython3",
   "version": "3.12.2"
  }
 },
 "nbformat": 4,
 "nbformat_minor": 5
}
