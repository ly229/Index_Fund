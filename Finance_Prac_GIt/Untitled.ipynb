{
 "cells": [
  {
   "cell_type": "code",
   "execution_count": 1,
   "id": "38119e9b-0173-40ba-badc-1fd11fb7c750",
   "metadata": {},
   "outputs": [
    {
     "ename": "ModuleNotFoundError",
     "evalue": "No module named 'config'",
     "output_type": "error",
     "traceback": [
      "\u001b[0;31m---------------------------------------------------------------------------\u001b[0m",
      "\u001b[0;31mModuleNotFoundError\u001b[0m                       Traceback (most recent call last)",
      "Cell \u001b[0;32mIn[1], line 4\u001b[0m\n\u001b[1;32m      2\u001b[0m \u001b[38;5;28;01mimport\u001b[39;00m \u001b[38;5;21;01mrequests\u001b[39;00m\n\u001b[1;32m      3\u001b[0m \u001b[38;5;28;01mimport\u001b[39;00m \u001b[38;5;21;01mpandas\u001b[39;00m \u001b[38;5;28;01mas\u001b[39;00m \u001b[38;5;21;01mpd\u001b[39;00m\n\u001b[0;32m----> 4\u001b[0m \u001b[38;5;28;01mfrom\u001b[39;00m \u001b[38;5;21;01mconfig\u001b[39;00m \u001b[38;5;28;01mimport\u001b[39;00m financial_model_prep\n",
      "\u001b[0;31mModuleNotFoundError\u001b[0m: No module named 'config'"
     ]
    }
   ],
   "source": [
    "# Import dependencies\n",
    "import requests\n",
    "import pandas as pd\n",
    "from config import financial_model_prep"
   ]
  },
  {
   "cell_type": "code",
   "execution_count": null,
   "id": "fe11e134-34f2-4c64-8dbe-a3aced7c4831",
   "metadata": {},
   "outputs": [],
   "source": [
    "# Import dependencies\n",
    "import requests\n",
    "import pandas as pd\n",
    "from config import financial_model_prep\n",
    "\n",
    "# Get the API key\n",
    "demo = financial_model_prep()\n",
    "\n",
    "# Define search criteria for the stock screener\n",
    "marketcap = str(1000000000)\n",
    "url = f'https://financialmodelingprep.com/api/v3/stock-screener?marketCapMoreThan={marketcap}&betaMoreThan=1&volumeMoreThan=10000&sector=Technology&exchange=NASDAQ&dividendMoreThan=0&limit=1000&apikey={demo}'\n",
    "\n",
    "# Fetch list of companies meeting criteria\n",
    "screener = requests.get(url).json()\n",
    "\n",
    "# Extract symbols of companies\n",
    "companies = [item['symbol'] for item in screener]\n",
    "\n",
    "# Initialize dictionary for storing financial ratios\n",
    "value_ratios = {}\n",
    "\n",
    "# Limit the number of companies for ratio extraction\n",
    "max_companies = 30\n",
    "\n",
    "# Process financial ratios for each company\n",
    "for count, company in enumerate(companies):\n",
    "    if count >= max_companies:\n",
    "        break\n",
    "\n",
    "    try:\n",
    "        # Fetch financial and growth ratios\n",
    "        fin_url = f'https://financialmodelingprep.com/api/v3/ratios/{company}?apikey={demo}'\n",
    "        growth_url = f'https://financialmodelingprep.com/api/v3/financial-growth/{company}?apikey={demo}'\n",
    "\n",
    "        fin_ratios = requests.get(fin_url).json()\n",
    "        growth_ratios = requests.get(growth_url).json()\n",
    "\n",
    "        # Store required ratios\n",
    "        ratios = { 'ROE': fin_ratios[0]['returnOnEquity'], \n",
    "                   'ROA': fin_ratios[0]['returnOnAssets'], \n",
    "                   # Additional ratios can be added here\n",
    "                 }\n",
    "\n",
    "        growth = { 'Revenue_Growth': growth_ratios[0]['revenueGrowth'],\n",
    "                   'NetIncome_Growth': growth_ratios[0]['netIncomeGrowth'],\n",
    "                   # Additional growth metrics can be added here\n",
    "                 }\n",
    "\n",
    "        value_ratios[company] = {**ratios, **growth}\n",
    "    except Exception as e:\n",
    "        print(f\"Error processing {company}: {e}\")\n",
    "\n",
    "# Convert to DataFrame and display\n",
    "df = pd.DataFrame.from_dict(value_ratios, orient='index')\n",
    "print(df.head())\n",
    "\n",
    "# Define and apply ranking criteria\n",
    "criteria = { 'ROE': 1.2, 'ROA': 1.1, 'Debt_Ratio': -1.1, # etc.\n",
    "             'Revenue_Growth': 1.25, 'NetIncome_Growth': 1.10 }\n",
    "\n",
    "# Normalize and rank companies\n",
    "mean_values = df.mean()\n",
    "normalized_df = df / mean_values\n",
    "normalized_df['ranking'] = sum(normalized_df[col] * weight for col, weight in criteria.items())\n",
    "\n",
    "# Print ranked companies\n",
    "print(normalized_df.sort_values(by=['ranking'], ascending=False))"
   ]
  }
 ],
 "metadata": {
  "kernelspec": {
   "display_name": "Python 3 (ipykernel)",
   "language": "python",
   "name": "python3"
  },
  "language_info": {
   "codemirror_mode": {
    "name": "ipython",
    "version": 3
   },
   "file_extension": ".py",
   "mimetype": "text/x-python",
   "name": "python",
   "nbconvert_exporter": "python",
   "pygments_lexer": "ipython3",
   "version": "3.12.2"
  }
 },
 "nbformat": 4,
 "nbformat_minor": 5
}
